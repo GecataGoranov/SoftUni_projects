{
 "cells": [
  {
   "cell_type": "code",
   "execution_count": 1,
   "id": "b3c68f37-b00a-4a58-923b-827841f995c7",
   "metadata": {},
   "outputs": [],
   "source": [
    "%matplotlib inline"
   ]
  },
  {
   "cell_type": "code",
   "execution_count": 2,
   "id": "bb8c5630-11b2-41b9-98a2-f67d6cebc323",
   "metadata": {},
   "outputs": [
    {
     "name": "stderr",
     "output_type": "stream",
     "text": [
      "/usr/lib/python3.12/site-packages/tqdm/auto.py:21: TqdmWarning: IProgress not found. Please update jupyter and ipywidgets. See https://ipywidgets.readthedocs.io/en/stable/user_install.html\n",
      "  from .autonotebook import tqdm as notebook_tqdm\n"
     ]
    }
   ],
   "source": [
    "# Write your imports here\n",
    "import numpy as np\n",
    "import pandas as pd\n",
    "import matplotlib.pyplot as plt\n",
    "import re\n",
    "import nltk\n",
    "import torch\n",
    "\n",
    "from collections import Counter\n",
    "from nltk.corpus import stopwords\n",
    "from nltk.stem.porter import *\n",
    "from sklearn.feature_extraction.text import CountVectorizer\n",
    "from transformers import AutoTokenizer, AutoModelForSequenceClassification"
   ]
  },
  {
   "cell_type": "markdown",
   "id": "0375379c-19e4-4e50-9f63-5c74cf81ece5",
   "metadata": {},
   "source": [
    "# Working with Text Lab\n",
    "## Information retrieval, preprocessing, and feature extraction"
   ]
  },
  {
   "cell_type": "markdown",
   "id": "d92edf71-988c-4e95-b17f-987095e9246a",
   "metadata": {},
   "source": [
    "In this lab, you'll be looking at and exploring European restaurant reviews. The dataset is rather tiny, but that's just because it has to run on any machine. In real life, just like with images, texts can be several terabytes long.\n",
    "\n",
    "The dataset is located [here](https://www.kaggle.com/datasets/gorororororo23/european-restaurant-reviews) and as always, it's been provided to you in the `data/` folder."
   ]
  },
  {
   "cell_type": "markdown",
   "id": "888cf2cf-1cd7-4538-a7a2-462e80b1df99",
   "metadata": {},
   "source": [
    "### Problem 1. Read the dataset (1 point)\n",
    "Read the dataset, get acquainted with it. Ensure the data is valid before you proceed.\n",
    "\n",
    "How many observations are there? Which country is the most represented? What time range does the dataset represent?\n",
    "\n",
    "Is the sample balanced in terms of restaurants, i.e., do you have an equal number of reviews for each one? Most importantly, is the dataset balanced in terms of **sentiment**?"
   ]
  },
  {
   "cell_type": "markdown",
   "id": "6a0569d3-3530-4bf1-a290-72237194d13e",
   "metadata": {},
   "source": [
    "Lets take a look at the dataset:"
   ]
  },
  {
   "cell_type": "code",
   "execution_count": 3,
   "id": "74ce0e79-96aa-45f5-b75e-0e163288dd41",
   "metadata": {},
   "outputs": [
    {
     "data": {
      "text/html": [
       "<div>\n",
       "<style scoped>\n",
       "    .dataframe tbody tr th:only-of-type {\n",
       "        vertical-align: middle;\n",
       "    }\n",
       "\n",
       "    .dataframe tbody tr th {\n",
       "        vertical-align: top;\n",
       "    }\n",
       "\n",
       "    .dataframe thead th {\n",
       "        text-align: right;\n",
       "    }\n",
       "</style>\n",
       "<table border=\"1\" class=\"dataframe\">\n",
       "  <thead>\n",
       "    <tr style=\"text-align: right;\">\n",
       "      <th></th>\n",
       "      <th>Country</th>\n",
       "      <th>Restaurant Name</th>\n",
       "      <th>Sentiment</th>\n",
       "      <th>Review Title</th>\n",
       "      <th>Review Date</th>\n",
       "      <th>Review</th>\n",
       "    </tr>\n",
       "  </thead>\n",
       "  <tbody>\n",
       "    <tr>\n",
       "      <th>0</th>\n",
       "      <td>France</td>\n",
       "      <td>The Frog at Bercy Village</td>\n",
       "      <td>Negative</td>\n",
       "      <td>Rude manager</td>\n",
       "      <td>May 2024 •</td>\n",
       "      <td>The manager became agressive when I said the c...</td>\n",
       "    </tr>\n",
       "    <tr>\n",
       "      <th>1</th>\n",
       "      <td>France</td>\n",
       "      <td>The Frog at Bercy Village</td>\n",
       "      <td>Negative</td>\n",
       "      <td>A big disappointment</td>\n",
       "      <td>Feb 2024 •</td>\n",
       "      <td>I ordered a beef fillet ask to be done medium,...</td>\n",
       "    </tr>\n",
       "    <tr>\n",
       "      <th>2</th>\n",
       "      <td>France</td>\n",
       "      <td>The Frog at Bercy Village</td>\n",
       "      <td>Negative</td>\n",
       "      <td>Pretty Place with Bland Food</td>\n",
       "      <td>Nov 2023 •</td>\n",
       "      <td>This is an attractive venue with welcoming, al...</td>\n",
       "    </tr>\n",
       "    <tr>\n",
       "      <th>3</th>\n",
       "      <td>France</td>\n",
       "      <td>The Frog at Bercy Village</td>\n",
       "      <td>Negative</td>\n",
       "      <td>Great service and wine but inedible food</td>\n",
       "      <td>Mar 2023 •</td>\n",
       "      <td>Sadly I  used the high TripAdvisor rating too ...</td>\n",
       "    </tr>\n",
       "    <tr>\n",
       "      <th>4</th>\n",
       "      <td>France</td>\n",
       "      <td>The Frog at Bercy Village</td>\n",
       "      <td>Negative</td>\n",
       "      <td>Avoid- Worst meal in Rome - possibly ever</td>\n",
       "      <td>Nov 2022 •</td>\n",
       "      <td>From the start this meal was bad- especially g...</td>\n",
       "    </tr>\n",
       "    <tr>\n",
       "      <th>...</th>\n",
       "      <td>...</td>\n",
       "      <td>...</td>\n",
       "      <td>...</td>\n",
       "      <td>...</td>\n",
       "      <td>...</td>\n",
       "      <td>...</td>\n",
       "    </tr>\n",
       "    <tr>\n",
       "      <th>1497</th>\n",
       "      <td>Cuba</td>\n",
       "      <td>Old Square (Plaza Vieja)</td>\n",
       "      <td>Negative</td>\n",
       "      <td>The Tourism Trap</td>\n",
       "      <td>Oct 2016 •</td>\n",
       "      <td>Despite the other reviews saying that this is ...</td>\n",
       "    </tr>\n",
       "    <tr>\n",
       "      <th>1498</th>\n",
       "      <td>Cuba</td>\n",
       "      <td>Old Square (Plaza Vieja)</td>\n",
       "      <td>Negative</td>\n",
       "      <td>the beer factory</td>\n",
       "      <td>Oct 2016 •</td>\n",
       "      <td>beer is good.  food is awfull  The only decent...</td>\n",
       "    </tr>\n",
       "    <tr>\n",
       "      <th>1499</th>\n",
       "      <td>Cuba</td>\n",
       "      <td>Old Square (Plaza Vieja)</td>\n",
       "      <td>Negative</td>\n",
       "      <td>brewery</td>\n",
       "      <td>Oct 2016 •</td>\n",
       "      <td>for terrible service of a truly comedic level,...</td>\n",
       "    </tr>\n",
       "    <tr>\n",
       "      <th>1500</th>\n",
       "      <td>Cuba</td>\n",
       "      <td>Old Square (Plaza Vieja)</td>\n",
       "      <td>Negative</td>\n",
       "      <td>It's nothing exciting over there</td>\n",
       "      <td>Oct 2016 •</td>\n",
       "      <td>We visited the Havana's Club Museum which is l...</td>\n",
       "    </tr>\n",
       "    <tr>\n",
       "      <th>1501</th>\n",
       "      <td>Cuba</td>\n",
       "      <td>Old Square (Plaza Vieja)</td>\n",
       "      <td>Negative</td>\n",
       "      <td>Tourist Trap</td>\n",
       "      <td>Oct 2016 •</td>\n",
       "      <td>Food and service was awful. Very pretty stop. ...</td>\n",
       "    </tr>\n",
       "  </tbody>\n",
       "</table>\n",
       "<p>1502 rows × 6 columns</p>\n",
       "</div>"
      ],
      "text/plain": [
       "     Country            Restaurant Name Sentiment  \\\n",
       "0     France  The Frog at Bercy Village  Negative   \n",
       "1     France  The Frog at Bercy Village  Negative   \n",
       "2     France  The Frog at Bercy Village  Negative   \n",
       "3     France  The Frog at Bercy Village  Negative   \n",
       "4     France  The Frog at Bercy Village  Negative   \n",
       "...      ...                        ...       ...   \n",
       "1497    Cuba   Old Square (Plaza Vieja)  Negative   \n",
       "1498    Cuba   Old Square (Plaza Vieja)  Negative   \n",
       "1499    Cuba   Old Square (Plaza Vieja)  Negative   \n",
       "1500    Cuba   Old Square (Plaza Vieja)  Negative   \n",
       "1501    Cuba   Old Square (Plaza Vieja)  Negative   \n",
       "\n",
       "                                   Review Title Review Date  \\\n",
       "0                                  Rude manager  May 2024 •   \n",
       "1                          A big disappointment  Feb 2024 •   \n",
       "2                  Pretty Place with Bland Food  Nov 2023 •   \n",
       "3      Great service and wine but inedible food  Mar 2023 •   \n",
       "4     Avoid- Worst meal in Rome - possibly ever  Nov 2022 •   \n",
       "...                                         ...         ...   \n",
       "1497                           The Tourism Trap  Oct 2016 •   \n",
       "1498                           the beer factory  Oct 2016 •   \n",
       "1499                                    brewery  Oct 2016 •   \n",
       "1500           It's nothing exciting over there  Oct 2016 •   \n",
       "1501                               Tourist Trap  Oct 2016 •   \n",
       "\n",
       "                                                 Review  \n",
       "0     The manager became agressive when I said the c...  \n",
       "1     I ordered a beef fillet ask to be done medium,...  \n",
       "2     This is an attractive venue with welcoming, al...  \n",
       "3     Sadly I  used the high TripAdvisor rating too ...  \n",
       "4     From the start this meal was bad- especially g...  \n",
       "...                                                 ...  \n",
       "1497  Despite the other reviews saying that this is ...  \n",
       "1498  beer is good.  food is awfull  The only decent...  \n",
       "1499  for terrible service of a truly comedic level,...  \n",
       "1500  We visited the Havana's Club Museum which is l...  \n",
       "1501  Food and service was awful. Very pretty stop. ...  \n",
       "\n",
       "[1502 rows x 6 columns]"
      ]
     },
     "execution_count": 3,
     "metadata": {},
     "output_type": "execute_result"
    }
   ],
   "source": [
    "reviews_data = pd.read_csv(\"data/European Restaurant Reviews.csv\")\n",
    "reviews_data"
   ]
  },
  {
   "cell_type": "markdown",
   "id": "8f6302e5-11d8-4bf2-a487-f0cd07340f44",
   "metadata": {},
   "source": [
    "Lets see the number of observations for each country:"
   ]
  },
  {
   "cell_type": "code",
   "execution_count": 4,
   "id": "a26e6851-4064-4f20-aba9-68222c729bd8",
   "metadata": {},
   "outputs": [
    {
     "data": {
      "text/plain": [
       "Country\n",
       "France     512\n",
       "Italy      318\n",
       "Morroco    210\n",
       "Cuba       146\n",
       "Poland     135\n",
       "Russia     100\n",
       "India       81\n",
       "Name: count, dtype: int64"
      ]
     },
     "execution_count": 4,
     "metadata": {},
     "output_type": "execute_result"
    }
   ],
   "source": [
    "countries_count = reviews_data[\"Country\"].value_counts()\n",
    "countries_count"
   ]
  },
  {
   "cell_type": "markdown",
   "id": "1b6ad783-e0aa-4ad1-b93f-ebbc72b5615d",
   "metadata": {},
   "source": [
    "As we can see, its not evenly spread out and France is by far the most represented.\n",
    "\n",
    "As for the time frame, Lets see:"
   ]
  },
  {
   "cell_type": "code",
   "execution_count": 5,
   "id": "eed4b552-85ac-4d80-8259-1baab0547dee",
   "metadata": {},
   "outputs": [
    {
     "data": {
      "text/plain": [
       "array(['May 2024 •', 'Feb 2024 •', 'Nov 2023 •', 'Mar 2023 •',\n",
       "       'Nov 2022 •', 'Jul 2021 •', 'Jan 2020 •', 'Oct 2019 •',\n",
       "       'Jun 2019 •', 'May 2019 •', 'Mar 2019 •', 'Dec 2018 •',\n",
       "       'Sept 2018 •', 'Oct 2018 •', 'Jul 2018 •', 'May 2018 •',\n",
       "       'Feb 2018 •', 'May 2017 •', 'Feb 2017 •', 'Aug 2017 •',\n",
       "       'Jul 2017 •', 'Jun 2017 •', 'Jan 2017 •', 'May 2016 •',\n",
       "       'Oct 2016 •', 'Aug 2016 •', 'Jul 2016 •', 'Jun 2016 •',\n",
       "       'Feb 2016 •', 'Mar 2016 •', 'Dec 2015 •', 'Nov 2015 •',\n",
       "       'Oct 2015 •', 'Sept 2015 •', 'Aug 2015 •', 'Mar 2015 •',\n",
       "       'Jul 2015 •', 'May 2015 •', 'Apr 2015 •', 'Feb 2022 •',\n",
       "       'Feb 2015 •', 'Nov 2014 •', 'Oct 2014 •', 'Jul 2014 •',\n",
       "       'May 2014 •', 'Apr 2014 •', 'Dec 2013 •', 'Nov 2013 •',\n",
       "       'Sept 2013 •', 'Aug 2013 •', 'Jul 2013 •', 'Jun 2013 •',\n",
       "       'Mar 2013 •', 'Jan 2013 •', 'Dec 2012 •', 'Oct 2012 •',\n",
       "       'Aug 2012 •', 'Jun 2012 •', 'May 2012 •', 'Dec 2011 •',\n",
       "       'Mar 2012 •', 'Nov 2011 •', 'Feb 2012 •', 'Oct 2011 •',\n",
       "       'Sept 2011 •', 'Jun 2024 •', 'Mar 2024 •', 'Oct 2023 •',\n",
       "       'Apr 2024 •', 'Jan 2024 •', 'Dec 2023 •', 'Sept 2023 •',\n",
       "       'Aug 2023 •', 'Jul 2023 •', 'Jun 2023 •', 'May 2023 •',\n",
       "       'Apr 2023 •', 'Feb 2023 •', 'Dec 2022 •', 'Oct 2022 •',\n",
       "       'Sept 2022 •', 'Aug 2022 •', 'Jul 2022 •', 'Jun 2022 •',\n",
       "       'Apr 2022 •', 'Mar 2022 •', 'Jan 2022 •', 'Dec 2021 •',\n",
       "       'Nov 2021 •', 'Aug 2021 •', 'Jun 2021 •', 'May 2021 •',\n",
       "       'Oct 2020 •', 'Sept 2020 •', 'Aug 2020 •', 'Jul 2020 •',\n",
       "       'Jun 2020 •', 'Feb 2020 •', 'Sept 2019 •', 'Aug 2019 •',\n",
       "       'Jul 2019 •', 'Apr 2019 •', 'Feb 2019 •', 'Jan 2019 •',\n",
       "       'Nov 2018 •', 'Aug 2018 •', 'Mar 2018 •', 'Jan 2018 •',\n",
       "       'Dec 2017 •', 'Nov 2017 •', 'Sept 2017 •', 'Apr 2017 •',\n",
       "       'Mar 2017 •', 'Dec 2016 •', 'Nov 2016 •', 'Sept 2016 •',\n",
       "       'Apr 2016 •', 'Jan 2016 •', 'Jan 2015 •', 'Jun 2015 •',\n",
       "       'Jun 2014 •', 'Dec 2014 •', 'Feb 2014 •', 'Mar 2014 •',\n",
       "       'Aug 2014 •', 'Jan 2014 •', 'Sept 2012 •', 'Apr 2012 •',\n",
       "       'Nov 2019 •', 'Dec 2019 •', 'Jul 2024 •', 'Sep 2010',\n",
       "       'Sept 2014 •', 'Oct 2013 •', 'Sep 2023 •', 'Jan 2023 •',\n",
       "       'Sep 2022 •', 'May 2022 •', 'Sep 2021 •', 'Mar 2020 •',\n",
       "       'Apr 2020 •', 'Sep 2019 •', 'Sep 2018 •'], dtype=object)"
      ]
     },
     "execution_count": 5,
     "metadata": {},
     "output_type": "execute_result"
    }
   ],
   "source": [
    "reviews_data[\"Review Date\"].unique()"
   ]
  },
  {
   "cell_type": "markdown",
   "id": "26f7234e-da87-49e1-8a37-3524fad27361",
   "metadata": {},
   "source": [
    "With observation, we can see that the review dates range from September 2010 to June 2024"
   ]
  },
  {
   "cell_type": "code",
   "execution_count": 6,
   "id": "5bc1c0a1-e57d-4c88-8521-be11493d3013",
   "metadata": {},
   "outputs": [
    {
     "data": {
      "text/plain": [
       "Restaurant Name\n",
       "The Frog at Bercy Village                512\n",
       "Ad Hoc Ristorante (Piazza del Popolo)    318\n",
       "The LOFT                                 210\n",
       "Old Square (Plaza Vieja)                 146\n",
       "Stara Kamienica                          135\n",
       "Pelmenya                                 100\n",
       "Mosaic                                    81\n",
       "Name: count, dtype: int64"
      ]
     },
     "execution_count": 6,
     "metadata": {},
     "output_type": "execute_result"
    }
   ],
   "source": [
    "reviews_data[\"Restaurant Name\"].value_counts()"
   ]
  },
  {
   "cell_type": "markdown",
   "id": "6c6f7240-e1a6-4eee-aa8a-6a60ef4fe69c",
   "metadata": {},
   "source": [
    "It looks like there is only one restaurant for each country. Lets check to make sure:"
   ]
  },
  {
   "cell_type": "code",
   "execution_count": 7,
   "id": "d59dcbe1-5122-4607-8b4c-d0801043c942",
   "metadata": {},
   "outputs": [
    {
     "name": "stdout",
     "output_type": "stream",
     "text": [
      "Number of restaurants in France: 1\n",
      "Number of restaurants in Italy: 1\n",
      "Number of restaurants in Poland: 1\n",
      "Number of restaurants in India: 1\n",
      "Number of restaurants in Russia: 1\n",
      "Number of restaurants in Morroco: 1\n",
      "Number of restaurants in Cuba: 1\n"
     ]
    }
   ],
   "source": [
    "for country in reviews_data[\"Country\"].unique():\n",
    "    restaurants_count = len(reviews_data[reviews_data[\"Country\"] == country][\"Restaurant Name\"].unique())\n",
    "    print(\"Number of restaurants in \" + country + \": \" + str(restaurants_count))"
   ]
  },
  {
   "cell_type": "markdown",
   "id": "ea28fe68-9efa-4d0a-8d21-adf207a284d6",
   "metadata": {},
   "source": [
    "Our observation was correct. Now lets see if the dataset is balanced in terms of sentiment:"
   ]
  },
  {
   "cell_type": "code",
   "execution_count": 8,
   "id": "621602ea-9b22-4fca-8576-da7eafb1b9a6",
   "metadata": {},
   "outputs": [
    {
     "data": {
      "text/plain": [
       "Sentiment\n",
       "Positive    1237\n",
       "Negative     265\n",
       "Name: count, dtype: int64"
      ]
     },
     "execution_count": 8,
     "metadata": {},
     "output_type": "execute_result"
    }
   ],
   "source": [
    "reviews_data[\"Sentiment\"].value_counts()"
   ]
  },
  {
   "cell_type": "markdown",
   "id": "24374af9-9c99-44be-8f21-2968f7041169",
   "metadata": {},
   "source": [
    "Well, looks like there are way more positive reviews. Lets look at the arrangement for each restaurant:"
   ]
  },
  {
   "cell_type": "code",
   "execution_count": 9,
   "id": "42b58c57-5999-44b0-8710-016b213b2b38",
   "metadata": {},
   "outputs": [
    {
     "name": "stdout",
     "output_type": "stream",
     "text": [
      "Number of positive reviews in The Frog at Bercy Village: 360\n",
      "Number of negative reviews in The Frog at Bercy Village: 152\n",
      "\n",
      "Number of positive reviews in Ad Hoc Ristorante (Piazza del Popolo): 270\n",
      "Number of negative reviews in Ad Hoc Ristorante (Piazza del Popolo): 48\n",
      "\n",
      "Number of positive reviews in Stara Kamienica: 120\n",
      "Number of negative reviews in Stara Kamienica: 15\n",
      "\n",
      "Number of positive reviews in Mosaic: 81\n",
      "Number of negative reviews in Mosaic: 0\n",
      "\n",
      "Number of positive reviews in Pelmenya: 90\n",
      "Number of negative reviews in Pelmenya: 10\n",
      "\n",
      "Number of positive reviews in The LOFT: 207\n",
      "Number of negative reviews in The LOFT: 3\n",
      "\n",
      "Number of positive reviews in Old Square (Plaza Vieja): 109\n",
      "Number of negative reviews in Old Square (Plaza Vieja): 37\n",
      "\n"
     ]
    }
   ],
   "source": [
    "for restaurant in reviews_data[\"Restaurant Name\"].unique():\n",
    "    positive_reviews = len(reviews_data[(reviews_data[\"Restaurant Name\"] == restaurant) & (reviews_data[\"Sentiment\"] == \"Positive\")][\"Sentiment\"])\n",
    "    negative_reviews = len(reviews_data[(reviews_data[\"Restaurant Name\"] == restaurant) & (reviews_data[\"Sentiment\"] == \"Negative\")][\"Sentiment\"])\n",
    "    print(\"Number of positive reviews in \" + restaurant + \": \" + str(positive_reviews))\n",
    "    print(\"Number of negative reviews in \" + restaurant + \": \" + str(negative_reviews) + \"\\n\")"
   ]
  },
  {
   "cell_type": "markdown",
   "id": "9ddf8019-eed1-4918-8caa-5d1ca2a4d5cd",
   "metadata": {},
   "source": [
    "Lets draw a scattetplot:"
   ]
  },
  {
   "cell_type": "code",
   "execution_count": 10,
   "id": "30cfd4a6-7da0-452e-8d35-4fc5fdf8a8f3",
   "metadata": {},
   "outputs": [],
   "source": [
    "# sentiment_df = pd.DataFrame(columns = [\"Restaurant\", \"Positive\", \"Negative\"])\n",
    "# sentiment_df[\"Restaurant\"] = reviews_data[\"Restaurant Name\"].unique()\n",
    "\n",
    "# for restaurant in reviews_data[\"Restaurant Name\"].unique():\n",
    "#     positive_reviews = len(reviews_data[(reviews_data[\"Restaurant Name\"] == restaurant) & (reviews_data[\"Sentiment\"] == \"Positive\")][\"Sentiment\"])\n",
    "#     negative_reviews = len(reviews_data[(reviews_data[\"Restaurant Name\"] == restaurant) & (reviews_data[\"Sentiment\"] == \"Negative\")][\"Sentiment\"])\n",
    "#     sentiment_df.loc[sentiment_df[\"Restaurant\"] == restaurant, \"Positive\"] = positive_reviews\n",
    "#     sentiment_df.loc[sentiment_df[\"Restaurant\"] == restaurant, \"Negative\"] = negative_reviews\n",
    "\n",
    "# colors = [\"red\", \"green\", \"blue\", \"orange\", \"purple\", \"yellow\", \"cyan\"]\n",
    "\n",
    "# plt.scatter(sentiment_df[\"Positive\"], sentiment_df[\"Negative\"], c = colors, label = sentiment_df[\"Restaurant\"])\n",
    "# plt.legend()\n",
    "# plt.show\n",
    "# sentiment_df"
   ]
  },
  {
   "cell_type": "markdown",
   "id": "15d61765-1ef1-4bb7-9beb-a5d29080f3d5",
   "metadata": {},
   "source": [
    "Looks consistent for all restaurants."
   ]
  },
  {
   "cell_type": "markdown",
   "id": "aed22846-7646-4309-97a4-bfca71d2d84d",
   "metadata": {},
   "source": [
    "Looks consistent for all restaurants."
   ]
  },
  {
   "cell_type": "markdown",
   "id": "01a55576-cd3c-4451-b5c8-6a51356a7386",
   "metadata": {},
   "source": [
    "### Problem 2. Getting acquainted with reviews (1 point)\n",
    "Are positive comments typically shorter or longer? Try to define a good, robust metric for \"length\" of a text; it's not necessary just the character count. Can you explain your findings?"
   ]
  },
  {
   "cell_type": "markdown",
   "id": "bde71971-d764-4ffc-969b-f332c5723e46",
   "metadata": {},
   "source": [
    "Lets create another column for the word count in each review:"
   ]
  },
  {
   "cell_type": "code",
   "execution_count": 11,
   "id": "e0d8b10b-057a-4a4a-b94e-b92d950cba25",
   "metadata": {},
   "outputs": [],
   "source": [
    "modified_reviews_data = reviews_data\n",
    "for review in modified_reviews_data[\"Review\"]:\n",
    "    word_count = len(re.split(r\"\\W+\", review)) - 1\n",
    "    modified_reviews_data.loc[modified_reviews_data[\"Review\"] == review, \"Words Count\"] = word_count\n",
    "\n",
    "modified_reviews_data[\"Words count\"] = modified_reviews_data[\"Words Count\"].astype(int)"
   ]
  },
  {
   "cell_type": "markdown",
   "id": "ac357b5c-36f3-451c-ab61-4171e4ca2d1c",
   "metadata": {},
   "source": [
    "Now lets look into the lengths of the reviews:"
   ]
  },
  {
   "cell_type": "code",
   "execution_count": 12,
   "id": "3cd5d67a-855d-46e1-877b-a0efb610bf1c",
   "metadata": {},
   "outputs": [
    {
     "name": "stdout",
     "output_type": "stream",
     "text": [
      "count    1502.000000\n",
      "mean       66.379494\n",
      "std        74.938374\n",
      "min         2.000000\n",
      "25%        26.000000\n",
      "50%        43.000000\n",
      "75%        76.000000\n",
      "max       654.000000\n",
      "Name: Words count, dtype: float64\n",
      "Median: 43.0\n"
     ]
    }
   ],
   "source": [
    "print(modified_reviews_data[\"Words count\"].describe())\n",
    "print(\"Median: \" + str(modified_reviews_data[\"Words Count\"].median()))"
   ]
  },
  {
   "cell_type": "markdown",
   "id": "18aa9928-ddb1-4870-a589-767d8994a94c",
   "metadata": {},
   "source": [
    "Now lets do the same for the positive and negative reviews separately:"
   ]
  },
  {
   "cell_type": "code",
   "execution_count": 13,
   "id": "b3f2752e-771f-4754-8ecd-f6648877c2e3",
   "metadata": {},
   "outputs": [
    {
     "name": "stdout",
     "output_type": "stream",
     "text": [
      "count    1237.000000\n",
      "mean       50.133387\n",
      "std        39.105626\n",
      "min         2.000000\n",
      "25%        25.000000\n",
      "50%        37.000000\n",
      "75%        61.000000\n",
      "max       339.000000\n",
      "Name: Words count, dtype: float64\n",
      "Median: 37.0\n"
     ]
    }
   ],
   "source": [
    "positive_reviews_word_count = modified_reviews_data[modified_reviews_data[\"Sentiment\"] == \"Positive\"][\"Words count\"]\n",
    "print(positive_reviews_word_count.describe())\n",
    "print(\"Median: \" + str(positive_reviews_word_count.median()))"
   ]
  },
  {
   "cell_type": "code",
   "execution_count": 14,
   "id": "8f19d7c4-88fe-4360-8b7f-957de4df87ef",
   "metadata": {},
   "outputs": [
    {
     "name": "stdout",
     "output_type": "stream",
     "text": [
      "count    265.000000\n",
      "mean     142.215094\n",
      "std      133.265921\n",
      "min       13.000000\n",
      "25%       55.000000\n",
      "50%       95.000000\n",
      "75%      179.000000\n",
      "max      654.000000\n",
      "Name: Words count, dtype: float64\n",
      "Median: 95.0\n"
     ]
    }
   ],
   "source": [
    "negative_reviews_word_count = modified_reviews_data[modified_reviews_data[\"Sentiment\"] == \"Negative\"][\"Words count\"]\n",
    "print(negative_reviews_word_count.describe())\n",
    "print(\"Median: \" + str(negative_reviews_word_count.median()))"
   ]
  },
  {
   "cell_type": "markdown",
   "id": "228889f9-0a09-4da2-9743-2eb3cf43ae18",
   "metadata": {},
   "source": [
    "As we can see, negative reviews are significantly longer. That may be due to the fact, that a frustrated person is more likely to describe in detail what they didnt like. They are more motivated to show other people why not to choose this place."
   ]
  },
  {
   "cell_type": "markdown",
   "id": "7c440fff-c079-464c-b97d-fffbf3d65baf",
   "metadata": {},
   "source": [
    "### Problem 3. Preprocess the review content (2 points)\n",
    "You'll likely need to do this while working on the problems below, but try to synthesize (and document!) your preprocessing here. Your tasks will revolve around words and their connection to sentiment. While preprocessing, keep in mind the domain (restaurant reviews) and the task (sentiment analysis)."
   ]
  },
  {
   "cell_type": "code",
   "execution_count": null,
   "id": "7114fcf9-c63a-41b2-9ff9-591a15d2ebe5",
   "metadata": {},
   "outputs": [],
   "source": []
  },
  {
   "cell_type": "markdown",
   "id": "2a8532af-2411-4d71-a003-0813be3f98de",
   "metadata": {},
   "source": [
    "### Problem 3. Top words (1 point)\n",
    "Use a simple word tokenization and count the top 10 words in positive reviews; then the top 10 words in negative reviews*. Once again, try to define what \"top\" words means. Describe and document your process. Explain your results.\n",
    "\n",
    "\\* Okay, you may want to see top N words (with $N \\ge 10$)."
   ]
  },
  {
   "cell_type": "markdown",
   "id": "18797a3a-54b6-4420-8707-1f0e753b6b7c",
   "metadata": {},
   "source": [
    "Lets create word counters for the positive and the negative reviews separately:"
   ]
  },
  {
   "cell_type": "markdown",
   "id": "86265405-038e-4397-a452-0e2d237ead7a",
   "metadata": {},
   "source": [
    "First we need to create our stopword set:"
   ]
  },
  {
   "cell_type": "code",
   "execution_count": 15,
   "id": "b7d7812c-0150-4671-a658-aa68d79e3256",
   "metadata": {},
   "outputs": [
    {
     "name": "stderr",
     "output_type": "stream",
     "text": [
      "[nltk_data] Downloading package stopwords to /home/gecata/nltk_data...\n",
      "[nltk_data]   Package stopwords is already up-to-date!\n"
     ]
    }
   ],
   "source": [
    "nltk.download(\"stopwords\")\n",
    "stop = set(stopwords.words(\"english\"))"
   ]
  },
  {
   "cell_type": "markdown",
   "id": "4a58c8d0-69c1-453e-a628-2e8395257081",
   "metadata": {},
   "source": [
    "Now lets create our stemmer:"
   ]
  },
  {
   "cell_type": "code",
   "execution_count": 16,
   "id": "792b21d0-2959-4722-a5d5-f87863ae1362",
   "metadata": {},
   "outputs": [],
   "source": [
    "stemmer = PorterStemmer()"
   ]
  },
  {
   "cell_type": "markdown",
   "id": "d6a7e240-acc4-4ad5-99a6-7bb5769e63ca",
   "metadata": {},
   "source": [
    "Now we are ready to create the word counters. We are going to create a function, which will count the words in the reviews by default, but optionally it will count the words in the titles instead, because we will need it in the next problem."
   ]
  },
  {
   "cell_type": "code",
   "execution_count": 17,
   "id": "4f9fded5-00b8-4259-8e55-b8b4289ffb7b",
   "metadata": {},
   "outputs": [],
   "source": [
    "def make_counter_by_sentiment(sentiment, title = False):\n",
    "    #Make a word counter for all the words in the reviews or the titles\n",
    "    if not title:\n",
    "        all_sentiment_reviews = reviews_data[reviews_data[\"Sentiment\"] == sentiment][\"Review\"].str.cat(sep = \" \")\n",
    "    elif title:\n",
    "        all_sentiment_reviews = reviews_data[reviews_data[\"Sentiment\"] == sentiment][\"Review Title\"].str.cat(sep = \" \")\n",
    "        \n",
    "    words_counter_raw = Counter(re.split(r\"\\W+\", all_sentiment_reviews.lower()))\n",
    "\n",
    "    #Remove the stopwords\n",
    "    words_counter_no_stopwords = Counter({word: count for word, count in words_counter_raw.items() if word not in stop})\n",
    "\n",
    "    #Perform stemming\n",
    "    words_counter = Counter()\n",
    "    for word in words_counter_no_stopwords:\n",
    "        stemmed = stemmer.stem(word)\n",
    "        try:\n",
    "            words_counter[stemmed] += words_counter_no_stopwords[stemmed]\n",
    "        except(KeyError):\n",
    "            words_counter[stemmed] = 0\n",
    "            words_counter[stemmed] += words_counter_no_stopwords[stemmed]            \n",
    "\n",
    "    return words_counter"
   ]
  },
  {
   "cell_type": "markdown",
   "id": "9bd2206e-f330-486a-ab27-66ca518c0730",
   "metadata": {},
   "source": [
    "Now lets look at the top 10 most common words for the positive and the negative reviews:"
   ]
  },
  {
   "cell_type": "code",
   "execution_count": 18,
   "id": "01fef0b5-61f9-4ac1-914a-3b5dc4dadd9f",
   "metadata": {},
   "outputs": [
    {
     "data": {
      "text/plain": [
       "[('food', 1482),\n",
       " ('recommend', 1152),\n",
       " ('great', 1144),\n",
       " ('place', 1122),\n",
       " ('good', 1028),\n",
       " ('wine', 720),\n",
       " ('time', 716),\n",
       " ('menu', 705),\n",
       " ('nice', 616),\n",
       " ('special', 602)]"
      ]
     },
     "execution_count": 18,
     "metadata": {},
     "output_type": "execute_result"
    }
   ],
   "source": [
    "positive_word_counter = make_counter_by_sentiment(\"Positive\")\n",
    "positive_word_counter.most_common(10)"
   ]
  },
  {
   "cell_type": "code",
   "execution_count": 19,
   "id": "26cdb5fd-8730-4d8f-a194-423ca4f5f4ae",
   "metadata": {},
   "outputs": [
    {
     "data": {
      "text/plain": [
       "[('menu', 532),\n",
       " ('food', 494),\n",
       " ('like', 435),\n",
       " ('wine', 350),\n",
       " ('place', 297),\n",
       " ('one', 268),\n",
       " ('time', 255),\n",
       " ('us', 205),\n",
       " ('meal', 192),\n",
       " ('nice', 176)]"
      ]
     },
     "execution_count": 19,
     "metadata": {},
     "output_type": "execute_result"
    }
   ],
   "source": [
    "negative_word_counter = make_counter_by_sentiment(\"Negative\")\n",
    "negative_word_counter.most_common(10)"
   ]
  },
  {
   "cell_type": "markdown",
   "id": "f0278364-e845-48e9-95c4-e984bece3a2b",
   "metadata": {},
   "source": [
    "As we can see, words like \"menu\", \"food\", \"staff\" and so on are common in both negative and positive reviews. That can be explained, because thats what a restaurant offers and when people leave reviews, they are likely to write the most about that. Its really interesting, that there are no \"negative\" words like \"bad\", \"terrible\", \"never\" and so on in the top 10 words in the negative reviews."
   ]
  },
  {
   "cell_type": "markdown",
   "id": "790ae91f-2def-41bc-8861-49fc5467b335",
   "metadata": {},
   "source": [
    "### Problem 4. Review titles (2 point)\n",
    "How do the top words you found in the last problem correlate to the review titles? Do the top 10 words (for each sentiment) appear in the titles at all? Do reviews which contain one or more of the top words have the same words in their titles?\n",
    "\n",
    "Does the title of a comment present a good summary of its content? That is, are the titles descriptive, or are they simply meant to catch the attention of the reader?"
   ]
  },
  {
   "cell_type": "code",
   "execution_count": 20,
   "id": "330b83f1-060e-47ae-8035-0b8372eed8d9",
   "metadata": {},
   "outputs": [
    {
     "data": {
      "text/plain": [
       "[('great', 226),\n",
       " ('place', 204),\n",
       " ('food', 178),\n",
       " ('good', 106),\n",
       " ('best', 78),\n",
       " ('excellent', 78),\n",
       " ('dinner', 74),\n",
       " ('restaurant', 73),\n",
       " ('beer', 68),\n",
       " ('meal', 62)]"
      ]
     },
     "execution_count": 20,
     "metadata": {},
     "output_type": "execute_result"
    }
   ],
   "source": [
    "positive_title_word_counter = make_counter_by_sentiment(\"Positive\", title = True)\n",
    "positive_title_word_counter.most_common(10)"
   ]
  },
  {
   "cell_type": "code",
   "execution_count": 21,
   "id": "83261642-d47e-491d-8c5f-3e50d4b5f3ac",
   "metadata": {},
   "outputs": [
    {
     "data": {
      "text/plain": [
       "[('food', 32),\n",
       " ('tourist', 18),\n",
       " ('place', 16),\n",
       " ('bad', 15),\n",
       " ('wine', 14),\n",
       " ('rome', 14),\n",
       " ('go', 14),\n",
       " ('rude', 12),\n",
       " ('great', 12),\n",
       " ('lack', 12)]"
      ]
     },
     "execution_count": 21,
     "metadata": {},
     "output_type": "execute_result"
    }
   ],
   "source": [
    "negative_title_word_counter = make_counter_by_sentiment(\"Negative\", title = True)\n",
    "negative_title_word_counter.most_common(10)"
   ]
  },
  {
   "cell_type": "markdown",
   "id": "bda10157-e76c-4094-96de-733f28a966ce",
   "metadata": {},
   "source": [
    "Here are the number of reviews, where the top 10 most common positive words appear and the number of reviews, where they also appear in the title:"
   ]
  },
  {
   "cell_type": "code",
   "execution_count": 22,
   "id": "ef8643f1-d189-4e14-807e-2c201c08948d",
   "metadata": {},
   "outputs": [
    {
     "name": "stdout",
     "output_type": "stream",
     "text": [
      "food in reviews: 720\n",
      "food in titles:129\n",
      "\n",
      "recommend in reviews: 302\n",
      "recommend in titles:9\n",
      "\n",
      "great in reviews: 381\n",
      "great in titles:36\n",
      "\n",
      "place in reviews: 416\n",
      "place in titles:56\n",
      "\n",
      "good in reviews: 460\n",
      "good in titles:33\n",
      "\n",
      "wine in reviews: 297\n",
      "wine in titles:23\n",
      "\n",
      "time in reviews: 257\n",
      "time in titles:5\n",
      "\n",
      "menu in reviews: 287\n",
      "menu in titles:7\n",
      "\n",
      "nice in reviews: 301\n",
      "nice in titles:8\n",
      "\n",
      "special in reviews: 159\n",
      "special in titles:3\n",
      "\n"
     ]
    }
   ],
   "source": [
    "for word, _ in positive_word_counter.most_common(10):\n",
    "    reviews_with_word = reviews_data[reviews_data[\"Review\"].str.contains(word)]\n",
    "    reviews_and_titles_with_word = reviews_data[(reviews_data[\"Review\"].str.contains(word)) & (reviews_data[\"Review Title\"].str.contains(word))]\n",
    "    print(f\"{word} in reviews: \" + str(reviews_with_word.shape[0]) + f\"\\n{word} in titles:\"+ str(reviews_and_titles_with_word.shape[0]) + \"\\n\")"
   ]
  },
  {
   "cell_type": "markdown",
   "id": "11e25fd2-5178-4f40-aea1-d47308172dba",
   "metadata": {},
   "source": [
    "Here is the same with the negative words:"
   ]
  },
  {
   "cell_type": "code",
   "execution_count": 23,
   "id": "9534b6fb-0feb-41e2-9fde-b262a1a69cd4",
   "metadata": {},
   "outputs": [
    {
     "name": "stdout",
     "output_type": "stream",
     "text": [
      "menu in reviews: 287\n",
      "menu in titles:7\n",
      "\n",
      "food in reviews: 720\n",
      "food in titles:129\n",
      "\n",
      "like in reviews: 172\n",
      "like in titles:1\n",
      "\n",
      "wine in reviews: 297\n",
      "wine in titles:23\n",
      "\n",
      "place in reviews: 416\n",
      "place in titles:56\n",
      "\n",
      "one in reviews: 357\n",
      "one in titles:6\n",
      "\n",
      "time in reviews: 257\n",
      "time in titles:5\n",
      "\n",
      "us in reviews: 913\n",
      "us in titles:84\n",
      "\n",
      "meal in reviews: 173\n",
      "meal in titles:11\n",
      "\n",
      "nice in reviews: 301\n",
      "nice in titles:8\n",
      "\n"
     ]
    }
   ],
   "source": [
    "for word, _ in negative_word_counter.most_common(10):\n",
    "    reviews_with_word = reviews_data[reviews_data[\"Review\"].str.contains(word)]\n",
    "    reviews_and_titles_with_word = reviews_data[(reviews_data[\"Review\"].str.contains(word)) & (reviews_data[\"Review Title\"].str.contains(word))]\n",
    "    print(f\"{word} in reviews: \" + str(reviews_with_word.shape[0]) + f\"\\n{word} in titles:\"+ str(reviews_and_titles_with_word.shape[0]) + \"\\n\")"
   ]
  },
  {
   "cell_type": "markdown",
   "id": "d4145b1c-4c48-4ff4-be91-91b93e319e1d",
   "metadata": {},
   "source": [
    "As we can see, these words are way less used in the titles. Also, by looking at the most common words in the titles like we saw above, they tend to use way more \"strong\" words, such as \"best\", \"excellent\", \"rude\" and so on. This means, that usually people write the titles not to summarize the contents in the reviews, but rather to grab the attention of the readers."
   ]
  },
  {
   "cell_type": "markdown",
   "id": "a3a0aa94-23e4-4db1-a780-cd1bd3abb411",
   "metadata": {},
   "source": [
    "### Problem 5. Bag of words (1 point)\n",
    "Based on your findings so far, come up with a good set of settings (hyperparameters) for a bag-of-words model for review titles and contents. It's easiest to treat them separately (so, create two models); but you may also think about a unified representation. I find the simplest way of concatenating the title and content too simplistic to be useful, as it doesn't allow you to treat the title differently (e.g., by giving it more weight).\n",
    "\n",
    "The documentation for `CountVectorizer` is [here](https://scikit-learn.org/stable/modules/generated/sklearn.feature_extraction.text.CountVectorizer.html). Familiarize yourself with all settings; try out different combinations and come up with a final model; or rather - two models :)."
   ]
  },
  {
   "cell_type": "markdown",
   "id": "2fde20f1-a689-4bed-a69d-4cc38567ff71",
   "metadata": {},
   "source": [
    "Lets create two separate CountVectorizer models for the reviews and the titles:"
   ]
  },
  {
   "cell_type": "code",
   "execution_count": 24,
   "id": "2ce7892f-cb37-48d3-83fc-0ccb56c2bb1a",
   "metadata": {},
   "outputs": [],
   "source": [
    "review_vectorizer = CountVectorizer(ngram_range = (1, 2), token_pattern = r\"\\b\\w+\\b\", stop_words = \"english\")\n",
    "review_matrix = review_vectorizer.fit_transform(reviews_data[\"Review\"])\n",
    "\n",
    "title_vectorizer = CountVectorizer(ngram_range = (1, 2), token_pattern = r\"\\b\\w+\\b\", stop_words = \"english\")\n",
    "title_matrix = title_vectorizer.fit_transform(reviews_data[\"Review Title\"])"
   ]
  },
  {
   "cell_type": "markdown",
   "id": "a337ce0f-2afe-422f-8e9d-beddd5635093",
   "metadata": {},
   "source": [
    "### Problem 6. Deep sentiment analysis models (1 point)\n",
    "Find a suitable model for sentiment analysis in English. Without modifying, training, or fine-tuning the model, make it predict all contents (or better, combinations of titles and contents, if you can). Meaure the accuracy of the model compared to the `sentiment` column in the dataset."
   ]
  },
  {
   "cell_type": "markdown",
   "id": "85863045-9cd1-4c46-a06a-d8a2ba39d3dc",
   "metadata": {},
   "source": [
    "First, I tried using DistilBERT, but unfortunately my laptop could not handle it. Now I`m going to try nlptown. Lets first load the pre-trained tokenizer and model, then move the model to the CPU, because I have an integrated GPU."
   ]
  },
  {
   "cell_type": "code",
   "execution_count": 25,
   "id": "b9f2e7c9-5269-4dcd-89af-1e6267c0582e",
   "metadata": {},
   "outputs": [
    {
     "data": {
      "text/plain": [
       "BertForSequenceClassification(\n",
       "  (bert): BertModel(\n",
       "    (embeddings): BertEmbeddings(\n",
       "      (word_embeddings): Embedding(105879, 768, padding_idx=0)\n",
       "      (position_embeddings): Embedding(512, 768)\n",
       "      (token_type_embeddings): Embedding(2, 768)\n",
       "      (LayerNorm): LayerNorm((768,), eps=1e-12, elementwise_affine=True)\n",
       "      (dropout): Dropout(p=0.1, inplace=False)\n",
       "    )\n",
       "    (encoder): BertEncoder(\n",
       "      (layer): ModuleList(\n",
       "        (0-11): 12 x BertLayer(\n",
       "          (attention): BertAttention(\n",
       "            (self): BertSdpaSelfAttention(\n",
       "              (query): Linear(in_features=768, out_features=768, bias=True)\n",
       "              (key): Linear(in_features=768, out_features=768, bias=True)\n",
       "              (value): Linear(in_features=768, out_features=768, bias=True)\n",
       "              (dropout): Dropout(p=0.1, inplace=False)\n",
       "            )\n",
       "            (output): BertSelfOutput(\n",
       "              (dense): Linear(in_features=768, out_features=768, bias=True)\n",
       "              (LayerNorm): LayerNorm((768,), eps=1e-12, elementwise_affine=True)\n",
       "              (dropout): Dropout(p=0.1, inplace=False)\n",
       "            )\n",
       "          )\n",
       "          (intermediate): BertIntermediate(\n",
       "            (dense): Linear(in_features=768, out_features=3072, bias=True)\n",
       "            (intermediate_act_fn): GELUActivation()\n",
       "          )\n",
       "          (output): BertOutput(\n",
       "            (dense): Linear(in_features=3072, out_features=768, bias=True)\n",
       "            (LayerNorm): LayerNorm((768,), eps=1e-12, elementwise_affine=True)\n",
       "            (dropout): Dropout(p=0.1, inplace=False)\n",
       "          )\n",
       "        )\n",
       "      )\n",
       "    )\n",
       "    (pooler): BertPooler(\n",
       "      (dense): Linear(in_features=768, out_features=768, bias=True)\n",
       "      (activation): Tanh()\n",
       "    )\n",
       "  )\n",
       "  (dropout): Dropout(p=0.1, inplace=False)\n",
       "  (classifier): Linear(in_features=768, out_features=5, bias=True)\n",
       ")"
      ]
     },
     "execution_count": 25,
     "metadata": {},
     "output_type": "execute_result"
    }
   ],
   "source": [
    "tokenizer = AutoTokenizer.from_pretrained(\"nlptown/bert-base-multilingual-uncased-sentiment\")\n",
    "model = AutoModelForSequenceClassification.from_pretrained(\"nlptown/bert-base-multilingual-uncased-sentiment\")\n",
    "\n",
    "device = torch.device(\"cpu\")\n",
    "model.to(device)"
   ]
  },
  {
   "cell_type": "code",
   "execution_count": 26,
   "id": "510e7c29-f98f-46da-b462-437bed73f080",
   "metadata": {},
   "outputs": [],
   "source": [
    "def preprocess(text, max_length=512):\n",
    "    inputs = tokenizer(\n",
    "        text, \n",
    "        return_tensors=\"pt\", \n",
    "        padding=\"max_length\", \n",
    "        truncation=True, \n",
    "        max_length=max_length\n",
    "    )\n",
    "    return inputs"
   ]
  },
  {
   "cell_type": "code",
   "execution_count": 29,
   "id": "910c0790-d100-464b-b704-e89ee76af2ce",
   "metadata": {},
   "outputs": [
    {
     "data": {
      "text/plain": [
       "0       Negative\n",
       "1       Negative\n",
       "2       Positive\n",
       "3       Negative\n",
       "4       Negative\n",
       "          ...   \n",
       "1497    Negative\n",
       "1498    Negative\n",
       "1499    Negative\n",
       "1500    Negative\n",
       "1501    Negative\n",
       "Length: 1502, dtype: object"
      ]
     },
     "execution_count": 29,
     "metadata": {},
     "output_type": "execute_result"
    }
   ],
   "source": [
    "def predict_sentiment(text_series, max_length = 512):\n",
    "    sentiments = []\n",
    "\n",
    "    for text in text_series:\n",
    "        inputs = preprocess(text, max_length = max_length)\n",
    "        inputs = {key: val.to(device) for key, val in inputs.items()}\n",
    "\n",
    "        with torch.no_grad():  # Disable gradient calculation for inference\n",
    "            outputs = model(**inputs)\n",
    "            probabilities = torch.nn.functional.softmax(outputs.logits, dim=-1)\n",
    "            predicted_class = torch.argmax(probabilities, dim=1).item()\n",
    "\n",
    "            sentiment_map = {0: \"Negative\", 1: \"Negative\", 2: \"Positive\", 3: \"Positive\", 4: \"Positive\"}\n",
    "            sentiments.append(sentiment_map[predicted_class])\n",
    "    \n",
    "    return pd.Series(sentiments, index=text_series.index)\n",
    "\n",
    "predicted_sentiments = predict_sentiment(reviews_data[\"Review\"])\n",
    "predicted_sentiments"
   ]
  },
  {
   "cell_type": "markdown",
   "id": "ef215e4b-9747-4340-b36d-04b3f601aa2f",
   "metadata": {},
   "source": [
    "Lets create a new dataset with the predictions and see how many it got right:"
   ]
  },
  {
   "cell_type": "code",
   "execution_count": 30,
   "id": "32d0a786-18fc-4a5b-ba2c-47d25a885119",
   "metadata": {},
   "outputs": [
    {
     "data": {
      "text/html": [
       "<div>\n",
       "<style scoped>\n",
       "    .dataframe tbody tr th:only-of-type {\n",
       "        vertical-align: middle;\n",
       "    }\n",
       "\n",
       "    .dataframe tbody tr th {\n",
       "        vertical-align: top;\n",
       "    }\n",
       "\n",
       "    .dataframe thead th {\n",
       "        text-align: right;\n",
       "    }\n",
       "</style>\n",
       "<table border=\"1\" class=\"dataframe\">\n",
       "  <thead>\n",
       "    <tr style=\"text-align: right;\">\n",
       "      <th></th>\n",
       "      <th>Country</th>\n",
       "      <th>Restaurant Name</th>\n",
       "      <th>Sentiment</th>\n",
       "      <th>Review Title</th>\n",
       "      <th>Review Date</th>\n",
       "      <th>Review</th>\n",
       "      <th>Words Count</th>\n",
       "      <th>Words count</th>\n",
       "      <th>Predictions</th>\n",
       "    </tr>\n",
       "  </thead>\n",
       "  <tbody>\n",
       "    <tr>\n",
       "      <th>0</th>\n",
       "      <td>France</td>\n",
       "      <td>The Frog at Bercy Village</td>\n",
       "      <td>Negative</td>\n",
       "      <td>Rude manager</td>\n",
       "      <td>May 2024 •</td>\n",
       "      <td>The manager became agressive when I said the c...</td>\n",
       "      <td>28.0</td>\n",
       "      <td>28</td>\n",
       "      <td>Negative</td>\n",
       "    </tr>\n",
       "    <tr>\n",
       "      <th>1</th>\n",
       "      <td>France</td>\n",
       "      <td>The Frog at Bercy Village</td>\n",
       "      <td>Negative</td>\n",
       "      <td>A big disappointment</td>\n",
       "      <td>Feb 2024 •</td>\n",
       "      <td>I ordered a beef fillet ask to be done medium,...</td>\n",
       "      <td>57.0</td>\n",
       "      <td>57</td>\n",
       "      <td>Negative</td>\n",
       "    </tr>\n",
       "    <tr>\n",
       "      <th>2</th>\n",
       "      <td>France</td>\n",
       "      <td>The Frog at Bercy Village</td>\n",
       "      <td>Negative</td>\n",
       "      <td>Pretty Place with Bland Food</td>\n",
       "      <td>Nov 2023 •</td>\n",
       "      <td>This is an attractive venue with welcoming, al...</td>\n",
       "      <td>40.0</td>\n",
       "      <td>40</td>\n",
       "      <td>Positive</td>\n",
       "    </tr>\n",
       "    <tr>\n",
       "      <th>3</th>\n",
       "      <td>France</td>\n",
       "      <td>The Frog at Bercy Village</td>\n",
       "      <td>Negative</td>\n",
       "      <td>Great service and wine but inedible food</td>\n",
       "      <td>Mar 2023 •</td>\n",
       "      <td>Sadly I  used the high TripAdvisor rating too ...</td>\n",
       "      <td>278.0</td>\n",
       "      <td>278</td>\n",
       "      <td>Negative</td>\n",
       "    </tr>\n",
       "    <tr>\n",
       "      <th>4</th>\n",
       "      <td>France</td>\n",
       "      <td>The Frog at Bercy Village</td>\n",
       "      <td>Negative</td>\n",
       "      <td>Avoid- Worst meal in Rome - possibly ever</td>\n",
       "      <td>Nov 2022 •</td>\n",
       "      <td>From the start this meal was bad- especially g...</td>\n",
       "      <td>249.0</td>\n",
       "      <td>249</td>\n",
       "      <td>Negative</td>\n",
       "    </tr>\n",
       "    <tr>\n",
       "      <th>...</th>\n",
       "      <td>...</td>\n",
       "      <td>...</td>\n",
       "      <td>...</td>\n",
       "      <td>...</td>\n",
       "      <td>...</td>\n",
       "      <td>...</td>\n",
       "      <td>...</td>\n",
       "      <td>...</td>\n",
       "      <td>...</td>\n",
       "    </tr>\n",
       "    <tr>\n",
       "      <th>1497</th>\n",
       "      <td>Cuba</td>\n",
       "      <td>Old Square (Plaza Vieja)</td>\n",
       "      <td>Negative</td>\n",
       "      <td>The Tourism Trap</td>\n",
       "      <td>Oct 2016 •</td>\n",
       "      <td>Despite the other reviews saying that this is ...</td>\n",
       "      <td>146.0</td>\n",
       "      <td>146</td>\n",
       "      <td>Negative</td>\n",
       "    </tr>\n",
       "    <tr>\n",
       "      <th>1498</th>\n",
       "      <td>Cuba</td>\n",
       "      <td>Old Square (Plaza Vieja)</td>\n",
       "      <td>Negative</td>\n",
       "      <td>the beer factory</td>\n",
       "      <td>Oct 2016 •</td>\n",
       "      <td>beer is good.  food is awfull  The only decent...</td>\n",
       "      <td>29.0</td>\n",
       "      <td>29</td>\n",
       "      <td>Negative</td>\n",
       "    </tr>\n",
       "    <tr>\n",
       "      <th>1499</th>\n",
       "      <td>Cuba</td>\n",
       "      <td>Old Square (Plaza Vieja)</td>\n",
       "      <td>Negative</td>\n",
       "      <td>brewery</td>\n",
       "      <td>Oct 2016 •</td>\n",
       "      <td>for terrible service of a truly comedic level,...</td>\n",
       "      <td>30.0</td>\n",
       "      <td>30</td>\n",
       "      <td>Negative</td>\n",
       "    </tr>\n",
       "    <tr>\n",
       "      <th>1500</th>\n",
       "      <td>Cuba</td>\n",
       "      <td>Old Square (Plaza Vieja)</td>\n",
       "      <td>Negative</td>\n",
       "      <td>It's nothing exciting over there</td>\n",
       "      <td>Oct 2016 •</td>\n",
       "      <td>We visited the Havana's Club Museum which is l...</td>\n",
       "      <td>71.0</td>\n",
       "      <td>71</td>\n",
       "      <td>Negative</td>\n",
       "    </tr>\n",
       "    <tr>\n",
       "      <th>1501</th>\n",
       "      <td>Cuba</td>\n",
       "      <td>Old Square (Plaza Vieja)</td>\n",
       "      <td>Negative</td>\n",
       "      <td>Tourist Trap</td>\n",
       "      <td>Oct 2016 •</td>\n",
       "      <td>Food and service was awful. Very pretty stop. ...</td>\n",
       "      <td>14.0</td>\n",
       "      <td>14</td>\n",
       "      <td>Negative</td>\n",
       "    </tr>\n",
       "  </tbody>\n",
       "</table>\n",
       "<p>1502 rows × 9 columns</p>\n",
       "</div>"
      ],
      "text/plain": [
       "     Country            Restaurant Name Sentiment  \\\n",
       "0     France  The Frog at Bercy Village  Negative   \n",
       "1     France  The Frog at Bercy Village  Negative   \n",
       "2     France  The Frog at Bercy Village  Negative   \n",
       "3     France  The Frog at Bercy Village  Negative   \n",
       "4     France  The Frog at Bercy Village  Negative   \n",
       "...      ...                        ...       ...   \n",
       "1497    Cuba   Old Square (Plaza Vieja)  Negative   \n",
       "1498    Cuba   Old Square (Plaza Vieja)  Negative   \n",
       "1499    Cuba   Old Square (Plaza Vieja)  Negative   \n",
       "1500    Cuba   Old Square (Plaza Vieja)  Negative   \n",
       "1501    Cuba   Old Square (Plaza Vieja)  Negative   \n",
       "\n",
       "                                   Review Title Review Date  \\\n",
       "0                                  Rude manager  May 2024 •   \n",
       "1                          A big disappointment  Feb 2024 •   \n",
       "2                  Pretty Place with Bland Food  Nov 2023 •   \n",
       "3      Great service and wine but inedible food  Mar 2023 •   \n",
       "4     Avoid- Worst meal in Rome - possibly ever  Nov 2022 •   \n",
       "...                                         ...         ...   \n",
       "1497                           The Tourism Trap  Oct 2016 •   \n",
       "1498                           the beer factory  Oct 2016 •   \n",
       "1499                                    brewery  Oct 2016 •   \n",
       "1500           It's nothing exciting over there  Oct 2016 •   \n",
       "1501                               Tourist Trap  Oct 2016 •   \n",
       "\n",
       "                                                 Review  Words Count  \\\n",
       "0     The manager became agressive when I said the c...         28.0   \n",
       "1     I ordered a beef fillet ask to be done medium,...         57.0   \n",
       "2     This is an attractive venue with welcoming, al...         40.0   \n",
       "3     Sadly I  used the high TripAdvisor rating too ...        278.0   \n",
       "4     From the start this meal was bad- especially g...        249.0   \n",
       "...                                                 ...          ...   \n",
       "1497  Despite the other reviews saying that this is ...        146.0   \n",
       "1498  beer is good.  food is awfull  The only decent...         29.0   \n",
       "1499  for terrible service of a truly comedic level,...         30.0   \n",
       "1500  We visited the Havana's Club Museum which is l...         71.0   \n",
       "1501  Food and service was awful. Very pretty stop. ...         14.0   \n",
       "\n",
       "      Words count Predictions  \n",
       "0              28    Negative  \n",
       "1              57    Negative  \n",
       "2              40    Positive  \n",
       "3             278    Negative  \n",
       "4             249    Negative  \n",
       "...           ...         ...  \n",
       "1497          146    Negative  \n",
       "1498           29    Negative  \n",
       "1499           30    Negative  \n",
       "1500           71    Negative  \n",
       "1501           14    Negative  \n",
       "\n",
       "[1502 rows x 9 columns]"
      ]
     },
     "execution_count": 30,
     "metadata": {},
     "output_type": "execute_result"
    }
   ],
   "source": [
    "reviews_data_with_predictions = reviews_data\n",
    "reviews_data_with_predictions[\"Predictions\"] = predicted_sentiments\n",
    "reviews_data_with_predictions"
   ]
  },
  {
   "cell_type": "code",
   "execution_count": 36,
   "id": "c0628535-41bd-4208-ba86-ebe84cebb16e",
   "metadata": {},
   "outputs": [
    {
     "data": {
      "text/plain": [
       "(1447, 9)"
      ]
     },
     "execution_count": 36,
     "metadata": {},
     "output_type": "execute_result"
    }
   ],
   "source": [
    "reviews_data_with_predictions[reviews_data_with_predictions[\"Sentiment\"] == reviews_data_with_predictions[\"Predictions\"]].shape"
   ]
  },
  {
   "cell_type": "markdown",
   "id": "a12a5b86-d235-4009-bb22-1b834b150dc1",
   "metadata": {},
   "source": [
    "Wow, it got most of them right!"
   ]
  },
  {
   "cell_type": "markdown",
   "id": "773d804d-9c83-48ec-be2b-8564d73d908c",
   "metadata": {},
   "source": [
    "### Problem 7. Deep features (embeddings) (1 point)\n",
    "Use the same model to perform feature extraction on the review contents (or contents + titles) instead of direct predictions. You should already be familiar how to do that from your work on images.\n",
    "\n",
    "Use the cosine similarity between texts to try to cluster them. Are there \"similar\" reviews (you'll need to find a way to measure similarity) across different restaurants? Are customers generally in agreement for the same restaurant?"
   ]
  },
  {
   "cell_type": "code",
   "execution_count": null,
   "id": "f732c764-2ef0-4da2-a662-f8cd7b684245",
   "metadata": {},
   "outputs": [],
   "source": []
  },
  {
   "cell_type": "markdown",
   "id": "c79a585f-1dad-469a-a2ae-31d3981b9e1b",
   "metadata": {},
   "source": [
    "### \\* Problem 8. Explore and model at will\n",
    "In this lab, we focused on preprocessing and feature extraction and we didn't really have a chance to train (or compare) models. The dataset is maybe too small to be conclusive, but feel free to play around with ready-made models, and train your own."
   ]
  },
  {
   "cell_type": "code",
   "execution_count": null,
   "id": "a1e90732-4d96-4692-8588-b9429430a98b",
   "metadata": {},
   "outputs": [],
   "source": []
  }
 ],
 "metadata": {
  "kernelspec": {
   "display_name": "Python 3 (ipykernel)",
   "language": "python",
   "name": "python3"
  },
  "language_info": {
   "codemirror_mode": {
    "name": "ipython",
    "version": 3
   },
   "file_extension": ".py",
   "mimetype": "text/x-python",
   "name": "python",
   "nbconvert_exporter": "python",
   "pygments_lexer": "ipython3",
   "version": "3.12.4"
  }
 },
 "nbformat": 4,
 "nbformat_minor": 5
}
