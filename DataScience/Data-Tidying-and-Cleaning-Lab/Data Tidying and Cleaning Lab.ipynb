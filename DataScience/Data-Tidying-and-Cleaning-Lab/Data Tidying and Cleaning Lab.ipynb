{
 "cells": [
  {
   "cell_type": "code",
   "execution_count": 1,
   "id": "078d90d4-aec6-40fe-997f-ce63c962d936",
   "metadata": {},
   "outputs": [],
   "source": [
    "# Write your imports here\n",
    "import numpy as np\n",
    "import pandas as pd\n",
    "import matplotlib.pyplot as plt\n",
    "\n",
    "import re"
   ]
  },
  {
   "cell_type": "markdown",
   "id": "02aa71be-5d01-4efc-85fa-a019fe92a39a",
   "metadata": {},
   "source": [
    "# Data Tidying and Cleaning Lab\n",
    "## Reading, tidying and cleaning data. Preparing data for exploration, mining, analysis and learning"
   ]
  },
  {
   "cell_type": "markdown",
   "id": "5d809695-5153-449c-9d8a-d79cca98732c",
   "metadata": {},
   "source": [
    "In this lab, you'll be working with the Coffee Quality Index dataset, located [here](https://www.kaggle.com/datasets/volpatto/coffee-quality-database-from-cqi). For convenience (and to save trouble in case you can't download files, or someone uploads a newer version), I've provided the dataset in the `data/` folder. The metadata (description) is at the Kaggle link. For this lab, you'll only need `merged_data_cleaned.csv`, as it is the concatenation of the other two datasets.\n",
    "\n",
    "In this (and the following labs), you'll get several questions and problems. Do your analysis, describe it, use any tools and plots you wish, and answer. You can create any amount of cells you'd like.\n",
    "\n",
    "Sometimes, the answers will not be unique, and they will depend on how you decide to approach and solve the problem. This is usual - we're doing science after all!\n",
    "\n",
    "It's a good idea to save your clean dataset after all the work you've done to it."
   ]
  },
  {
   "cell_type": "markdown",
   "id": "4450ac8e-523c-46f8-a410-9ad5af4cfc14",
   "metadata": {},
   "source": [
    "### Problem 1. Read the dataset (1 point)\n",
    "This should be self-explanatory. The first column is the index."
   ]
  },
  {
   "cell_type": "code",
   "execution_count": 2,
   "id": "df50bd71-ea2a-4db9-814d-c49f782ca101",
   "metadata": {},
   "outputs": [
    {
     "data": {
      "text/html": [
       "<div>\n",
       "<style scoped>\n",
       "    .dataframe tbody tr th:only-of-type {\n",
       "        vertical-align: middle;\n",
       "    }\n",
       "\n",
       "    .dataframe tbody tr th {\n",
       "        vertical-align: top;\n",
       "    }\n",
       "\n",
       "    .dataframe thead th {\n",
       "        text-align: right;\n",
       "    }\n",
       "</style>\n",
       "<table border=\"1\" class=\"dataframe\">\n",
       "  <thead>\n",
       "    <tr style=\"text-align: right;\">\n",
       "      <th></th>\n",
       "      <th>Species</th>\n",
       "      <th>Owner</th>\n",
       "      <th>Country.of.Origin</th>\n",
       "      <th>Farm.Name</th>\n",
       "      <th>Lot.Number</th>\n",
       "      <th>Mill</th>\n",
       "      <th>ICO.Number</th>\n",
       "      <th>Company</th>\n",
       "      <th>Altitude</th>\n",
       "      <th>Region</th>\n",
       "      <th>...</th>\n",
       "      <th>Color</th>\n",
       "      <th>Category.Two.Defects</th>\n",
       "      <th>Expiration</th>\n",
       "      <th>Certification.Body</th>\n",
       "      <th>Certification.Address</th>\n",
       "      <th>Certification.Contact</th>\n",
       "      <th>unit_of_measurement</th>\n",
       "      <th>altitude_low_meters</th>\n",
       "      <th>altitude_high_meters</th>\n",
       "      <th>altitude_mean_meters</th>\n",
       "    </tr>\n",
       "  </thead>\n",
       "  <tbody>\n",
       "    <tr>\n",
       "      <th>0</th>\n",
       "      <td>Arabica</td>\n",
       "      <td>metad plc</td>\n",
       "      <td>Ethiopia</td>\n",
       "      <td>metad plc</td>\n",
       "      <td>NaN</td>\n",
       "      <td>metad plc</td>\n",
       "      <td>2014/2015</td>\n",
       "      <td>metad agricultural developmet plc</td>\n",
       "      <td>1950-2200</td>\n",
       "      <td>guji-hambela</td>\n",
       "      <td>...</td>\n",
       "      <td>Green</td>\n",
       "      <td>0</td>\n",
       "      <td>April 3rd, 2016</td>\n",
       "      <td>METAD Agricultural Development plc</td>\n",
       "      <td>309fcf77415a3661ae83e027f7e5f05dad786e44</td>\n",
       "      <td>19fef5a731de2db57d16da10287413f5f99bc2dd</td>\n",
       "      <td>m</td>\n",
       "      <td>1950.0</td>\n",
       "      <td>2200.0</td>\n",
       "      <td>2075.0</td>\n",
       "    </tr>\n",
       "    <tr>\n",
       "      <th>1</th>\n",
       "      <td>Arabica</td>\n",
       "      <td>metad plc</td>\n",
       "      <td>Ethiopia</td>\n",
       "      <td>metad plc</td>\n",
       "      <td>NaN</td>\n",
       "      <td>metad plc</td>\n",
       "      <td>2014/2015</td>\n",
       "      <td>metad agricultural developmet plc</td>\n",
       "      <td>1950-2200</td>\n",
       "      <td>guji-hambela</td>\n",
       "      <td>...</td>\n",
       "      <td>Green</td>\n",
       "      <td>1</td>\n",
       "      <td>April 3rd, 2016</td>\n",
       "      <td>METAD Agricultural Development plc</td>\n",
       "      <td>309fcf77415a3661ae83e027f7e5f05dad786e44</td>\n",
       "      <td>19fef5a731de2db57d16da10287413f5f99bc2dd</td>\n",
       "      <td>m</td>\n",
       "      <td>1950.0</td>\n",
       "      <td>2200.0</td>\n",
       "      <td>2075.0</td>\n",
       "    </tr>\n",
       "    <tr>\n",
       "      <th>2</th>\n",
       "      <td>Arabica</td>\n",
       "      <td>grounds for health admin</td>\n",
       "      <td>Guatemala</td>\n",
       "      <td>san marcos barrancas \"san cristobal cuch</td>\n",
       "      <td>NaN</td>\n",
       "      <td>NaN</td>\n",
       "      <td>NaN</td>\n",
       "      <td>NaN</td>\n",
       "      <td>1600 - 1800 m</td>\n",
       "      <td>NaN</td>\n",
       "      <td>...</td>\n",
       "      <td>NaN</td>\n",
       "      <td>0</td>\n",
       "      <td>May 31st, 2011</td>\n",
       "      <td>Specialty Coffee Association</td>\n",
       "      <td>36d0d00a3724338ba7937c52a378d085f2172daa</td>\n",
       "      <td>0878a7d4b9d35ddbf0fe2ce69a2062cceb45a660</td>\n",
       "      <td>m</td>\n",
       "      <td>1600.0</td>\n",
       "      <td>1800.0</td>\n",
       "      <td>1700.0</td>\n",
       "    </tr>\n",
       "    <tr>\n",
       "      <th>3</th>\n",
       "      <td>Arabica</td>\n",
       "      <td>yidnekachew dabessa</td>\n",
       "      <td>Ethiopia</td>\n",
       "      <td>yidnekachew dabessa coffee plantation</td>\n",
       "      <td>NaN</td>\n",
       "      <td>wolensu</td>\n",
       "      <td>NaN</td>\n",
       "      <td>yidnekachew debessa coffee plantation</td>\n",
       "      <td>1800-2200</td>\n",
       "      <td>oromia</td>\n",
       "      <td>...</td>\n",
       "      <td>Green</td>\n",
       "      <td>2</td>\n",
       "      <td>March 25th, 2016</td>\n",
       "      <td>METAD Agricultural Development plc</td>\n",
       "      <td>309fcf77415a3661ae83e027f7e5f05dad786e44</td>\n",
       "      <td>19fef5a731de2db57d16da10287413f5f99bc2dd</td>\n",
       "      <td>m</td>\n",
       "      <td>1800.0</td>\n",
       "      <td>2200.0</td>\n",
       "      <td>2000.0</td>\n",
       "    </tr>\n",
       "    <tr>\n",
       "      <th>4</th>\n",
       "      <td>Arabica</td>\n",
       "      <td>metad plc</td>\n",
       "      <td>Ethiopia</td>\n",
       "      <td>metad plc</td>\n",
       "      <td>NaN</td>\n",
       "      <td>metad plc</td>\n",
       "      <td>2014/2015</td>\n",
       "      <td>metad agricultural developmet plc</td>\n",
       "      <td>1950-2200</td>\n",
       "      <td>guji-hambela</td>\n",
       "      <td>...</td>\n",
       "      <td>Green</td>\n",
       "      <td>2</td>\n",
       "      <td>April 3rd, 2016</td>\n",
       "      <td>METAD Agricultural Development plc</td>\n",
       "      <td>309fcf77415a3661ae83e027f7e5f05dad786e44</td>\n",
       "      <td>19fef5a731de2db57d16da10287413f5f99bc2dd</td>\n",
       "      <td>m</td>\n",
       "      <td>1950.0</td>\n",
       "      <td>2200.0</td>\n",
       "      <td>2075.0</td>\n",
       "    </tr>\n",
       "    <tr>\n",
       "      <th>...</th>\n",
       "      <td>...</td>\n",
       "      <td>...</td>\n",
       "      <td>...</td>\n",
       "      <td>...</td>\n",
       "      <td>...</td>\n",
       "      <td>...</td>\n",
       "      <td>...</td>\n",
       "      <td>...</td>\n",
       "      <td>...</td>\n",
       "      <td>...</td>\n",
       "      <td>...</td>\n",
       "      <td>...</td>\n",
       "      <td>...</td>\n",
       "      <td>...</td>\n",
       "      <td>...</td>\n",
       "      <td>...</td>\n",
       "      <td>...</td>\n",
       "      <td>...</td>\n",
       "      <td>...</td>\n",
       "      <td>...</td>\n",
       "      <td>...</td>\n",
       "    </tr>\n",
       "    <tr>\n",
       "      <th>1334</th>\n",
       "      <td>Robusta</td>\n",
       "      <td>luis robles</td>\n",
       "      <td>Ecuador</td>\n",
       "      <td>robustasa</td>\n",
       "      <td>Lavado 1</td>\n",
       "      <td>our own lab</td>\n",
       "      <td>NaN</td>\n",
       "      <td>robustasa</td>\n",
       "      <td>NaN</td>\n",
       "      <td>san juan, playas</td>\n",
       "      <td>...</td>\n",
       "      <td>Blue-Green</td>\n",
       "      <td>1</td>\n",
       "      <td>January 18th, 2017</td>\n",
       "      <td>Specialty Coffee Association</td>\n",
       "      <td>ff7c18ad303d4b603ac3f8cff7e611ffc735e720</td>\n",
       "      <td>352d0cf7f3e9be14dad7df644ad65efc27605ae2</td>\n",
       "      <td>m</td>\n",
       "      <td>NaN</td>\n",
       "      <td>NaN</td>\n",
       "      <td>NaN</td>\n",
       "    </tr>\n",
       "    <tr>\n",
       "      <th>1335</th>\n",
       "      <td>Robusta</td>\n",
       "      <td>luis robles</td>\n",
       "      <td>Ecuador</td>\n",
       "      <td>robustasa</td>\n",
       "      <td>Lavado 3</td>\n",
       "      <td>own laboratory</td>\n",
       "      <td>NaN</td>\n",
       "      <td>robustasa</td>\n",
       "      <td>40</td>\n",
       "      <td>san juan, playas</td>\n",
       "      <td>...</td>\n",
       "      <td>Blue-Green</td>\n",
       "      <td>0</td>\n",
       "      <td>January 18th, 2017</td>\n",
       "      <td>Specialty Coffee Association</td>\n",
       "      <td>ff7c18ad303d4b603ac3f8cff7e611ffc735e720</td>\n",
       "      <td>352d0cf7f3e9be14dad7df644ad65efc27605ae2</td>\n",
       "      <td>m</td>\n",
       "      <td>40.0</td>\n",
       "      <td>40.0</td>\n",
       "      <td>40.0</td>\n",
       "    </tr>\n",
       "    <tr>\n",
       "      <th>1336</th>\n",
       "      <td>Robusta</td>\n",
       "      <td>james moore</td>\n",
       "      <td>United States</td>\n",
       "      <td>fazenda cazengo</td>\n",
       "      <td>NaN</td>\n",
       "      <td>cafe cazengo</td>\n",
       "      <td>NaN</td>\n",
       "      <td>global opportunity fund</td>\n",
       "      <td>795 meters</td>\n",
       "      <td>kwanza norte province, angola</td>\n",
       "      <td>...</td>\n",
       "      <td>NaN</td>\n",
       "      <td>6</td>\n",
       "      <td>December 23rd, 2015</td>\n",
       "      <td>Specialty Coffee Association</td>\n",
       "      <td>ff7c18ad303d4b603ac3f8cff7e611ffc735e720</td>\n",
       "      <td>352d0cf7f3e9be14dad7df644ad65efc27605ae2</td>\n",
       "      <td>m</td>\n",
       "      <td>795.0</td>\n",
       "      <td>795.0</td>\n",
       "      <td>795.0</td>\n",
       "    </tr>\n",
       "    <tr>\n",
       "      <th>1337</th>\n",
       "      <td>Robusta</td>\n",
       "      <td>cafe politico</td>\n",
       "      <td>India</td>\n",
       "      <td>NaN</td>\n",
       "      <td>NaN</td>\n",
       "      <td>NaN</td>\n",
       "      <td>14-1118-2014-0087</td>\n",
       "      <td>cafe politico</td>\n",
       "      <td>NaN</td>\n",
       "      <td>NaN</td>\n",
       "      <td>...</td>\n",
       "      <td>Green</td>\n",
       "      <td>1</td>\n",
       "      <td>August 25th, 2015</td>\n",
       "      <td>Specialty Coffee Association</td>\n",
       "      <td>ff7c18ad303d4b603ac3f8cff7e611ffc735e720</td>\n",
       "      <td>352d0cf7f3e9be14dad7df644ad65efc27605ae2</td>\n",
       "      <td>m</td>\n",
       "      <td>NaN</td>\n",
       "      <td>NaN</td>\n",
       "      <td>NaN</td>\n",
       "    </tr>\n",
       "    <tr>\n",
       "      <th>1338</th>\n",
       "      <td>Robusta</td>\n",
       "      <td>cafe politico</td>\n",
       "      <td>Vietnam</td>\n",
       "      <td>NaN</td>\n",
       "      <td>NaN</td>\n",
       "      <td>NaN</td>\n",
       "      <td>NaN</td>\n",
       "      <td>cafe politico</td>\n",
       "      <td>NaN</td>\n",
       "      <td>NaN</td>\n",
       "      <td>...</td>\n",
       "      <td>NaN</td>\n",
       "      <td>9</td>\n",
       "      <td>August 25th, 2015</td>\n",
       "      <td>Specialty Coffee Association</td>\n",
       "      <td>ff7c18ad303d4b603ac3f8cff7e611ffc735e720</td>\n",
       "      <td>352d0cf7f3e9be14dad7df644ad65efc27605ae2</td>\n",
       "      <td>m</td>\n",
       "      <td>NaN</td>\n",
       "      <td>NaN</td>\n",
       "      <td>NaN</td>\n",
       "    </tr>\n",
       "  </tbody>\n",
       "</table>\n",
       "<p>1339 rows × 43 columns</p>\n",
       "</div>"
      ],
      "text/plain": [
       "      Species                     Owner Country.of.Origin  \\\n",
       "0     Arabica                 metad plc          Ethiopia   \n",
       "1     Arabica                 metad plc          Ethiopia   \n",
       "2     Arabica  grounds for health admin         Guatemala   \n",
       "3     Arabica       yidnekachew dabessa          Ethiopia   \n",
       "4     Arabica                 metad plc          Ethiopia   \n",
       "...       ...                       ...               ...   \n",
       "1334  Robusta               luis robles           Ecuador   \n",
       "1335  Robusta               luis robles           Ecuador   \n",
       "1336  Robusta               james moore     United States   \n",
       "1337  Robusta             cafe politico             India   \n",
       "1338  Robusta             cafe politico           Vietnam   \n",
       "\n",
       "                                     Farm.Name Lot.Number            Mill  \\\n",
       "0                                    metad plc        NaN       metad plc   \n",
       "1                                    metad plc        NaN       metad plc   \n",
       "2     san marcos barrancas \"san cristobal cuch        NaN             NaN   \n",
       "3        yidnekachew dabessa coffee plantation        NaN         wolensu   \n",
       "4                                    metad plc        NaN       metad plc   \n",
       "...                                        ...        ...             ...   \n",
       "1334                                 robustasa   Lavado 1     our own lab   \n",
       "1335                                 robustasa   Lavado 3  own laboratory   \n",
       "1336                           fazenda cazengo        NaN    cafe cazengo   \n",
       "1337                                       NaN        NaN             NaN   \n",
       "1338                                       NaN        NaN             NaN   \n",
       "\n",
       "             ICO.Number                                Company       Altitude  \\\n",
       "0             2014/2015      metad agricultural developmet plc      1950-2200   \n",
       "1             2014/2015      metad agricultural developmet plc      1950-2200   \n",
       "2                   NaN                                    NaN  1600 - 1800 m   \n",
       "3                   NaN  yidnekachew debessa coffee plantation      1800-2200   \n",
       "4             2014/2015      metad agricultural developmet plc      1950-2200   \n",
       "...                 ...                                    ...            ...   \n",
       "1334                NaN                              robustasa            NaN   \n",
       "1335                NaN                              robustasa             40   \n",
       "1336                NaN                global opportunity fund     795 meters   \n",
       "1337  14-1118-2014-0087                          cafe politico            NaN   \n",
       "1338                NaN                          cafe politico            NaN   \n",
       "\n",
       "                             Region  ...       Color  Category.Two.Defects  \\\n",
       "0                      guji-hambela  ...       Green                     0   \n",
       "1                      guji-hambela  ...       Green                     1   \n",
       "2                               NaN  ...         NaN                     0   \n",
       "3                            oromia  ...       Green                     2   \n",
       "4                      guji-hambela  ...       Green                     2   \n",
       "...                             ...  ...         ...                   ...   \n",
       "1334               san juan, playas  ...  Blue-Green                     1   \n",
       "1335               san juan, playas  ...  Blue-Green                     0   \n",
       "1336  kwanza norte province, angola  ...         NaN                     6   \n",
       "1337                            NaN  ...       Green                     1   \n",
       "1338                            NaN  ...         NaN                     9   \n",
       "\n",
       "               Expiration                  Certification.Body  \\\n",
       "0         April 3rd, 2016  METAD Agricultural Development plc   \n",
       "1         April 3rd, 2016  METAD Agricultural Development plc   \n",
       "2          May 31st, 2011        Specialty Coffee Association   \n",
       "3        March 25th, 2016  METAD Agricultural Development plc   \n",
       "4         April 3rd, 2016  METAD Agricultural Development plc   \n",
       "...                   ...                                 ...   \n",
       "1334   January 18th, 2017        Specialty Coffee Association   \n",
       "1335   January 18th, 2017        Specialty Coffee Association   \n",
       "1336  December 23rd, 2015        Specialty Coffee Association   \n",
       "1337    August 25th, 2015        Specialty Coffee Association   \n",
       "1338    August 25th, 2015        Specialty Coffee Association   \n",
       "\n",
       "                         Certification.Address  \\\n",
       "0     309fcf77415a3661ae83e027f7e5f05dad786e44   \n",
       "1     309fcf77415a3661ae83e027f7e5f05dad786e44   \n",
       "2     36d0d00a3724338ba7937c52a378d085f2172daa   \n",
       "3     309fcf77415a3661ae83e027f7e5f05dad786e44   \n",
       "4     309fcf77415a3661ae83e027f7e5f05dad786e44   \n",
       "...                                        ...   \n",
       "1334  ff7c18ad303d4b603ac3f8cff7e611ffc735e720   \n",
       "1335  ff7c18ad303d4b603ac3f8cff7e611ffc735e720   \n",
       "1336  ff7c18ad303d4b603ac3f8cff7e611ffc735e720   \n",
       "1337  ff7c18ad303d4b603ac3f8cff7e611ffc735e720   \n",
       "1338  ff7c18ad303d4b603ac3f8cff7e611ffc735e720   \n",
       "\n",
       "                         Certification.Contact unit_of_measurement  \\\n",
       "0     19fef5a731de2db57d16da10287413f5f99bc2dd                   m   \n",
       "1     19fef5a731de2db57d16da10287413f5f99bc2dd                   m   \n",
       "2     0878a7d4b9d35ddbf0fe2ce69a2062cceb45a660                   m   \n",
       "3     19fef5a731de2db57d16da10287413f5f99bc2dd                   m   \n",
       "4     19fef5a731de2db57d16da10287413f5f99bc2dd                   m   \n",
       "...                                        ...                 ...   \n",
       "1334  352d0cf7f3e9be14dad7df644ad65efc27605ae2                   m   \n",
       "1335  352d0cf7f3e9be14dad7df644ad65efc27605ae2                   m   \n",
       "1336  352d0cf7f3e9be14dad7df644ad65efc27605ae2                   m   \n",
       "1337  352d0cf7f3e9be14dad7df644ad65efc27605ae2                   m   \n",
       "1338  352d0cf7f3e9be14dad7df644ad65efc27605ae2                   m   \n",
       "\n",
       "     altitude_low_meters altitude_high_meters  altitude_mean_meters  \n",
       "0                 1950.0               2200.0                2075.0  \n",
       "1                 1950.0               2200.0                2075.0  \n",
       "2                 1600.0               1800.0                1700.0  \n",
       "3                 1800.0               2200.0                2000.0  \n",
       "4                 1950.0               2200.0                2075.0  \n",
       "...                  ...                  ...                   ...  \n",
       "1334                 NaN                  NaN                   NaN  \n",
       "1335                40.0                 40.0                  40.0  \n",
       "1336               795.0                795.0                 795.0  \n",
       "1337                 NaN                  NaN                   NaN  \n",
       "1338                 NaN                  NaN                   NaN  \n",
       "\n",
       "[1339 rows x 43 columns]"
      ]
     },
     "execution_count": 2,
     "metadata": {},
     "output_type": "execute_result"
    }
   ],
   "source": [
    "coffee_data = pd.read_csv(\"data/merged_data_cleaned.csv\", index_col=0)\n",
    "coffee_data"
   ]
  },
  {
   "cell_type": "markdown",
   "id": "b278e2a8-56b4-4b1a-ad71-e7b920321e37",
   "metadata": {},
   "source": [
    "### Problem 2. Observations and features (1 point)\n",
    "How many observations are there? How many features? Which features are numerical, and which are categorical?\n",
    "\n",
    "**Note:** Think about the _meaning_, not the data types. The dataset hasn't been thoroughly cleaned."
   ]
  },
  {
   "cell_type": "markdown",
   "id": "93a68041-23d9-4e16-bea5-c529e4159d15",
   "metadata": {},
   "source": [
    "First, lets look at the datasets shape to see how many observations there are:"
   ]
  },
  {
   "cell_type": "code",
   "execution_count": 3,
   "id": "caeb5a10-0074-49b6-8a24-db0f1dd950bd",
   "metadata": {},
   "outputs": [
    {
     "data": {
      "text/plain": [
       "(1339, 43)"
      ]
     },
     "execution_count": 3,
     "metadata": {},
     "output_type": "execute_result"
    }
   ],
   "source": [
    "coffee_data.shape"
   ]
  },
  {
   "cell_type": "markdown",
   "id": "958ff2ae-8711-420c-91de-53928f101102",
   "metadata": {},
   "source": [
    "We see, that there are 43 observations in the dataset. We would have to potentially clean them up soon.\n",
    "We can use the dtypes method to see what the colums and their data types are."
   ]
  },
  {
   "cell_type": "code",
   "execution_count": 4,
   "id": "2a22519e-8ea0-49da-a40f-2899c639a2ac",
   "metadata": {},
   "outputs": [
    {
     "data": {
      "text/plain": [
       "Species                   object\n",
       "Owner                     object\n",
       "Country.of.Origin         object\n",
       "Farm.Name                 object\n",
       "Lot.Number                object\n",
       "Mill                      object\n",
       "ICO.Number                object\n",
       "Company                   object\n",
       "Altitude                  object\n",
       "Region                    object\n",
       "Producer                  object\n",
       "Number.of.Bags             int64\n",
       "Bag.Weight                object\n",
       "In.Country.Partner        object\n",
       "Harvest.Year              object\n",
       "Grading.Date              object\n",
       "Owner.1                   object\n",
       "Variety                   object\n",
       "Processing.Method         object\n",
       "Aroma                    float64\n",
       "Flavor                   float64\n",
       "Aftertaste               float64\n",
       "Acidity                  float64\n",
       "Body                     float64\n",
       "Balance                  float64\n",
       "Uniformity               float64\n",
       "Clean.Cup                float64\n",
       "Sweetness                float64\n",
       "Cupper.Points            float64\n",
       "Total.Cup.Points         float64\n",
       "Moisture                 float64\n",
       "Category.One.Defects       int64\n",
       "Quakers                  float64\n",
       "Color                     object\n",
       "Category.Two.Defects       int64\n",
       "Expiration                object\n",
       "Certification.Body        object\n",
       "Certification.Address     object\n",
       "Certification.Contact     object\n",
       "unit_of_measurement       object\n",
       "altitude_low_meters      float64\n",
       "altitude_high_meters     float64\n",
       "altitude_mean_meters     float64\n",
       "dtype: object"
      ]
     },
     "execution_count": 4,
     "metadata": {},
     "output_type": "execute_result"
    }
   ],
   "source": [
    "coffee_data.dtypes"
   ]
  },
  {
   "cell_type": "code",
   "execution_count": 5,
   "id": "0e9072e4-ba29-4490-abef-34c8580b0bc8",
   "metadata": {},
   "outputs": [
    {
     "data": {
      "text/plain": [
       "Index(['Species', 'Owner', 'Country.of.Origin', 'Farm.Name', 'Lot.Number',\n",
       "       'Mill', 'ICO.Number', 'Company', 'Altitude', 'Region', 'Producer',\n",
       "       'Number.of.Bags', 'Bag.Weight', 'In.Country.Partner', 'Harvest.Year',\n",
       "       'Grading.Date', 'Owner.1', 'Variety', 'Processing.Method', 'Aroma',\n",
       "       'Flavor', 'Aftertaste', 'Acidity', 'Body', 'Balance', 'Uniformity',\n",
       "       'Clean.Cup', 'Sweetness', 'Cupper.Points', 'Total.Cup.Points',\n",
       "       'Moisture', 'Category.One.Defects', 'Quakers', 'Color',\n",
       "       'Category.Two.Defects', 'Expiration', 'Certification.Body',\n",
       "       'Certification.Address', 'Certification.Contact', 'unit_of_measurement',\n",
       "       'altitude_low_meters', 'altitude_high_meters', 'altitude_mean_meters'],\n",
       "      dtype='object')"
      ]
     },
     "execution_count": 5,
     "metadata": {},
     "output_type": "execute_result"
    }
   ],
   "source": [
    "coffee_data.columns"
   ]
  },
  {
   "cell_type": "markdown",
   "id": "5547798d-1f64-4623-90a9-a4109d73ba2a",
   "metadata": {},
   "source": [
    "We can divide them by their types like this:\n",
    "\n",
    "**Categorical:** Species, Owner, Country.of.Origin, Farm.Name, Mill, Company, Region, Producer, In.Country.Partner, Owner.1, Variety, Processing.Method, Color, Certification.Body, Certification.Address, Certification.Contact, unit_of_measurement\n",
    "\n",
    "**Numerical:** Number.of.Bags, Bag.Weight, Harvest.Year, Grading.Date, Aroma, Flavor, Aftertaste, Acidity, Body, Balance, Uniformity, Clean.Cup, Sweetness, Cupper.Points, Total.Cup.Points, Moisture, Category.One.Defects, Quakers, Category.Two.Defects, Expiration, altitude_low_meters, altitude_high_meters, altitude_mean_meters"
   ]
  },
  {
   "cell_type": "markdown",
   "id": "2b745e68-35eb-4acb-b39f-513137f0ee4b",
   "metadata": {},
   "source": [
    "### Problem 3. Column manipulation (1 point)\n",
    "Make the column names more Pythonic (which helps with the quality and... aesthetics). Convert column names to `snake_case`, i.e. `species`, `country_of_origin`, `ico_number`, etc. Try to not do it manually."
   ]
  },
  {
   "cell_type": "markdown",
   "id": "f4f9adb1-d76f-4155-aba0-a3ce47a65d05",
   "metadata": {},
   "source": [
    "Lets keep the dataset where we have meda changes in a different variable"
   ]
  },
  {
   "cell_type": "code",
   "execution_count": 6,
   "id": "29120d0f-96bd-4bfb-917d-53452fef10d6",
   "metadata": {},
   "outputs": [],
   "source": [
    "coffee_data_fixed_names = coffee_data.rename(columns = {str : str.lower().replace(\".\", \"_\") for str in coffee_data.columns})"
   ]
  },
  {
   "cell_type": "markdown",
   "id": "6b8750f1-5fe8-4142-9326-8172265999c1",
   "metadata": {},
   "source": [
    "Lets see if it worked:"
   ]
  },
  {
   "cell_type": "code",
   "execution_count": 7,
   "id": "ffe78f96-c3c6-462b-9bae-ab195637ef04",
   "metadata": {},
   "outputs": [
    {
     "data": {
      "text/plain": [
       "Index(['species', 'owner', 'country_of_origin', 'farm_name', 'lot_number',\n",
       "       'mill', 'ico_number', 'company', 'altitude', 'region', 'producer',\n",
       "       'number_of_bags', 'bag_weight', 'in_country_partner', 'harvest_year',\n",
       "       'grading_date', 'owner_1', 'variety', 'processing_method', 'aroma',\n",
       "       'flavor', 'aftertaste', 'acidity', 'body', 'balance', 'uniformity',\n",
       "       'clean_cup', 'sweetness', 'cupper_points', 'total_cup_points',\n",
       "       'moisture', 'category_one_defects', 'quakers', 'color',\n",
       "       'category_two_defects', 'expiration', 'certification_body',\n",
       "       'certification_address', 'certification_contact', 'unit_of_measurement',\n",
       "       'altitude_low_meters', 'altitude_high_meters', 'altitude_mean_meters'],\n",
       "      dtype='object')"
      ]
     },
     "execution_count": 7,
     "metadata": {},
     "output_type": "execute_result"
    }
   ],
   "source": [
    "coffee_data_fixed_names.columns"
   ]
  },
  {
   "cell_type": "markdown",
   "id": "84623864-000f-44ec-8590-6e5408baec2d",
   "metadata": {},
   "source": [
    "It worked!"
   ]
  },
  {
   "cell_type": "markdown",
   "id": "8c53c4c6-6eb9-4c92-bd39-89286fe4c86e",
   "metadata": {},
   "source": [
    "### Problem 4. Bag weight (1 point)\n",
    "What's up with the bag weights? Make all necessary changes to the column values. Don't forget to document your methods and assumptions."
   ]
  },
  {
   "cell_type": "markdown",
   "id": "854f9a6a-70c4-4808-ab70-bdd7df720f6c",
   "metadata": {},
   "source": [
    "Lets look at only the bag weights:"
   ]
  },
  {
   "cell_type": "code",
   "execution_count": 8,
   "id": "f1e70b73-83d3-411f-a8ed-f6cee0e1979e",
   "metadata": {},
   "outputs": [
    {
     "data": {
      "text/plain": [
       "0       60 kg\n",
       "1       60 kg\n",
       "2           1\n",
       "3       60 kg\n",
       "4       60 kg\n",
       "        ...  \n",
       "1334     2 kg\n",
       "1335     2 kg\n",
       "1336     1 kg\n",
       "1337    5 lbs\n",
       "1338    5 lbs\n",
       "Name: bag_weight, Length: 1339, dtype: object"
      ]
     },
     "execution_count": 8,
     "metadata": {},
     "output_type": "execute_result"
    }
   ],
   "source": [
    "coffee_data_fixed_names.bag_weight"
   ]
  },
  {
   "cell_type": "code",
   "execution_count": 9,
   "id": "5e4901fd-154c-4b6a-8dca-65eeeba02fd5",
   "metadata": {},
   "outputs": [
    {
     "data": {
      "text/plain": [
       "array(['60 kg', '1', '30 kg', '69 kg', '1 kg', '2 kg,lbs', '6', '3 lbs',\n",
       "       '50 kg', '2 lbs', '100 lbs', '15 kg', '2 kg', '2', '70 kg',\n",
       "       '19200 kg', '5 lbs', '1 kg,lbs', '6 kg', '0 lbs', '46 kg', '40 kg',\n",
       "       '20 kg', '34 kg', '1 lbs', '660 kg', '18975 kg', '12000 kg',\n",
       "       '35 kg', '66 kg', '80 kg', '132 lbs', '5 kg', '25 kg', '59 kg',\n",
       "       '18000 kg', '150 lbs', '9000 kg', '18 kg', '10 kg', '29 kg',\n",
       "       '1218 kg', '4 lbs', '0 kg', '13800 kg', '1500 kg', '24 kg',\n",
       "       '80 lbs', '8 kg', '3 kg', '350 kg', '67 kg', '4 kg', '55 lbs',\n",
       "       '100 kg', '130 lbs'], dtype=object)"
      ]
     },
     "execution_count": 9,
     "metadata": {},
     "output_type": "execute_result"
    }
   ],
   "source": [
    "coffee_data_fixed_names.bag_weight.unique()"
   ]
  },
  {
   "cell_type": "markdown",
   "id": "c1d2d08c-6774-4702-a38b-bcf0b2da49a3",
   "metadata": {},
   "source": [
    "Here we see some odd data, where we dont know if its kg or lbs. Lets drop these rows."
   ]
  },
  {
   "cell_type": "code",
   "execution_count": 10,
   "id": "cdfe8a8d-cdf8-40ab-a7f7-651865ef1a44",
   "metadata": {},
   "outputs": [
    {
     "data": {
      "text/html": [
       "<div>\n",
       "<style scoped>\n",
       "    .dataframe tbody tr th:only-of-type {\n",
       "        vertical-align: middle;\n",
       "    }\n",
       "\n",
       "    .dataframe tbody tr th {\n",
       "        vertical-align: top;\n",
       "    }\n",
       "\n",
       "    .dataframe thead th {\n",
       "        text-align: right;\n",
       "    }\n",
       "</style>\n",
       "<table border=\"1\" class=\"dataframe\">\n",
       "  <thead>\n",
       "    <tr style=\"text-align: right;\">\n",
       "      <th></th>\n",
       "      <th>species</th>\n",
       "      <th>owner</th>\n",
       "      <th>country_of_origin</th>\n",
       "      <th>farm_name</th>\n",
       "      <th>lot_number</th>\n",
       "      <th>mill</th>\n",
       "      <th>ico_number</th>\n",
       "      <th>company</th>\n",
       "      <th>altitude</th>\n",
       "      <th>region</th>\n",
       "      <th>...</th>\n",
       "      <th>color</th>\n",
       "      <th>category_two_defects</th>\n",
       "      <th>expiration</th>\n",
       "      <th>certification_body</th>\n",
       "      <th>certification_address</th>\n",
       "      <th>certification_contact</th>\n",
       "      <th>unit_of_measurement</th>\n",
       "      <th>altitude_low_meters</th>\n",
       "      <th>altitude_high_meters</th>\n",
       "      <th>altitude_mean_meters</th>\n",
       "    </tr>\n",
       "  </thead>\n",
       "  <tbody>\n",
       "    <tr>\n",
       "      <th>16</th>\n",
       "      <td>Arabica</td>\n",
       "      <td>grounds for health admin</td>\n",
       "      <td>Indonesia</td>\n",
       "      <td>toarco jaya</td>\n",
       "      <td>NaN</td>\n",
       "      <td>NaN</td>\n",
       "      <td>NaN</td>\n",
       "      <td>NaN</td>\n",
       "      <td>1200-1800m</td>\n",
       "      <td>sulawesi</td>\n",
       "      <td>...</td>\n",
       "      <td>NaN</td>\n",
       "      <td>0</td>\n",
       "      <td>May 31st, 2011</td>\n",
       "      <td>Specialty Coffee Association</td>\n",
       "      <td>36d0d00a3724338ba7937c52a378d085f2172daa</td>\n",
       "      <td>0878a7d4b9d35ddbf0fe2ce69a2062cceb45a660</td>\n",
       "      <td>m</td>\n",
       "      <td>1200.0</td>\n",
       "      <td>1800.0</td>\n",
       "      <td>1500.0</td>\n",
       "    </tr>\n",
       "  </tbody>\n",
       "</table>\n",
       "<p>1 rows × 43 columns</p>\n",
       "</div>"
      ],
      "text/plain": [
       "    species                     owner country_of_origin    farm_name  \\\n",
       "16  Arabica  grounds for health admin         Indonesia  toarco jaya   \n",
       "\n",
       "   lot_number mill ico_number company    altitude    region  ... color  \\\n",
       "16        NaN  NaN        NaN     NaN  1200-1800m  sulawesi  ...   NaN   \n",
       "\n",
       "    category_two_defects      expiration            certification_body  \\\n",
       "16                     0  May 31st, 2011  Specialty Coffee Association   \n",
       "\n",
       "                       certification_address  \\\n",
       "16  36d0d00a3724338ba7937c52a378d085f2172daa   \n",
       "\n",
       "                       certification_contact unit_of_measurement  \\\n",
       "16  0878a7d4b9d35ddbf0fe2ce69a2062cceb45a660                   m   \n",
       "\n",
       "   altitude_low_meters altitude_high_meters  altitude_mean_meters  \n",
       "16              1200.0               1800.0                1500.0  \n",
       "\n",
       "[1 rows x 43 columns]"
      ]
     },
     "execution_count": 10,
     "metadata": {},
     "output_type": "execute_result"
    }
   ],
   "source": [
    "coffee_data_fixed_names.query(\"bag_weight == '2 kg,lbs'\")\n",
    "\n"
   ]
  },
  {
   "cell_type": "code",
   "execution_count": 11,
   "id": "9451d00f-ba0d-4c62-862f-3b9c2e315df5",
   "metadata": {},
   "outputs": [
    {
     "data": {
      "text/html": [
       "<div>\n",
       "<style scoped>\n",
       "    .dataframe tbody tr th:only-of-type {\n",
       "        vertical-align: middle;\n",
       "    }\n",
       "\n",
       "    .dataframe tbody tr th {\n",
       "        vertical-align: top;\n",
       "    }\n",
       "\n",
       "    .dataframe thead th {\n",
       "        text-align: right;\n",
       "    }\n",
       "</style>\n",
       "<table border=\"1\" class=\"dataframe\">\n",
       "  <thead>\n",
       "    <tr style=\"text-align: right;\">\n",
       "      <th></th>\n",
       "      <th>species</th>\n",
       "      <th>owner</th>\n",
       "      <th>country_of_origin</th>\n",
       "      <th>farm_name</th>\n",
       "      <th>lot_number</th>\n",
       "      <th>mill</th>\n",
       "      <th>ico_number</th>\n",
       "      <th>company</th>\n",
       "      <th>altitude</th>\n",
       "      <th>region</th>\n",
       "      <th>...</th>\n",
       "      <th>color</th>\n",
       "      <th>category_two_defects</th>\n",
       "      <th>expiration</th>\n",
       "      <th>certification_body</th>\n",
       "      <th>certification_address</th>\n",
       "      <th>certification_contact</th>\n",
       "      <th>unit_of_measurement</th>\n",
       "      <th>altitude_low_meters</th>\n",
       "      <th>altitude_high_meters</th>\n",
       "      <th>altitude_mean_meters</th>\n",
       "    </tr>\n",
       "  </thead>\n",
       "  <tbody>\n",
       "    <tr>\n",
       "      <th>74</th>\n",
       "      <td>Arabica</td>\n",
       "      <td>grounds for health admin</td>\n",
       "      <td>El Salvador</td>\n",
       "      <td>sierra nevada</td>\n",
       "      <td>NaN</td>\n",
       "      <td>beneficio las tres puertas</td>\n",
       "      <td>9-060-60D-L-1D</td>\n",
       "      <td>NaN</td>\n",
       "      <td>1400 m</td>\n",
       "      <td>apaneca</td>\n",
       "      <td>...</td>\n",
       "      <td>NaN</td>\n",
       "      <td>0</td>\n",
       "      <td>May 31st, 2011</td>\n",
       "      <td>Specialty Coffee Association</td>\n",
       "      <td>36d0d00a3724338ba7937c52a378d085f2172daa</td>\n",
       "      <td>0878a7d4b9d35ddbf0fe2ce69a2062cceb45a660</td>\n",
       "      <td>m</td>\n",
       "      <td>1400.0</td>\n",
       "      <td>1400.0</td>\n",
       "      <td>1400.0</td>\n",
       "    </tr>\n",
       "  </tbody>\n",
       "</table>\n",
       "<p>1 rows × 43 columns</p>\n",
       "</div>"
      ],
      "text/plain": [
       "    species                     owner country_of_origin      farm_name  \\\n",
       "74  Arabica  grounds for health admin       El Salvador  sierra nevada   \n",
       "\n",
       "   lot_number                        mill      ico_number company altitude  \\\n",
       "74        NaN  beneficio las tres puertas  9-060-60D-L-1D     NaN   1400 m   \n",
       "\n",
       "     region  ... color  category_two_defects      expiration  \\\n",
       "74  apaneca  ...   NaN                     0  May 31st, 2011   \n",
       "\n",
       "              certification_body                     certification_address  \\\n",
       "74  Specialty Coffee Association  36d0d00a3724338ba7937c52a378d085f2172daa   \n",
       "\n",
       "                       certification_contact unit_of_measurement  \\\n",
       "74  0878a7d4b9d35ddbf0fe2ce69a2062cceb45a660                   m   \n",
       "\n",
       "   altitude_low_meters altitude_high_meters  altitude_mean_meters  \n",
       "74              1400.0               1400.0                1400.0  \n",
       "\n",
       "[1 rows x 43 columns]"
      ]
     },
     "execution_count": 11,
     "metadata": {},
     "output_type": "execute_result"
    }
   ],
   "source": [
    "coffee_data_fixed_names.query(\"bag_weight == '1 kg,lbs'\")"
   ]
  },
  {
   "cell_type": "code",
   "execution_count": 12,
   "id": "cf91110a-f046-452a-96c9-d11d52ce184a",
   "metadata": {},
   "outputs": [],
   "source": [
    "coffee_data_tidy = coffee_data_fixed_names.drop(index = [16, 74])"
   ]
  },
  {
   "cell_type": "code",
   "execution_count": 13,
   "id": "1bc64b79-101a-4015-9876-a3cbacf82a7b",
   "metadata": {},
   "outputs": [
    {
     "data": {
      "text/plain": [
       "array(['60 kg', '1', '30 kg', '69 kg', '1 kg', '6', '3 lbs', '50 kg',\n",
       "       '2 lbs', '100 lbs', '15 kg', '2 kg', '2', '70 kg', '19200 kg',\n",
       "       '5 lbs', '6 kg', '0 lbs', '46 kg', '40 kg', '20 kg', '34 kg',\n",
       "       '1 lbs', '660 kg', '18975 kg', '12000 kg', '35 kg', '66 kg',\n",
       "       '80 kg', '132 lbs', '5 kg', '25 kg', '59 kg', '18000 kg',\n",
       "       '150 lbs', '9000 kg', '18 kg', '10 kg', '29 kg', '1218 kg',\n",
       "       '4 lbs', '0 kg', '13800 kg', '1500 kg', '24 kg', '80 lbs', '8 kg',\n",
       "       '3 kg', '350 kg', '67 kg', '4 kg', '55 lbs', '100 kg', '130 lbs'],\n",
       "      dtype=object)"
      ]
     },
     "execution_count": 13,
     "metadata": {},
     "output_type": "execute_result"
    }
   ],
   "source": [
    "coffee_data_tidy.bag_weight.unique()"
   ]
  },
  {
   "cell_type": "code",
   "execution_count": 14,
   "id": "499e1122-18ac-49f6-a191-b5605cec503e",
   "metadata": {},
   "outputs": [
    {
     "data": {
      "text/html": [
       "<div>\n",
       "<style scoped>\n",
       "    .dataframe tbody tr th:only-of-type {\n",
       "        vertical-align: middle;\n",
       "    }\n",
       "\n",
       "    .dataframe tbody tr th {\n",
       "        vertical-align: top;\n",
       "    }\n",
       "\n",
       "    .dataframe thead th {\n",
       "        text-align: right;\n",
       "    }\n",
       "</style>\n",
       "<table border=\"1\" class=\"dataframe\">\n",
       "  <thead>\n",
       "    <tr style=\"text-align: right;\">\n",
       "      <th></th>\n",
       "      <th>unit_of_measurement</th>\n",
       "      <th>bag_weight</th>\n",
       "    </tr>\n",
       "  </thead>\n",
       "  <tbody>\n",
       "    <tr>\n",
       "      <th>0</th>\n",
       "      <td>m</td>\n",
       "      <td>60 kg</td>\n",
       "    </tr>\n",
       "    <tr>\n",
       "      <th>1</th>\n",
       "      <td>m</td>\n",
       "      <td>60 kg</td>\n",
       "    </tr>\n",
       "    <tr>\n",
       "      <th>2</th>\n",
       "      <td>m</td>\n",
       "      <td>1</td>\n",
       "    </tr>\n",
       "    <tr>\n",
       "      <th>3</th>\n",
       "      <td>m</td>\n",
       "      <td>60 kg</td>\n",
       "    </tr>\n",
       "    <tr>\n",
       "      <th>4</th>\n",
       "      <td>m</td>\n",
       "      <td>60 kg</td>\n",
       "    </tr>\n",
       "    <tr>\n",
       "      <th>...</th>\n",
       "      <td>...</td>\n",
       "      <td>...</td>\n",
       "    </tr>\n",
       "    <tr>\n",
       "      <th>1334</th>\n",
       "      <td>m</td>\n",
       "      <td>2 kg</td>\n",
       "    </tr>\n",
       "    <tr>\n",
       "      <th>1335</th>\n",
       "      <td>m</td>\n",
       "      <td>2 kg</td>\n",
       "    </tr>\n",
       "    <tr>\n",
       "      <th>1336</th>\n",
       "      <td>m</td>\n",
       "      <td>1 kg</td>\n",
       "    </tr>\n",
       "    <tr>\n",
       "      <th>1337</th>\n",
       "      <td>m</td>\n",
       "      <td>5 lbs</td>\n",
       "    </tr>\n",
       "    <tr>\n",
       "      <th>1338</th>\n",
       "      <td>m</td>\n",
       "      <td>5 lbs</td>\n",
       "    </tr>\n",
       "  </tbody>\n",
       "</table>\n",
       "<p>1339 rows × 2 columns</p>\n",
       "</div>"
      ],
      "text/plain": [
       "     unit_of_measurement bag_weight\n",
       "0                      m      60 kg\n",
       "1                      m      60 kg\n",
       "2                      m          1\n",
       "3                      m      60 kg\n",
       "4                      m      60 kg\n",
       "...                  ...        ...\n",
       "1334                   m       2 kg\n",
       "1335                   m       2 kg\n",
       "1336                   m       1 kg\n",
       "1337                   m      5 lbs\n",
       "1338                   m      5 lbs\n",
       "\n",
       "[1339 rows x 2 columns]"
      ]
     },
     "execution_count": 14,
     "metadata": {},
     "output_type": "execute_result"
    }
   ],
   "source": [
    "coffee_data_fixed_names[[\"unit_of_measurement\", \"bag_weight\"]]"
   ]
  },
  {
   "cell_type": "markdown",
   "id": "a9d2bb69-c181-465d-9ba6-2d2222f03bbf",
   "metadata": {},
   "source": [
    "We see, that there is no dependency between the unit of measurement column and whether the bag weight is measured in kg or lbs. So lets convert everything to kg."
   ]
  },
  {
   "cell_type": "markdown",
   "id": "6080f1b6-a51f-4d3e-b6fc-ebeaad540ae9",
   "metadata": {},
   "source": [
    "Lets define a function to convert elements into kg and round them:"
   ]
  },
  {
   "cell_type": "code",
   "execution_count": 15,
   "id": "3c2ace4f-6b6d-468c-8fd3-58b7942375c3",
   "metadata": {},
   "outputs": [],
   "source": [
    "def convert_kg(str):\n",
    "    if \" kg\" in str:\n",
    "        str = str.replace(\" kg\", \"\")\n",
    "        return int(str)\n",
    "    elif \" lbs\" in str:\n",
    "        str = str.replace(\" lbs\", \"\")\n",
    "        return int(str) * 0.453592\n",
    "    else:\n",
    "        return int(str)"
   ]
  },
  {
   "cell_type": "markdown",
   "id": "76714584-4fb7-4377-8721-e0588227ca45",
   "metadata": {},
   "source": [
    "Now lets change these values:"
   ]
  },
  {
   "cell_type": "code",
   "execution_count": 16,
   "id": "a7da5768-2e83-47fc-a712-b7da3f68ff0e",
   "metadata": {},
   "outputs": [],
   "source": [
    "coffee_data_tidy[\"bag_weight\"] = coffee_data_tidy[\"bag_weight\"].apply(convert_kg)\n",
    "coffee_data_tidy[\"bag_weight\"] = coffee_data_tidy[\"bag_weight\"].astype(int)"
   ]
  },
  {
   "cell_type": "markdown",
   "id": "929b9f07-b16a-4009-9cce-6bb91f2d3ba0",
   "metadata": {},
   "source": [
    "Now we have converted everything to kg and the column now contains ints, instead of strings"
   ]
  },
  {
   "cell_type": "code",
   "execution_count": 17,
   "id": "0a6515c0-b108-4524-a464-62342fc04d56",
   "metadata": {},
   "outputs": [
    {
     "data": {
      "text/plain": [
       "array([   60,     1,    30,    69,     6,    50,     0,    45,    15,\n",
       "           2,    70, 19200,    46,    40,    20,    34,   660, 18975,\n",
       "       12000,    35,    66,    80,    59,     5,    25, 18000,    68,\n",
       "        9000,    18,    10,    29,  1218, 13800,  1500,    24,    36,\n",
       "           8,     3,   350,    67,     4,   100,    58])"
      ]
     },
     "execution_count": 17,
     "metadata": {},
     "output_type": "execute_result"
    }
   ],
   "source": [
    "coffee_data_tidy[\"bag_weight\"].unique()"
   ]
  },
  {
   "cell_type": "markdown",
   "id": "2ff1f817-8e5e-4185-a320-dde7ed2cada1",
   "metadata": {},
   "source": [
    "### Problem 5. Dates (1 point)\n",
    "This should remind you of problem 4 but it's slightly nastier. Fix the harvest years, document the process.\n",
    "\n",
    "While you're here, fix the expiration dates, and grading dates. Unlike the other column, these should be dates (`pd.to_datetime()` is your friend)."
   ]
  },
  {
   "cell_type": "code",
   "execution_count": 18,
   "id": "814dc5f9-9572-44f0-bff6-8efeb084f93d",
   "metadata": {},
   "outputs": [
    {
     "data": {
      "text/plain": [
       "array(['2014', nan, '2013', '2012', 'March 2010',\n",
       "       'Sept 2009 - April 2010', '2009/2010', '2015', '2011', '2016',\n",
       "       '2015/2016', '2010', 'Fall 2009', '2017', '2010-2011', '2009-2010',\n",
       "       '2009 - 2010', '2013/2014', '2017 / 2018', 'mmm', 'TEST',\n",
       "       'December 2009-March 2010', '2014/2015', '2011/2012',\n",
       "       'January 2011', '4T/10', '2016 / 2017', '23 July 2010',\n",
       "       'January Through April', '1T/2011', '4t/2010', '4T/2010',\n",
       "       'August to December', 'Mayo a Julio', '47/2010', 'Abril - Julio',\n",
       "       '4t/2011', 'Abril - Julio /2011', 'Spring 2011 in Colombia.',\n",
       "       '3T/2011', '2016/2017', '1t/2011', '2018', '4T72010', '08/09 crop'],\n",
       "      dtype=object)"
      ]
     },
     "execution_count": 18,
     "metadata": {},
     "output_type": "execute_result"
    }
   ],
   "source": [
    "coffee_data_tidy.harvest_year.unique()"
   ]
  },
  {
   "cell_type": "markdown",
   "id": "1f55c24c-fd60-4bf8-a78c-963638d15917",
   "metadata": {},
   "source": [
    "We can see, that in some cases the harvest year is not a single value, but rather a period so lets create two new columns for the beginning and end of the harvest:"
   ]
  },
  {
   "cell_type": "code",
   "execution_count": 19,
   "id": "e127eb34-3f7d-4b31-a03b-cac1042404e1",
   "metadata": {},
   "outputs": [
    {
     "data": {
      "text/plain": [
       "array([2014.,   nan, 2013., 2012., 2010., 2009., 2015., 2011., 2016.,\n",
       "       2017., 2018.])"
      ]
     },
     "execution_count": 19,
     "metadata": {},
     "output_type": "execute_result"
    }
   ],
   "source": [
    "def get_first_year(text):\n",
    "    if text == np.nan:\n",
    "        return None\n",
    "    years = re.findall(r\"20[0-9][0-9]\", text)\n",
    "    if years:\n",
    "        return str(years[0])\n",
    "    return None\n",
    "    \n",
    "coffee_data_tidy[\"harvest_year_begin\"] = coffee_data_tidy[~(coffee_data_tidy[\"harvest_year\"].isna())][\"harvest_year\"].apply(get_first_year).astype(float)\n",
    "coffee_data_tidy[\"harvest_year_begin\"].unique()"
   ]
  },
  {
   "cell_type": "code",
   "execution_count": 20,
   "id": "063bd01a-4782-48a6-a111-c1bbc812e5d8",
   "metadata": {},
   "outputs": [
    {
     "data": {
      "text/plain": [
       "array([2014.,   nan, 2013., 2012., 2010., 2015., 2011., 2016., 2009.,\n",
       "       2017., 2018.])"
      ]
     },
     "execution_count": 20,
     "metadata": {},
     "output_type": "execute_result"
    }
   ],
   "source": [
    "def get_last_year(text):\n",
    "    if text == np.nan:\n",
    "        return None\n",
    "    years = re.findall(r\"20[0-9][0-9]\", text)\n",
    "    if years:\n",
    "        try:\n",
    "            return str(years[1])\n",
    "        except(IndexError):\n",
    "            return str(years[0])\n",
    "    return None\n",
    "\n",
    "coffee_data_tidy[\"harvest_year_end\"] = coffee_data_tidy[~(coffee_data_tidy[\"harvest_year\"].isna())][\"harvest_year\"].apply(get_last_year).astype(float)\n",
    "coffee_data_tidy[\"harvest_year_end\"].unique()"
   ]
  },
  {
   "cell_type": "markdown",
   "id": "5da591ca-7630-4fa9-8502-fe23b2d162f3",
   "metadata": {},
   "source": [
    "Now lets see what we did:"
   ]
  },
  {
   "cell_type": "code",
   "execution_count": 21,
   "id": "7a73228d-43b1-4f47-b8a8-437d21b8e9b4",
   "metadata": {},
   "outputs": [
    {
     "data": {
      "text/html": [
       "<div>\n",
       "<style scoped>\n",
       "    .dataframe tbody tr th:only-of-type {\n",
       "        vertical-align: middle;\n",
       "    }\n",
       "\n",
       "    .dataframe tbody tr th {\n",
       "        vertical-align: top;\n",
       "    }\n",
       "\n",
       "    .dataframe thead th {\n",
       "        text-align: right;\n",
       "    }\n",
       "</style>\n",
       "<table border=\"1\" class=\"dataframe\">\n",
       "  <thead>\n",
       "    <tr style=\"text-align: right;\">\n",
       "      <th></th>\n",
       "      <th>harvest_year_begin</th>\n",
       "      <th>harvest_year_end</th>\n",
       "    </tr>\n",
       "  </thead>\n",
       "  <tbody>\n",
       "    <tr>\n",
       "      <th>0</th>\n",
       "      <td>2014.0</td>\n",
       "      <td>2014.0</td>\n",
       "    </tr>\n",
       "    <tr>\n",
       "      <th>1</th>\n",
       "      <td>2014.0</td>\n",
       "      <td>2014.0</td>\n",
       "    </tr>\n",
       "    <tr>\n",
       "      <th>2</th>\n",
       "      <td>NaN</td>\n",
       "      <td>NaN</td>\n",
       "    </tr>\n",
       "    <tr>\n",
       "      <th>3</th>\n",
       "      <td>2014.0</td>\n",
       "      <td>2014.0</td>\n",
       "    </tr>\n",
       "    <tr>\n",
       "      <th>4</th>\n",
       "      <td>2014.0</td>\n",
       "      <td>2014.0</td>\n",
       "    </tr>\n",
       "    <tr>\n",
       "      <th>...</th>\n",
       "      <td>...</td>\n",
       "      <td>...</td>\n",
       "    </tr>\n",
       "    <tr>\n",
       "      <th>1334</th>\n",
       "      <td>2016.0</td>\n",
       "      <td>2016.0</td>\n",
       "    </tr>\n",
       "    <tr>\n",
       "      <th>1335</th>\n",
       "      <td>2016.0</td>\n",
       "      <td>2016.0</td>\n",
       "    </tr>\n",
       "    <tr>\n",
       "      <th>1336</th>\n",
       "      <td>2014.0</td>\n",
       "      <td>2014.0</td>\n",
       "    </tr>\n",
       "    <tr>\n",
       "      <th>1337</th>\n",
       "      <td>2013.0</td>\n",
       "      <td>2013.0</td>\n",
       "    </tr>\n",
       "    <tr>\n",
       "      <th>1338</th>\n",
       "      <td>2013.0</td>\n",
       "      <td>2013.0</td>\n",
       "    </tr>\n",
       "  </tbody>\n",
       "</table>\n",
       "<p>1337 rows × 2 columns</p>\n",
       "</div>"
      ],
      "text/plain": [
       "      harvest_year_begin  harvest_year_end\n",
       "0                 2014.0            2014.0\n",
       "1                 2014.0            2014.0\n",
       "2                    NaN               NaN\n",
       "3                 2014.0            2014.0\n",
       "4                 2014.0            2014.0\n",
       "...                  ...               ...\n",
       "1334              2016.0            2016.0\n",
       "1335              2016.0            2016.0\n",
       "1336              2014.0            2014.0\n",
       "1337              2013.0            2013.0\n",
       "1338              2013.0            2013.0\n",
       "\n",
       "[1337 rows x 2 columns]"
      ]
     },
     "execution_count": 21,
     "metadata": {},
     "output_type": "execute_result"
    }
   ],
   "source": [
    "coffee_data_tidy[[\"harvest_year_begin\", \"harvest_year_end\"]]"
   ]
  },
  {
   "cell_type": "markdown",
   "id": "eb5066a9-0616-4236-8838-7bd931b73701",
   "metadata": {},
   "source": [
    "It looks correct, now lets drop the original column:"
   ]
  },
  {
   "cell_type": "code",
   "execution_count": 22,
   "id": "65c98bc6-626a-4112-a463-9405d9bbb551",
   "metadata": {},
   "outputs": [],
   "source": [
    "coffee_data_tidy = coffee_data_tidy.drop(columns=[\"harvest_year\"])"
   ]
  },
  {
   "cell_type": "markdown",
   "id": "39603911-c591-4174-af8f-333dde13145c",
   "metadata": {},
   "source": [
    "Now lets take a look at the expiration and grading dates:"
   ]
  },
  {
   "cell_type": "code",
   "execution_count": 23,
   "id": "f85316e8-581a-46c3-985f-c05cd1fa8f21",
   "metadata": {},
   "outputs": [
    {
     "data": {
      "text/plain": [
       "array(['April 3rd, 2016', 'May 31st, 2011', 'March 25th, 2016',\n",
       "       'September 3rd, 2014', 'September 17th, 2013',\n",
       "       'September 2nd, 2011', 'March 29th, 2016', 'March 26th, 2016',\n",
       "       'March 12th, 2016', 'August 31st, 2011', 'June 16th, 2011',\n",
       "       'April 7th, 2017', 'March 24th, 2016', 'April 2nd, 2015',\n",
       "       'July 26th, 2013', 'December 2nd, 2012', 'June 26th, 2015',\n",
       "       'May 18th, 2018', 'May 18th, 2017', 'May 18th, 2011',\n",
       "       'December 2nd, 2016', 'May 30th, 2015', 'April 6th, 2013',\n",
       "       'January 28th, 2012', 'June 17th, 2011', 'April 12th, 2013',\n",
       "       'January 4th, 2012', 'June 9th, 2016', 'January 29th, 2016',\n",
       "       'October 1st, 2015', 'March 20th, 2015', 'February 6th, 2015',\n",
       "       'February 12th, 2013', 'May 16th, 2017', 'June 30th, 2015',\n",
       "       'July 26th, 2014', 'October 9th, 2018', 'July 3rd, 2013',\n",
       "       'June 5th, 2013', 'June 23rd, 2018', 'January 22nd, 2015',\n",
       "       'October 25th, 2013', 'March 18th, 2014', 'January 12th, 2014',\n",
       "       'May 22nd, 2016', 'March 30th, 2016', 'February 26th, 2014',\n",
       "       'April 6th, 2017', 'May 1st, 2015', 'April 19th, 2014',\n",
       "       'March 12th, 2014', 'April 27th, 2017', 'April 7th, 2016',\n",
       "       'January 17th, 2015', 'November 26th, 2013', 'January 17th, 2013',\n",
       "       'August 9th, 2017', 'August 17th, 2016', 'October 7th, 2015',\n",
       "       'March 10th, 2015', 'March 16th, 2013', 'December 27th, 2011',\n",
       "       'May 17th, 2011', 'July 24th, 2018', 'February 15th, 2018',\n",
       "       'January 30th, 2018', 'September 21st, 2017', 'May 7th, 2017',\n",
       "       'February 28th, 2013', 'April 5th, 2012', 'February 24th, 2012',\n",
       "       'September 7th, 2011', 'November 25th, 2017', 'October 25th, 2016',\n",
       "       'June 8th, 2016', 'December 12th, 2015', 'December 11th, 2013',\n",
       "       'July 11th, 2013', 'December 22nd, 2012', 'August 26th, 2011',\n",
       "       'June 27th, 2017', 'June 1st, 2016', 'April 25th, 2015',\n",
       "       'August 22nd, 2012', 'June 26th, 2018', 'November 24th, 2017',\n",
       "       'November 2nd, 2017', 'October 4th, 2017', 'June 1st, 2017',\n",
       "       'July 5th, 2016', 'March 5th, 2015', 'January 3rd, 2015',\n",
       "       'December 26th, 2014', 'December 20th, 2014',\n",
       "       'September 16th, 2013', 'July 17th, 2013', 'July 2nd, 2013',\n",
       "       'June 13th, 2012', 'January 11th, 2019', 'January 10th, 2018',\n",
       "       'December 28th, 2017', 'July 21st, 2015', 'May 29th, 2015',\n",
       "       'March 24th, 2015', 'December 6th, 2014', 'August 30th, 2014',\n",
       "       'July 17th, 2014', 'October 9th, 2013', 'November 28th, 2018',\n",
       "       'March 14th, 2018', 'June 4th, 2016', 'June 16th, 2015',\n",
       "       'June 6th, 2013', 'February 15th, 2013', 'March 22nd, 2012',\n",
       "       'March 21st, 2012', 'March 23rd, 2018', 'January 24th, 2017',\n",
       "       'July 9th, 2015', 'July 10th, 2014', 'January 21st, 2014',\n",
       "       'August 3rd, 2018', 'May 11th, 2018', 'February 20th, 2018',\n",
       "       'April 4th, 2017', 'February 15th, 2017', 'April 28th, 2016',\n",
       "       'July 19th, 2014', 'July 27th, 2013', 'October 27th, 2012',\n",
       "       'April 30th, 2011', 'August 10th, 2018', 'August 5th, 2017',\n",
       "       'May 23rd, 2017', 'November 18th, 2016', 'August 21st, 2015',\n",
       "       'October 1st, 2014', 'September 11th, 2013', 'April 9th, 2013',\n",
       "       'April 2nd, 2013', 'June 1st, 2018', 'August 19th, 2017',\n",
       "       'June 23rd, 2017', 'August 2nd, 2016', 'April 23rd, 2016',\n",
       "       'April 9th, 2016', 'October 15th, 2015', 'July 16th, 2015',\n",
       "       'November 7th, 2014', 'May 20th, 2014', 'May 9th, 2014',\n",
       "       'October 19th, 2013', 'March 26th, 2013', 'May 24th, 2018',\n",
       "       'November 9th, 2018', 'November 5th, 2015', 'January 24th, 2014',\n",
       "       'September 4th, 2013', 'August 17th, 2013', 'June 5th, 2018',\n",
       "       'December 18th, 2015', 'August 8th, 2015', 'June 27th, 2015',\n",
       "       'May 27th, 2015', 'April 8th, 2015', 'January 2nd, 2015',\n",
       "       'June 21st, 2014', 'March 8th, 2014', 'June 21st, 2013',\n",
       "       'May 31st, 2013', 'August 15th, 2012', 'October 20th, 2018',\n",
       "       'July 3rd, 2018', 'October 18th, 2017', 'August 16th, 2017',\n",
       "       'February 10th, 2017', 'January 20th, 2017', 'November 6th, 2016',\n",
       "       'March 11th, 2016', 'November 23rd, 2015', 'June 30th, 2018',\n",
       "       'June 6th, 2017', 'February 22nd, 2017', 'October 7th, 2016',\n",
       "       'April 29th, 2016', 'October 16th, 2015', 'June 9th, 2015',\n",
       "       'May 22nd, 2015', 'October 4th, 2014', 'April 26th, 2014',\n",
       "       'December 20th, 2012', 'September 19th, 2012',\n",
       "       'September 28th, 2018', 'June 6th, 2018', 'November 26th, 2016',\n",
       "       'February 5th, 2015', 'January 24th, 2015', 'November 22nd, 2014',\n",
       "       'August 27th, 2014', 'May 2nd, 2014', 'September 27th, 2013',\n",
       "       'May 24th, 2013', 'April 19th, 2012', 'February 9th, 2012',\n",
       "       'June 29th, 2011', 'September 1st, 2018', 'March 14th, 2017',\n",
       "       'November 21st, 2015', 'February 27th, 2015', 'October 29th, 2014',\n",
       "       'August 16th, 2014', 'May 30th, 2014', 'November 22nd, 2013',\n",
       "       'August 23rd, 2013', 'July 9th, 2013', 'May 23rd, 2013',\n",
       "       'April 30th, 2013', 'April 20th, 2012', 'July 5th, 2017',\n",
       "       'April 15th, 2017', 'May 11th, 2016', 'June 24th, 2015',\n",
       "       'March 13th, 2015', 'March 21st, 2015', 'August 31st, 2013',\n",
       "       'January 22nd, 2013', 'February 13th, 2018', 'March 16th, 2017',\n",
       "       'November 15th, 2016', 'September 13th, 2016',\n",
       "       'January 22nd, 2016', 'August 11th, 2015', 'May 24th, 2014',\n",
       "       'August 30th, 2013', 'February 8th, 2013', 'January 31st, 2013',\n",
       "       'March 7th, 2012', 'November 29th, 2011', 'August 23rd, 2018',\n",
       "       'May 10th, 2018', 'February 17th, 2018', 'July 21st, 2017',\n",
       "       'April 25th, 2017', 'January 15th, 2016', 'February 18th, 2015',\n",
       "       'July 16th, 2014', 'June 26th, 2013', 'February 1st, 2012',\n",
       "       'April 13th, 2011', 'May 26th, 2011', 'November 8th, 2017',\n",
       "       'June 15th, 2017', 'May 5th, 2017', 'October 11th, 2016',\n",
       "       'July 13th, 2016', 'July 15th, 2015', 'April 7th, 2015',\n",
       "       'February 25th, 2015', 'February 14th, 2015', 'January 21st, 2015',\n",
       "       'October 3rd, 2014', 'August 29th, 2013', 'May 30th, 2013',\n",
       "       'March 7th, 2018', 'September 20th, 2017', 'August 12th, 2017',\n",
       "       'May 19th, 2017', 'January 11th, 2017', 'June 17th, 2016',\n",
       "       'March 7th, 2015', 'August 2nd, 2014', 'March 29th, 2014',\n",
       "       'March 21st, 2014', 'August 1st, 2013', 'February 22nd, 2013',\n",
       "       'February 21st, 2013', 'February 22nd, 2012', 'January 17th, 2012',\n",
       "       'August 24th, 2018', 'June 20th, 2018', 'June 16th, 2018',\n",
       "       'May 8th, 2018', 'May 2nd, 2017', 'April 5th, 2017',\n",
       "       'March 29th, 2017', 'October 28th, 2016', 'September 28th, 2016',\n",
       "       'July 2nd, 2016', 'October 28th, 2015', 'August 25th, 2015',\n",
       "       'April 12th, 2015', 'March 27th, 2015', 'February 7th, 2015',\n",
       "       'January 31st, 2015', 'June 8th, 2013', 'March 19th, 2013',\n",
       "       'February 16th, 2013', 'May 18th, 2016', 'April 19th, 2016',\n",
       "       'February 19th, 2015', 'July 28th, 2012', 'November 11th, 2011',\n",
       "       'July 18th, 2017', 'December 27th, 2016', 'July 7th, 2016',\n",
       "       'April 22nd, 2016', 'February 13th, 2016', 'March 15th, 2014',\n",
       "       'October 23rd, 2013', 'May 22nd, 2013', 'May 11th, 2013',\n",
       "       'April 27th, 2013', 'December 1st, 2012', 'May 11th, 2012',\n",
       "       'March 8th, 2012', 'August 28th, 2018', 'July 7th, 2018',\n",
       "       'June 28th, 2017', 'February 25th, 2017', 'September 6th, 2016',\n",
       "       'July 30th, 2016', 'July 20th, 2016', 'June 10th, 2016',\n",
       "       'August 15th, 2015', 'April 3rd, 2015', 'December 27th, 2014',\n",
       "       'September 13th, 2014', 'March 20th, 2014', 'March 11th, 2014',\n",
       "       'January 22nd, 2014', 'July 20th, 2013', 'March 5th, 2013',\n",
       "       'July 18th, 2012', 'October 13th, 2018', 'June 22nd, 2018',\n",
       "       'February 6th, 2018', 'April 8th, 2017', 'March 25th, 2017',\n",
       "       'January 18th, 2017', 'July 19th, 2016', 'May 25th, 2016',\n",
       "       'March 20th, 2016', 'February 20th, 2016', 'January 20th, 2015',\n",
       "       'May 10th, 2014', 'January 9th, 2019', 'October 17th, 2018',\n",
       "       'September 19th, 2018', 'September 8th, 2018', 'August 22nd, 2018',\n",
       "       'August 8th, 2018', 'April 28th, 2018', 'April 6th, 2018',\n",
       "       'November 7th, 2015', 'November 4th, 2015', 'February 4th, 2015',\n",
       "       'April 11th, 2013', 'June 2nd, 2017', 'February 24th, 2017',\n",
       "       'November 2nd, 2016', 'December 15th, 2015', 'June 25th, 2015',\n",
       "       'June 13th, 2013', 'November 15th, 2012', 'September 3rd, 2011',\n",
       "       'April 19th, 2018', 'September 14th, 2016', 'February 15th, 2016',\n",
       "       'May 9th, 2015', 'April 18th, 2015', 'December 10th, 2014',\n",
       "       'April 16th, 2014', 'February 27th, 2014', 'September 4th, 2018',\n",
       "       'June 3rd, 2018', 'April 14th, 2015', 'January 14th, 2015',\n",
       "       'May 7th, 2014', 'June 7th, 2013', 'July 23rd, 2011',\n",
       "       'September 27th, 2018', 'January 20th, 2018', 'August 14th, 2015',\n",
       "       'May 8th, 2015', 'December 30th, 2014', 'December 12th, 2014',\n",
       "       'May 31st, 2014', 'September 10th, 2013', 'July 25th, 2013',\n",
       "       'January 30th, 2013', 'December 21st, 2012',\n",
       "       'September 21st, 2012', 'February 9th, 2018', 'October 13th, 2017',\n",
       "       'July 15th, 2017', 'May 17th, 2017', 'March 9th, 2016',\n",
       "       'June 10th, 2015', 'October 5th, 2013', 'November 15th, 2018',\n",
       "       'August 31st, 2017', 'April 14th, 2016', 'May 3rd, 2014',\n",
       "       'September 19th, 2013', 'August 21st, 2013', 'February 29th, 2012',\n",
       "       'June 9th, 2017', 'March 15th, 2017', 'October 19th, 2016',\n",
       "       'April 10th, 2015', 'May 29th, 2014', 'August 2nd, 2013',\n",
       "       'January 8th, 2016', 'September 12th, 2015', 'July 23rd, 2013',\n",
       "       'April 17th, 2012', 'November 4th, 2016', 'October 31st, 2015',\n",
       "       'July 22nd, 2015', 'June 20th, 2015', 'April 30th, 2015',\n",
       "       'June 3rd, 2014', 'May 21st, 2014', 'June 4th, 2013',\n",
       "       'October 26th, 2017', 'May 4th, 2016', 'January 6th, 2016',\n",
       "       'July 29th, 2015', 'January 19th, 2018', 'August 2nd, 2017',\n",
       "       'July 16th, 2016', 'June 24th, 2016', 'May 6th, 2016',\n",
       "       'May 16th, 2015', 'April 26th, 2015', 'March 6th, 2014',\n",
       "       'March 2nd, 2014', 'May 24th, 2011', 'December 20th, 2016',\n",
       "       'October 3rd, 2012', 'March 11th, 2017', 'January 2nd, 2016',\n",
       "       'May 23rd, 2015', 'February 7th, 2013', 'January 19th, 2019',\n",
       "       'February 3rd, 2016', 'November 6th, 2014', 'September 16th, 2016',\n",
       "       'January 7th, 2016', 'September 23rd, 2015', 'August 18th, 2015',\n",
       "       'May 5th, 2015', 'January 24th, 2013', 'September 6th, 2012',\n",
       "       'May 12th, 2018', 'March 17th, 2017', 'October 17th, 2015',\n",
       "       'May 26th, 2015', 'October 7th, 2014', 'November 10th, 2012',\n",
       "       'November 19th, 2016', 'May 21st, 2016', 'December 16th, 2015',\n",
       "       'November 13th, 2015', 'November 15th, 2018\\n',\n",
       "       'December 17th, 2015', 'March 4th, 2014', 'March 8th, 2018',\n",
       "       'March 10th, 2016', 'August 20th, 2013', 'July 14th, 2018',\n",
       "       'June 21st, 2018', 'March 27th, 2016', 'March 3rd, 2016',\n",
       "       'May 28th, 2015', 'September 14th, 2013', 'January 16th, 2019',\n",
       "       'September 9th, 2017', 'July 22nd, 2017', 'July 22nd, 2016',\n",
       "       'May 5th, 2016', 'January 26th, 2016', 'December 8th, 2018',\n",
       "       'January 13th, 2016', 'January 25th, 2012', 'May 27th, 2016',\n",
       "       'May 24th, 2016', 'April 11th, 2015', 'November 9th, 2016',\n",
       "       'October 22nd, 2016', 'February 27th, 2016', 'October 23rd, 2015',\n",
       "       'June 5th, 2014', 'March 14th, 2012', 'January 28th, 2015',\n",
       "       'May 3rd, 2012', 'November 16th, 2016', 'April 23rd, 2015',\n",
       "       'April 17th, 2015', 'February 13th, 2014', 'February 2nd, 2017',\n",
       "       'January 21st, 2017', 'June 6th, 2014', 'November 3rd, 2018',\n",
       "       'April 26th, 2017', 'August 26th, 2016', 'March 3rd, 2015',\n",
       "       'January 8th, 2015', 'January 9th, 2014', 'May 9th, 2018',\n",
       "       'August 7th, 2014', 'September 13th, 2013', 'November 29th, 2018',\n",
       "       'June 13th, 2018', 'May 12th, 2015', 'August 25th, 2018',\n",
       "       'April 5th, 2013', 'July 28th, 2015', 'January 23rd, 2015',\n",
       "       'September 23rd, 2014', 'June 27th, 2014', 'April 9th, 2011',\n",
       "       'January 13th, 2012', 'May 13th, 2015', 'March 31st, 2015',\n",
       "       'January 12th, 2013', 'July 27th, 2018', 'June 29th, 2016',\n",
       "       'September 12th, 2013', 'September 11th, 2015',\n",
       "       'January 8th, 2014', 'May 22nd, 2018', 'July 5th, 2014',\n",
       "       'July 16th, 2013', 'February 16th, 2017', 'September 4th, 2015',\n",
       "       'June 20th, 2012', 'March 19th, 2015', 'February 7th, 2014',\n",
       "       'January 20th, 2016', 'July 18th, 2018', 'May 15th, 2015',\n",
       "       'March 18th, 2015', 'September 5th, 2014', 'April 29th, 2014',\n",
       "       'November 30th, 2012', 'February 28th, 2017', 'January 29th, 2014',\n",
       "       'January 27th, 2015', 'June 15th, 2016', 'January 16th, 2018',\n",
       "       'January 2nd, 2013', 'May 14th, 2014', 'October 27th, 2018',\n",
       "       'January 5th, 2013', 'January 8th, 2013', 'January 4th, 2013',\n",
       "       'October 31st, 2018', 'July 14th, 2015', 'October 25th, 2018',\n",
       "       'August 17th, 2017', 'August 5th, 2015', 'August 23rd, 2017',\n",
       "       'May 19th, 2015', 'June 20th, 2014', 'December 23rd, 2015'],\n",
       "      dtype=object)"
      ]
     },
     "execution_count": 23,
     "metadata": {},
     "output_type": "execute_result"
    }
   ],
   "source": [
    "coffee_data_tidy[\"expiration\"].unique()"
   ]
  },
  {
   "cell_type": "code",
   "execution_count": 24,
   "id": "c297f85d-e7af-4cd7-b8c7-e543d0dfcbcf",
   "metadata": {},
   "outputs": [
    {
     "name": "stdout",
     "output_type": "stream",
     "text": [
      "<class 'pandas.core.series.Series'>\n",
      "Index: 1337 entries, 0 to 1338\n",
      "Series name: expiration\n",
      "Non-Null Count  Dtype \n",
      "--------------  ----- \n",
      "1337 non-null   object\n",
      "dtypes: object(1)\n",
      "memory usage: 20.9+ KB\n"
     ]
    }
   ],
   "source": [
    "coffee_data_tidy[\"expiration\"].info()"
   ]
  },
  {
   "cell_type": "code",
   "execution_count": 25,
   "id": "fae51a34-8a1c-425e-8320-74cd4ec5e857",
   "metadata": {},
   "outputs": [
    {
     "name": "stdout",
     "output_type": "stream",
     "text": [
      "<class 'pandas.core.series.Series'>\n",
      "Index: 1337 entries, 0 to 1338\n",
      "Series name: grading_date\n",
      "Non-Null Count  Dtype \n",
      "--------------  ----- \n",
      "1337 non-null   object\n",
      "dtypes: object(1)\n",
      "memory usage: 20.9+ KB\n"
     ]
    }
   ],
   "source": [
    "coffee_data_tidy[\"grading_date\"].info()"
   ]
  },
  {
   "cell_type": "markdown",
   "id": "c2636f2d-8c2b-4f35-aeb1-885808c55f23",
   "metadata": {},
   "source": [
    "Lets try to convert them to datetime. First we will have to remove the \"st\", \"nd\", \"rd\" and the \"th\" from the strings:"
   ]
  },
  {
   "cell_type": "code",
   "execution_count": 26,
   "id": "1d9179e2-07eb-4eeb-81e0-c349f3ba4419",
   "metadata": {},
   "outputs": [],
   "source": [
    "unwanted_parts = [\"st\", \"nd\", \"rd\", \"th\"]\n",
    "\n",
    "def clean_dates(date):\n",
    "    for element in unwanted_parts:\n",
    "        date = date.replace(element, \"\")\n",
    "    return date"
   ]
  },
  {
   "cell_type": "markdown",
   "id": "b9e954c8-5165-4cd8-ac0f-43bdef83e55a",
   "metadata": {},
   "source": [
    "Now lets change the columns to datetime:"
   ]
  },
  {
   "cell_type": "markdown",
   "id": "d3d56f4a-a208-4618-a4b9-11f0c5d676ca",
   "metadata": {},
   "source": [
    "We have to fix one date:"
   ]
  },
  {
   "cell_type": "code",
   "execution_count": 27,
   "id": "77811914-e9e1-4195-a4c8-cf230b408472",
   "metadata": {},
   "outputs": [],
   "source": [
    "coffee_data_tidy.loc[coffee_data_tidy[\"expiration\"] == \"Augu 31, 2011\", \"expiration\"] = \"August 31, 2011\""
   ]
  },
  {
   "cell_type": "code",
   "execution_count": 28,
   "id": "a1d497eb-df4f-4744-9930-0a5a16c7f1ed",
   "metadata": {},
   "outputs": [],
   "source": [
    "coffee_data_tidy[\"expiration\"] = coffee_data_tidy[\"expiration\"].apply(clean_dates)"
   ]
  },
  {
   "cell_type": "code",
   "execution_count": 29,
   "id": "f6e558ce-1f1d-4259-8cd6-718209d2b2f6",
   "metadata": {},
   "outputs": [],
   "source": [
    "coffee_data_tidy[\"expiration\"] = pd.to_datetime(coffee_data_tidy[\"expiration\"], format = \"mixed\", errors = \"coerce\")"
   ]
  },
  {
   "cell_type": "markdown",
   "id": "e775bda2-0b22-4b72-80ee-e3c33e83c2fe",
   "metadata": {},
   "source": [
    "Doing the same for the grading date:"
   ]
  },
  {
   "cell_type": "code",
   "execution_count": 30,
   "id": "a40531a2-75a5-4a2c-919c-7a5818406cdb",
   "metadata": {},
   "outputs": [],
   "source": [
    "coffee_data_tidy[\"grading_date\"] = coffee_data_tidy[\"grading_date\"].apply(clean_dates)"
   ]
  },
  {
   "cell_type": "code",
   "execution_count": 31,
   "id": "ab9f7710-ac23-40a4-8b15-a7d43b609610",
   "metadata": {},
   "outputs": [],
   "source": [
    "coffee_data_tidy[\"grading_date\"] = pd.to_datetime(coffee_data_tidy[\"grading_date\"], format = \"mixed\", errors = \"coerce\")"
   ]
  },
  {
   "cell_type": "markdown",
   "id": "cf2a77fb-932a-45b2-8b24-61ae777a526d",
   "metadata": {},
   "source": [
    "Now lets see if it was successful:"
   ]
  },
  {
   "cell_type": "code",
   "execution_count": 57,
   "id": "cfbcf161-cb6c-461c-9596-4bc84cc20849",
   "metadata": {},
   "outputs": [
    {
     "data": {
      "text/plain": [
       "expiration      datetime64[ns]\n",
       "grading_date    datetime64[ns]\n",
       "dtype: object"
      ]
     },
     "execution_count": 57,
     "metadata": {},
     "output_type": "execute_result"
    }
   ],
   "source": [
    "coffee_data_tidy[[\"expiration\", \"grading_date\"]].dtypes"
   ]
  },
  {
   "cell_type": "markdown",
   "id": "0dff33b4-c94d-43b3-bab3-97eabb862a37",
   "metadata": {},
   "source": [
    "### Problem 6. Countries (1 point)\n",
    "How many coffees are there with unknown countries of origin? What can you do about them?"
   ]
  },
  {
   "cell_type": "markdown",
   "id": "817d85d2-d26d-4464-942f-bc31aa5df8a1",
   "metadata": {},
   "source": [
    "Lets see the coffees without a country of origin:"
   ]
  },
  {
   "cell_type": "code",
   "execution_count": 33,
   "id": "0851c1a8-0420-4dba-ac27-487bae4318be",
   "metadata": {},
   "outputs": [
    {
     "data": {
      "text/html": [
       "<div>\n",
       "<style scoped>\n",
       "    .dataframe tbody tr th:only-of-type {\n",
       "        vertical-align: middle;\n",
       "    }\n",
       "\n",
       "    .dataframe tbody tr th {\n",
       "        vertical-align: top;\n",
       "    }\n",
       "\n",
       "    .dataframe thead th {\n",
       "        text-align: right;\n",
       "    }\n",
       "</style>\n",
       "<table border=\"1\" class=\"dataframe\">\n",
       "  <thead>\n",
       "    <tr style=\"text-align: right;\">\n",
       "      <th></th>\n",
       "      <th>species</th>\n",
       "      <th>owner</th>\n",
       "      <th>country_of_origin</th>\n",
       "      <th>farm_name</th>\n",
       "      <th>lot_number</th>\n",
       "      <th>mill</th>\n",
       "      <th>ico_number</th>\n",
       "      <th>company</th>\n",
       "      <th>altitude</th>\n",
       "      <th>region</th>\n",
       "      <th>...</th>\n",
       "      <th>expiration</th>\n",
       "      <th>certification_body</th>\n",
       "      <th>certification_address</th>\n",
       "      <th>certification_contact</th>\n",
       "      <th>unit_of_measurement</th>\n",
       "      <th>altitude_low_meters</th>\n",
       "      <th>altitude_high_meters</th>\n",
       "      <th>altitude_mean_meters</th>\n",
       "      <th>harvest_year_begin</th>\n",
       "      <th>harvest_year_end</th>\n",
       "    </tr>\n",
       "  </thead>\n",
       "  <tbody>\n",
       "    <tr>\n",
       "      <th>1197</th>\n",
       "      <td>Arabica</td>\n",
       "      <td>racafe &amp; cia s.c.a</td>\n",
       "      <td>NaN</td>\n",
       "      <td>NaN</td>\n",
       "      <td>NaN</td>\n",
       "      <td>NaN</td>\n",
       "      <td>3-37-1980</td>\n",
       "      <td>NaN</td>\n",
       "      <td>NaN</td>\n",
       "      <td>NaN</td>\n",
       "      <td>...</td>\n",
       "      <td>2012-02-29</td>\n",
       "      <td>Almacafé</td>\n",
       "      <td>e493c36c2d076bf273064f7ac23ad562af257a25</td>\n",
       "      <td>70d3c0c26f89e00fdae6fb39ff54f0d2eb1c38ab</td>\n",
       "      <td>m</td>\n",
       "      <td>NaN</td>\n",
       "      <td>NaN</td>\n",
       "      <td>NaN</td>\n",
       "      <td>NaN</td>\n",
       "      <td>NaN</td>\n",
       "    </tr>\n",
       "  </tbody>\n",
       "</table>\n",
       "<p>1 rows × 44 columns</p>\n",
       "</div>"
      ],
      "text/plain": [
       "      species               owner country_of_origin farm_name lot_number mill  \\\n",
       "1197  Arabica  racafe & cia s.c.a               NaN       NaN        NaN  NaN   \n",
       "\n",
       "     ico_number company altitude region  ... expiration  certification_body  \\\n",
       "1197  3-37-1980     NaN      NaN    NaN  ... 2012-02-29            Almacafé   \n",
       "\n",
       "                         certification_address  \\\n",
       "1197  e493c36c2d076bf273064f7ac23ad562af257a25   \n",
       "\n",
       "                         certification_contact unit_of_measurement  \\\n",
       "1197  70d3c0c26f89e00fdae6fb39ff54f0d2eb1c38ab                   m   \n",
       "\n",
       "     altitude_low_meters altitude_high_meters altitude_mean_meters  \\\n",
       "1197                 NaN                  NaN                  NaN   \n",
       "\n",
       "      harvest_year_begin  harvest_year_end  \n",
       "1197                 NaN               NaN  \n",
       "\n",
       "[1 rows x 44 columns]"
      ]
     },
     "execution_count": 33,
     "metadata": {},
     "output_type": "execute_result"
    }
   ],
   "source": [
    "coffee_data_tidy[coffee_data_tidy[\"country_of_origin\"].isna()]"
   ]
  },
  {
   "cell_type": "markdown",
   "id": "e361f0cb-8a82-4e5d-b082-17b6780fc1b7",
   "metadata": {},
   "source": [
    "As we can see, its only one so we can just drop it."
   ]
  },
  {
   "cell_type": "code",
   "execution_count": 34,
   "id": "1953065a-66e8-4482-ab06-225be9855664",
   "metadata": {},
   "outputs": [],
   "source": [
    "coffee_data_tidy = coffee_data_tidy.drop(index = coffee_data_tidy[coffee_data_tidy[\"country_of_origin\"].isna()].index)"
   ]
  },
  {
   "cell_type": "markdown",
   "id": "ae8bc343-f16d-408c-aaa8-a499a038c090",
   "metadata": {},
   "source": [
    "Lets check just to be sure..."
   ]
  },
  {
   "cell_type": "code",
   "execution_count": 35,
   "id": "ca48b9a3-e3d6-4bac-993c-84a179530fbe",
   "metadata": {},
   "outputs": [
    {
     "data": {
      "text/html": [
       "<div>\n",
       "<style scoped>\n",
       "    .dataframe tbody tr th:only-of-type {\n",
       "        vertical-align: middle;\n",
       "    }\n",
       "\n",
       "    .dataframe tbody tr th {\n",
       "        vertical-align: top;\n",
       "    }\n",
       "\n",
       "    .dataframe thead th {\n",
       "        text-align: right;\n",
       "    }\n",
       "</style>\n",
       "<table border=\"1\" class=\"dataframe\">\n",
       "  <thead>\n",
       "    <tr style=\"text-align: right;\">\n",
       "      <th></th>\n",
       "      <th>species</th>\n",
       "      <th>owner</th>\n",
       "      <th>country_of_origin</th>\n",
       "      <th>farm_name</th>\n",
       "      <th>lot_number</th>\n",
       "      <th>mill</th>\n",
       "      <th>ico_number</th>\n",
       "      <th>company</th>\n",
       "      <th>altitude</th>\n",
       "      <th>region</th>\n",
       "      <th>...</th>\n",
       "      <th>expiration</th>\n",
       "      <th>certification_body</th>\n",
       "      <th>certification_address</th>\n",
       "      <th>certification_contact</th>\n",
       "      <th>unit_of_measurement</th>\n",
       "      <th>altitude_low_meters</th>\n",
       "      <th>altitude_high_meters</th>\n",
       "      <th>altitude_mean_meters</th>\n",
       "      <th>harvest_year_begin</th>\n",
       "      <th>harvest_year_end</th>\n",
       "    </tr>\n",
       "  </thead>\n",
       "  <tbody>\n",
       "  </tbody>\n",
       "</table>\n",
       "<p>0 rows × 44 columns</p>\n",
       "</div>"
      ],
      "text/plain": [
       "Empty DataFrame\n",
       "Columns: [species, owner, country_of_origin, farm_name, lot_number, mill, ico_number, company, altitude, region, producer, number_of_bags, bag_weight, in_country_partner, grading_date, owner_1, variety, processing_method, aroma, flavor, aftertaste, acidity, body, balance, uniformity, clean_cup, sweetness, cupper_points, total_cup_points, moisture, category_one_defects, quakers, color, category_two_defects, expiration, certification_body, certification_address, certification_contact, unit_of_measurement, altitude_low_meters, altitude_high_meters, altitude_mean_meters, harvest_year_begin, harvest_year_end]\n",
       "Index: []\n",
       "\n",
       "[0 rows x 44 columns]"
      ]
     },
     "execution_count": 35,
     "metadata": {},
     "output_type": "execute_result"
    }
   ],
   "source": [
    "coffee_data_tidy[coffee_data_tidy[\"country_of_origin\"].isna()]"
   ]
  },
  {
   "cell_type": "markdown",
   "id": "d0aa6f30-4b93-4f23-95e0-2cafb7152c6c",
   "metadata": {},
   "source": [
    "### Problem 7. Owners (1 point)\n",
    "There are two suspicious columns, named `Owner`, and `Owner.1` (they're likely called something different after you solved problem 3). Do something about them. Is there any link to `Producer`?"
   ]
  },
  {
   "cell_type": "markdown",
   "id": "8e8c2a72-e50e-428f-b426-cabab3495795",
   "metadata": {},
   "source": [
    "Lets compare owner, owner_1 and producer:"
   ]
  },
  {
   "cell_type": "code",
   "execution_count": 36,
   "id": "39bc1689-33f6-4446-bfc3-c4b4e69eccf6",
   "metadata": {},
   "outputs": [
    {
     "data": {
      "text/html": [
       "<div>\n",
       "<style scoped>\n",
       "    .dataframe tbody tr th:only-of-type {\n",
       "        vertical-align: middle;\n",
       "    }\n",
       "\n",
       "    .dataframe tbody tr th {\n",
       "        vertical-align: top;\n",
       "    }\n",
       "\n",
       "    .dataframe thead th {\n",
       "        text-align: right;\n",
       "    }\n",
       "</style>\n",
       "<table border=\"1\" class=\"dataframe\">\n",
       "  <thead>\n",
       "    <tr style=\"text-align: right;\">\n",
       "      <th></th>\n",
       "      <th>owner</th>\n",
       "      <th>owner_1</th>\n",
       "      <th>producer</th>\n",
       "    </tr>\n",
       "  </thead>\n",
       "  <tbody>\n",
       "    <tr>\n",
       "      <th>0</th>\n",
       "      <td>metad plc</td>\n",
       "      <td>metad plc</td>\n",
       "      <td>METAD PLC</td>\n",
       "    </tr>\n",
       "    <tr>\n",
       "      <th>1</th>\n",
       "      <td>metad plc</td>\n",
       "      <td>metad plc</td>\n",
       "      <td>METAD PLC</td>\n",
       "    </tr>\n",
       "    <tr>\n",
       "      <th>2</th>\n",
       "      <td>grounds for health admin</td>\n",
       "      <td>Grounds for Health Admin</td>\n",
       "      <td>NaN</td>\n",
       "    </tr>\n",
       "    <tr>\n",
       "      <th>3</th>\n",
       "      <td>yidnekachew dabessa</td>\n",
       "      <td>Yidnekachew Dabessa</td>\n",
       "      <td>Yidnekachew Dabessa Coffee Plantation</td>\n",
       "    </tr>\n",
       "    <tr>\n",
       "      <th>4</th>\n",
       "      <td>metad plc</td>\n",
       "      <td>metad plc</td>\n",
       "      <td>METAD PLC</td>\n",
       "    </tr>\n",
       "    <tr>\n",
       "      <th>...</th>\n",
       "      <td>...</td>\n",
       "      <td>...</td>\n",
       "      <td>...</td>\n",
       "    </tr>\n",
       "    <tr>\n",
       "      <th>1334</th>\n",
       "      <td>luis robles</td>\n",
       "      <td>Luis Robles</td>\n",
       "      <td>Café Robusta del Ecuador S.A.</td>\n",
       "    </tr>\n",
       "    <tr>\n",
       "      <th>1335</th>\n",
       "      <td>luis robles</td>\n",
       "      <td>Luis Robles</td>\n",
       "      <td>Café Robusta del Ecuador S.A.</td>\n",
       "    </tr>\n",
       "    <tr>\n",
       "      <th>1336</th>\n",
       "      <td>james moore</td>\n",
       "      <td>James Moore</td>\n",
       "      <td>Cafe Cazengo</td>\n",
       "    </tr>\n",
       "    <tr>\n",
       "      <th>1337</th>\n",
       "      <td>cafe politico</td>\n",
       "      <td>Cafe Politico</td>\n",
       "      <td>NaN</td>\n",
       "    </tr>\n",
       "    <tr>\n",
       "      <th>1338</th>\n",
       "      <td>cafe politico</td>\n",
       "      <td>Cafe Politico</td>\n",
       "      <td>NaN</td>\n",
       "    </tr>\n",
       "  </tbody>\n",
       "</table>\n",
       "<p>1336 rows × 3 columns</p>\n",
       "</div>"
      ],
      "text/plain": [
       "                         owner                   owner_1  \\\n",
       "0                    metad plc                 metad plc   \n",
       "1                    metad plc                 metad plc   \n",
       "2     grounds for health admin  Grounds for Health Admin   \n",
       "3          yidnekachew dabessa       Yidnekachew Dabessa   \n",
       "4                    metad plc                 metad plc   \n",
       "...                        ...                       ...   \n",
       "1334               luis robles               Luis Robles   \n",
       "1335               luis robles               Luis Robles   \n",
       "1336               james moore               James Moore   \n",
       "1337             cafe politico             Cafe Politico   \n",
       "1338             cafe politico             Cafe Politico   \n",
       "\n",
       "                                   producer  \n",
       "0                                 METAD PLC  \n",
       "1                                 METAD PLC  \n",
       "2                                       NaN  \n",
       "3     Yidnekachew Dabessa Coffee Plantation  \n",
       "4                                 METAD PLC  \n",
       "...                                     ...  \n",
       "1334          Café Robusta del Ecuador S.A.  \n",
       "1335          Café Robusta del Ecuador S.A.  \n",
       "1336                           Cafe Cazengo  \n",
       "1337                                    NaN  \n",
       "1338                                    NaN  \n",
       "\n",
       "[1336 rows x 3 columns]"
      ]
     },
     "execution_count": 36,
     "metadata": {},
     "output_type": "execute_result"
    }
   ],
   "source": [
    "coffee_data_tidy[[\"owner\", \"owner_1\", \"producer\"]]"
   ]
  },
  {
   "cell_type": "markdown",
   "id": "51e43d7b-01a8-47c8-bb74-c8f01f734629",
   "metadata": {},
   "source": [
    "We can see, that for most if not all rows, \"owner_1\" is just \"owner\" with capitalization. Lets see  if thats always the case by looking if there are any rows, that do not follow this rule:"
   ]
  },
  {
   "cell_type": "code",
   "execution_count": 37,
   "id": "76f235e7-fbfc-461b-8f9a-19aabe39e596",
   "metadata": {},
   "outputs": [
    {
     "data": {
      "text/html": [
       "<div>\n",
       "<style scoped>\n",
       "    .dataframe tbody tr th:only-of-type {\n",
       "        vertical-align: middle;\n",
       "    }\n",
       "\n",
       "    .dataframe tbody tr th {\n",
       "        vertical-align: top;\n",
       "    }\n",
       "\n",
       "    .dataframe thead th {\n",
       "        text-align: right;\n",
       "    }\n",
       "</style>\n",
       "<table border=\"1\" class=\"dataframe\">\n",
       "  <thead>\n",
       "    <tr style=\"text-align: right;\">\n",
       "      <th></th>\n",
       "      <th>owner</th>\n",
       "      <th>owner_1</th>\n",
       "    </tr>\n",
       "  </thead>\n",
       "  <tbody>\n",
       "    <tr>\n",
       "      <th>219</th>\n",
       "      <td>ceca, s.a.</td>\n",
       "      <td>CECA,S.A.</td>\n",
       "    </tr>\n",
       "    <tr>\n",
       "      <th>364</th>\n",
       "      <td>NaN</td>\n",
       "      <td>NaN</td>\n",
       "    </tr>\n",
       "    <tr>\n",
       "      <th>392</th>\n",
       "      <td>federacion nacional de cafeteros</td>\n",
       "      <td>Federación Nacional de Cafeteros</td>\n",
       "    </tr>\n",
       "    <tr>\n",
       "      <th>459</th>\n",
       "      <td>NaN</td>\n",
       "      <td>NaN</td>\n",
       "    </tr>\n",
       "    <tr>\n",
       "      <th>602</th>\n",
       "      <td>NaN</td>\n",
       "      <td>NaN</td>\n",
       "    </tr>\n",
       "    <tr>\n",
       "      <th>734</th>\n",
       "      <td>klem organics</td>\n",
       "      <td>KlemOrganics</td>\n",
       "    </tr>\n",
       "    <tr>\n",
       "      <th>848</th>\n",
       "      <td>NaN</td>\n",
       "      <td>NaN</td>\n",
       "    </tr>\n",
       "    <tr>\n",
       "      <th>882</th>\n",
       "      <td>NaN</td>\n",
       "      <td>NaN</td>\n",
       "    </tr>\n",
       "    <tr>\n",
       "      <th>919</th>\n",
       "      <td>lin, che-hao krude 林哲豪</td>\n",
       "      <td>Lin, Che-Hao Krude 林哲豪\\n</td>\n",
       "    </tr>\n",
       "    <tr>\n",
       "      <th>961</th>\n",
       "      <td>klem organics</td>\n",
       "      <td>KlemOrganics</td>\n",
       "    </tr>\n",
       "    <tr>\n",
       "      <th>975</th>\n",
       "      <td>NaN</td>\n",
       "      <td>NaN</td>\n",
       "    </tr>\n",
       "    <tr>\n",
       "      <th>1044</th>\n",
       "      <td>NaN</td>\n",
       "      <td>NaN</td>\n",
       "    </tr>\n",
       "    <tr>\n",
       "      <th>1083</th>\n",
       "      <td>cqi taiwan icp cqi台灣合作夥伴</td>\n",
       "      <td>CQI Taiwan ICP CQI台灣合作夥伴\\n</td>\n",
       "    </tr>\n",
       "  </tbody>\n",
       "</table>\n",
       "</div>"
      ],
      "text/plain": [
       "                                 owner                           owner_1\n",
       "219                         ceca, s.a.                         CECA,S.A.\n",
       "364                                NaN                               NaN\n",
       "392   federacion nacional de cafeteros  Federación Nacional de Cafeteros\n",
       "459                                NaN                               NaN\n",
       "602                                NaN                               NaN\n",
       "734                      klem organics                      KlemOrganics\n",
       "848                                NaN                               NaN\n",
       "882                                NaN                               NaN\n",
       "919             lin, che-hao krude 林哲豪          Lin, Che-Hao Krude 林哲豪\\n\n",
       "961                      klem organics                      KlemOrganics\n",
       "975                                NaN                               NaN\n",
       "1044                               NaN                               NaN\n",
       "1083          cqi taiwan icp cqi台灣合作夥伴        CQI Taiwan ICP CQI台灣合作夥伴\\n"
      ]
     },
     "execution_count": 37,
     "metadata": {},
     "output_type": "execute_result"
    }
   ],
   "source": [
    "coffee_data_tidy[coffee_data_tidy[\"owner\"] != coffee_data_tidy[\"owner_1\"].str.lower()][[\"owner\", \"owner_1\"]]"
   ]
  },
  {
   "cell_type": "markdown",
   "id": "48decb7d-25e7-4db2-8303-e8052cfeaaea",
   "metadata": {},
   "source": [
    "We can see, that the ones that did not follow this rule are basically the same as well. So lets just drop owner_1:"
   ]
  },
  {
   "cell_type": "code",
   "execution_count": 38,
   "id": "83695d74-46f2-4f50-a22a-56070d6f0628",
   "metadata": {},
   "outputs": [],
   "source": [
    "coffee_data_tidy = coffee_data_tidy.drop(columns = [\"owner_1\"])"
   ]
  },
  {
   "cell_type": "markdown",
   "id": "a98dc6b4-a687-4d48-b413-09fa23af3129",
   "metadata": {},
   "source": [
    "Now lets see the relationship between the owner and the producer. Im suspecting that for every owner there is a single producer. Lets see if thats the case:"
   ]
  },
  {
   "cell_type": "code",
   "execution_count": 39,
   "id": "f6920459-d405-45c8-a5c4-4f41ed1f9cf9",
   "metadata": {},
   "outputs": [
    {
     "name": "stdout",
     "output_type": "stream",
     "text": [
      "1, 6, 1, 1, 1, 8, 1, 1, 6, 12, 8, 13, 1, 27, 2, 5, 25, 1, 1, 1, 1, 2, 3, 1, 4, 2, 2, 7, 7, 61, 5, 8, 1, 1, 2, 2, 1, 1, 1, 1, 2, 2, 1, 1, 19, 2, 2, 2, 5, 1, 2, 2, 1, 1, 3, 1, 1, 1, 4, 3, 3, 9, 5, 2, 1, 2, 1, 46, 2, 6, 3, 4, 2, 1, 1, 1, 1, 14, 1, 1, 3, 1, 1, 1, 1, 1, 2, 1, 1, 2, 4, 3, 1, 1, 1, 1, 1, 1, 1, 1, 1, 4, 2, 2, 1, 1, 1, 1, 1, 1, 1, 3, 1, 1, 13, 4, 1, 1, 1, 2, 1, 1, 1, 0, 2, 1, 3, 3, 1, 9, 1, 1, 1, 2, 3, 2, 1, 1, 1, 3, 1, 2, 2, 2, 4, 1, 2, 2, 1, 1, 2, 1, 1, 1, 2, 1, 1, 1, 2, 1, 1, 2, 1, 1, 1, 1, 4, 1, 1, 1, 1, 1, 4, 2, 1, 3, 1, 1, 1, 2, 1, 1, 1, 4, 1, 1, 1, 1, 1, 1, 1, 1, 1, 2, 1, 1, 1, 1, 1, 1, 1, 1, 1, 1, 1, 1, 1, 1, 1, 1, 1, 2, 4, 1, 1, 3, 1, 1, 1, 3, 1, 1, 6, 1, 1, 4, 1, 1, 1, 1, 1, 1, 1, 1, 1, 1, 1, 2, 1, 1, 1, 3, 1, 1, 1, 1, 1, 1, 1, 1, 1, 1, 1, 12, 2, 1, 1, 2, 1, 1, 1, 1, 1, 1, 1, 1, 1, 1, 1, 1, 1, 1, 1, 1, 2, 1, 1, 1, 1, 1, 1, 1, 1, 1, 1, 1, 1, 1, 1, 1, 1, 1, 1, 1, 1, 1, 1, 1, 1, 1, 1, 1, 1, 1, 1, 1, 2, 2, 3, 3, 1, 1, 1, 1, 1, 1, "
     ]
    }
   ],
   "source": [
    "for name in coffee_data_tidy[\"owner\"].unique():\n",
    "    print(len(coffee_data_tidy[coffee_data_tidy[\"owner\"] == name][\"producer\"].unique()), end = \", \")"
   ]
  },
  {
   "cell_type": "markdown",
   "id": "45fc8c80-6aff-47ac-a8f6-c61ca6cadf89",
   "metadata": {},
   "source": [
    "Well, that wasnt the case..."
   ]
  },
  {
   "cell_type": "markdown",
   "id": "30c53923-1b72-4500-af0a-47fdca9f57e9",
   "metadata": {},
   "source": [
    "### Problem 8. Coffee color by country and continent (1 point)\n",
    "Create a table which shows how many coffees of each color are there in every country. Leave the missing values as they are.\n",
    "\n",
    "**Note:** If you ask me, countries should be in rows, I prefer long tables much better than wide ones.\n",
    "\n",
    "Now do the same for continents. You know what continent each country is located in."
   ]
  },
  {
   "cell_type": "markdown",
   "id": "e7930005-dfcc-4590-a895-2703b0d45b5b",
   "metadata": {},
   "source": [
    "Lets see all the colors:"
   ]
  },
  {
   "cell_type": "code",
   "execution_count": 40,
   "id": "22aa5987-3c7c-407f-b655-6344f9988a5a",
   "metadata": {},
   "outputs": [
    {
     "data": {
      "text/plain": [
       "array(['Ethiopia', 'Guatemala', 'Brazil', 'Peru', 'United States',\n",
       "       'United States (Hawaii)', 'China', 'Costa Rica', 'Mexico',\n",
       "       'Uganda', 'Honduras', 'Taiwan', 'Nicaragua',\n",
       "       'Tanzania, United Republic Of', 'Kenya', 'Thailand', 'Colombia',\n",
       "       'Panama', 'Papua New Guinea', 'El Salvador', 'Indonesia', 'Japan',\n",
       "       'Ecuador', 'United States (Puerto Rico)', 'Haiti', 'Burundi',\n",
       "       'Vietnam', 'Philippines', 'Rwanda', 'Malawi', 'Laos', 'Zambia',\n",
       "       'Myanmar', 'Mauritius', 'Cote d?Ivoire', 'India'], dtype=object)"
      ]
     },
     "execution_count": 40,
     "metadata": {},
     "output_type": "execute_result"
    }
   ],
   "source": [
    "coffee_data_tidy[\"country_of_origin\"].unique()"
   ]
  },
  {
   "cell_type": "code",
   "execution_count": 41,
   "id": "72cbe6a9-ca71-4826-806d-562bc30b40d2",
   "metadata": {},
   "outputs": [
    {
     "data": {
      "text/plain": [
       "['Country', 'Green', nan, 'Bluish-Green', 'Blue-Green']"
      ]
     },
     "execution_count": 41,
     "metadata": {},
     "output_type": "execute_result"
    }
   ],
   "source": [
    "colors = coffee_data_tidy[\"color\"].unique()\n",
    "columns = [color for color in colors]\n",
    "columns.insert(0, \"Country\")\n",
    "columns"
   ]
  },
  {
   "cell_type": "markdown",
   "id": "5b4f8d07-ae43-4033-9077-cb388f8932e6",
   "metadata": {},
   "source": [
    "Now lets create a table:"
   ]
  },
  {
   "cell_type": "code",
   "execution_count": 42,
   "id": "4378ed5f-1ccb-4597-a29a-806fc8f44737",
   "metadata": {},
   "outputs": [],
   "source": [
    "color_table = pd.DataFrame(columns = columns)\n",
    "color_table[\"Country\"] = coffee_data_tidy[\"country_of_origin\"].unique()\n",
    "\n",
    "# Initially fill with zeros\n",
    "for color in colors:\n",
    "    color_table[color] = 0\n",
    "\n",
    "#Filling the numbers for each country\n",
    "for country in color_table[\"Country\"]:\n",
    "    for color in colors:\n",
    "        count = len(coffee_data_tidy[(coffee_data_tidy[\"country_of_origin\"] == country) & (coffee_data_tidy[\"color\"] == color)])\n",
    "        color_table.loc[color_table[\"Country\"] == country, color] += count\n",
    "    # Handle NaNs separately\n",
    "    count_nans = len(coffee_data_tidy[(coffee_data_tidy[\"country_of_origin\"] == country) & (coffee_data_tidy[\"color\"].isna())])\n",
    "    color_table.loc[color_table[\"Country\"] == country, np.nan] += count_nans"
   ]
  },
  {
   "cell_type": "code",
   "execution_count": 43,
   "id": "62327aee-8275-44f1-a1e2-d7bb35c6beca",
   "metadata": {},
   "outputs": [
    {
     "data": {
      "text/html": [
       "<div>\n",
       "<style scoped>\n",
       "    .dataframe tbody tr th:only-of-type {\n",
       "        vertical-align: middle;\n",
       "    }\n",
       "\n",
       "    .dataframe tbody tr th {\n",
       "        vertical-align: top;\n",
       "    }\n",
       "\n",
       "    .dataframe thead th {\n",
       "        text-align: right;\n",
       "    }\n",
       "</style>\n",
       "<table border=\"1\" class=\"dataframe\">\n",
       "  <thead>\n",
       "    <tr style=\"text-align: right;\">\n",
       "      <th></th>\n",
       "      <th>Country</th>\n",
       "      <th>Green</th>\n",
       "      <th>NaN</th>\n",
       "      <th>Bluish-Green</th>\n",
       "      <th>Blue-Green</th>\n",
       "    </tr>\n",
       "  </thead>\n",
       "  <tbody>\n",
       "    <tr>\n",
       "      <th>0</th>\n",
       "      <td>Ethiopia</td>\n",
       "      <td>15</td>\n",
       "      <td>27</td>\n",
       "      <td>2</td>\n",
       "      <td>0</td>\n",
       "    </tr>\n",
       "    <tr>\n",
       "      <th>1</th>\n",
       "      <td>Guatemala</td>\n",
       "      <td>159</td>\n",
       "      <td>13</td>\n",
       "      <td>7</td>\n",
       "      <td>2</td>\n",
       "    </tr>\n",
       "    <tr>\n",
       "      <th>2</th>\n",
       "      <td>Brazil</td>\n",
       "      <td>92</td>\n",
       "      <td>14</td>\n",
       "      <td>12</td>\n",
       "      <td>14</td>\n",
       "    </tr>\n",
       "    <tr>\n",
       "      <th>3</th>\n",
       "      <td>Peru</td>\n",
       "      <td>6</td>\n",
       "      <td>2</td>\n",
       "      <td>2</td>\n",
       "      <td>0</td>\n",
       "    </tr>\n",
       "    <tr>\n",
       "      <th>4</th>\n",
       "      <td>United States</td>\n",
       "      <td>1</td>\n",
       "      <td>9</td>\n",
       "      <td>0</td>\n",
       "      <td>0</td>\n",
       "    </tr>\n",
       "    <tr>\n",
       "      <th>5</th>\n",
       "      <td>United States (Hawaii)</td>\n",
       "      <td>21</td>\n",
       "      <td>30</td>\n",
       "      <td>16</td>\n",
       "      <td>6</td>\n",
       "    </tr>\n",
       "    <tr>\n",
       "      <th>6</th>\n",
       "      <td>China</td>\n",
       "      <td>16</td>\n",
       "      <td>0</td>\n",
       "      <td>0</td>\n",
       "      <td>0</td>\n",
       "    </tr>\n",
       "    <tr>\n",
       "      <th>7</th>\n",
       "      <td>Costa Rica</td>\n",
       "      <td>28</td>\n",
       "      <td>4</td>\n",
       "      <td>9</td>\n",
       "      <td>10</td>\n",
       "    </tr>\n",
       "    <tr>\n",
       "      <th>8</th>\n",
       "      <td>Mexico</td>\n",
       "      <td>156</td>\n",
       "      <td>66</td>\n",
       "      <td>7</td>\n",
       "      <td>7</td>\n",
       "    </tr>\n",
       "    <tr>\n",
       "      <th>9</th>\n",
       "      <td>Uganda</td>\n",
       "      <td>32</td>\n",
       "      <td>1</td>\n",
       "      <td>1</td>\n",
       "      <td>2</td>\n",
       "    </tr>\n",
       "    <tr>\n",
       "      <th>10</th>\n",
       "      <td>Honduras</td>\n",
       "      <td>47</td>\n",
       "      <td>1</td>\n",
       "      <td>2</td>\n",
       "      <td>3</td>\n",
       "    </tr>\n",
       "    <tr>\n",
       "      <th>11</th>\n",
       "      <td>Taiwan</td>\n",
       "      <td>50</td>\n",
       "      <td>6</td>\n",
       "      <td>5</td>\n",
       "      <td>14</td>\n",
       "    </tr>\n",
       "    <tr>\n",
       "      <th>12</th>\n",
       "      <td>Nicaragua</td>\n",
       "      <td>19</td>\n",
       "      <td>5</td>\n",
       "      <td>2</td>\n",
       "      <td>0</td>\n",
       "    </tr>\n",
       "    <tr>\n",
       "      <th>13</th>\n",
       "      <td>Tanzania, United Republic Of</td>\n",
       "      <td>32</td>\n",
       "      <td>1</td>\n",
       "      <td>7</td>\n",
       "      <td>0</td>\n",
       "    </tr>\n",
       "    <tr>\n",
       "      <th>14</th>\n",
       "      <td>Kenya</td>\n",
       "      <td>14</td>\n",
       "      <td>2</td>\n",
       "      <td>6</td>\n",
       "      <td>3</td>\n",
       "    </tr>\n",
       "    <tr>\n",
       "      <th>15</th>\n",
       "      <td>Thailand</td>\n",
       "      <td>10</td>\n",
       "      <td>12</td>\n",
       "      <td>7</td>\n",
       "      <td>3</td>\n",
       "    </tr>\n",
       "    <tr>\n",
       "      <th>16</th>\n",
       "      <td>Colombia</td>\n",
       "      <td>118</td>\n",
       "      <td>49</td>\n",
       "      <td>8</td>\n",
       "      <td>8</td>\n",
       "    </tr>\n",
       "    <tr>\n",
       "      <th>17</th>\n",
       "      <td>Panama</td>\n",
       "      <td>2</td>\n",
       "      <td>1</td>\n",
       "      <td>1</td>\n",
       "      <td>0</td>\n",
       "    </tr>\n",
       "    <tr>\n",
       "      <th>18</th>\n",
       "      <td>Papua New Guinea</td>\n",
       "      <td>0</td>\n",
       "      <td>0</td>\n",
       "      <td>1</td>\n",
       "      <td>0</td>\n",
       "    </tr>\n",
       "    <tr>\n",
       "      <th>19</th>\n",
       "      <td>El Salvador</td>\n",
       "      <td>9</td>\n",
       "      <td>7</td>\n",
       "      <td>2</td>\n",
       "      <td>2</td>\n",
       "    </tr>\n",
       "    <tr>\n",
       "      <th>20</th>\n",
       "      <td>Indonesia</td>\n",
       "      <td>6</td>\n",
       "      <td>6</td>\n",
       "      <td>3</td>\n",
       "      <td>4</td>\n",
       "    </tr>\n",
       "    <tr>\n",
       "      <th>21</th>\n",
       "      <td>Japan</td>\n",
       "      <td>1</td>\n",
       "      <td>0</td>\n",
       "      <td>0</td>\n",
       "      <td>0</td>\n",
       "    </tr>\n",
       "    <tr>\n",
       "      <th>22</th>\n",
       "      <td>Ecuador</td>\n",
       "      <td>0</td>\n",
       "      <td>0</td>\n",
       "      <td>1</td>\n",
       "      <td>2</td>\n",
       "    </tr>\n",
       "    <tr>\n",
       "      <th>23</th>\n",
       "      <td>United States (Puerto Rico)</td>\n",
       "      <td>3</td>\n",
       "      <td>0</td>\n",
       "      <td>1</td>\n",
       "      <td>0</td>\n",
       "    </tr>\n",
       "    <tr>\n",
       "      <th>24</th>\n",
       "      <td>Haiti</td>\n",
       "      <td>2</td>\n",
       "      <td>2</td>\n",
       "      <td>1</td>\n",
       "      <td>1</td>\n",
       "    </tr>\n",
       "    <tr>\n",
       "      <th>25</th>\n",
       "      <td>Burundi</td>\n",
       "      <td>1</td>\n",
       "      <td>1</td>\n",
       "      <td>0</td>\n",
       "      <td>0</td>\n",
       "    </tr>\n",
       "    <tr>\n",
       "      <th>26</th>\n",
       "      <td>Vietnam</td>\n",
       "      <td>3</td>\n",
       "      <td>4</td>\n",
       "      <td>1</td>\n",
       "      <td>0</td>\n",
       "    </tr>\n",
       "    <tr>\n",
       "      <th>27</th>\n",
       "      <td>Philippines</td>\n",
       "      <td>2</td>\n",
       "      <td>1</td>\n",
       "      <td>1</td>\n",
       "      <td>1</td>\n",
       "    </tr>\n",
       "    <tr>\n",
       "      <th>28</th>\n",
       "      <td>Rwanda</td>\n",
       "      <td>0</td>\n",
       "      <td>0</td>\n",
       "      <td>1</td>\n",
       "      <td>0</td>\n",
       "    </tr>\n",
       "    <tr>\n",
       "      <th>29</th>\n",
       "      <td>Malawi</td>\n",
       "      <td>6</td>\n",
       "      <td>0</td>\n",
       "      <td>4</td>\n",
       "      <td>1</td>\n",
       "    </tr>\n",
       "    <tr>\n",
       "      <th>30</th>\n",
       "      <td>Laos</td>\n",
       "      <td>1</td>\n",
       "      <td>0</td>\n",
       "      <td>1</td>\n",
       "      <td>1</td>\n",
       "    </tr>\n",
       "    <tr>\n",
       "      <th>31</th>\n",
       "      <td>Zambia</td>\n",
       "      <td>0</td>\n",
       "      <td>1</td>\n",
       "      <td>0</td>\n",
       "      <td>0</td>\n",
       "    </tr>\n",
       "    <tr>\n",
       "      <th>32</th>\n",
       "      <td>Myanmar</td>\n",
       "      <td>7</td>\n",
       "      <td>1</td>\n",
       "      <td>0</td>\n",
       "      <td>0</td>\n",
       "    </tr>\n",
       "    <tr>\n",
       "      <th>33</th>\n",
       "      <td>Mauritius</td>\n",
       "      <td>1</td>\n",
       "      <td>0</td>\n",
       "      <td>0</td>\n",
       "      <td>0</td>\n",
       "    </tr>\n",
       "    <tr>\n",
       "      <th>34</th>\n",
       "      <td>Cote d?Ivoire</td>\n",
       "      <td>0</td>\n",
       "      <td>0</td>\n",
       "      <td>1</td>\n",
       "      <td>0</td>\n",
       "    </tr>\n",
       "    <tr>\n",
       "      <th>35</th>\n",
       "      <td>India</td>\n",
       "      <td>10</td>\n",
       "      <td>1</td>\n",
       "      <td>2</td>\n",
       "      <td>1</td>\n",
       "    </tr>\n",
       "  </tbody>\n",
       "</table>\n",
       "</div>"
      ],
      "text/plain": [
       "                         Country  Green  NaN  Bluish-Green  Blue-Green\n",
       "0                       Ethiopia     15   27             2           0\n",
       "1                      Guatemala    159   13             7           2\n",
       "2                         Brazil     92   14            12          14\n",
       "3                           Peru      6    2             2           0\n",
       "4                  United States      1    9             0           0\n",
       "5         United States (Hawaii)     21   30            16           6\n",
       "6                          China     16    0             0           0\n",
       "7                     Costa Rica     28    4             9          10\n",
       "8                         Mexico    156   66             7           7\n",
       "9                         Uganda     32    1             1           2\n",
       "10                      Honduras     47    1             2           3\n",
       "11                        Taiwan     50    6             5          14\n",
       "12                     Nicaragua     19    5             2           0\n",
       "13  Tanzania, United Republic Of     32    1             7           0\n",
       "14                         Kenya     14    2             6           3\n",
       "15                      Thailand     10   12             7           3\n",
       "16                      Colombia    118   49             8           8\n",
       "17                        Panama      2    1             1           0\n",
       "18              Papua New Guinea      0    0             1           0\n",
       "19                   El Salvador      9    7             2           2\n",
       "20                     Indonesia      6    6             3           4\n",
       "21                         Japan      1    0             0           0\n",
       "22                       Ecuador      0    0             1           2\n",
       "23   United States (Puerto Rico)      3    0             1           0\n",
       "24                         Haiti      2    2             1           1\n",
       "25                       Burundi      1    1             0           0\n",
       "26                       Vietnam      3    4             1           0\n",
       "27                   Philippines      2    1             1           1\n",
       "28                        Rwanda      0    0             1           0\n",
       "29                        Malawi      6    0             4           1\n",
       "30                          Laos      1    0             1           1\n",
       "31                        Zambia      0    1             0           0\n",
       "32                       Myanmar      7    1             0           0\n",
       "33                     Mauritius      1    0             0           0\n",
       "34                 Cote d?Ivoire      0    0             1           0\n",
       "35                         India     10    1             2           1"
      ]
     },
     "execution_count": 43,
     "metadata": {},
     "output_type": "execute_result"
    }
   ],
   "source": [
    "color_table"
   ]
  },
  {
   "cell_type": "markdown",
   "id": "1a06b5f8-cd79-46d0-ad13-95ee622990f3",
   "metadata": {},
   "source": [
    "Now lets create the same for each continent:"
   ]
  },
  {
   "cell_type": "code",
   "execution_count": 44,
   "id": "42b85107-47f0-4d99-bd34-ea677957e666",
   "metadata": {},
   "outputs": [],
   "source": [
    "continents = [\"Europe\", \"North America\", \"South America\", \"Africa\", \"Asia\", \"Australia\", \"Antarctica\", \"Oceania\"]\n",
    "columns.remove(\"Country\")\n",
    "columns.insert(0, \"Continent\")\n",
    "continent_colors_table = pd.DataFrame(columns = columns)\n",
    "continent_colors_table[\"Continent\"] = continents\n",
    "for color in colors:\n",
    "    continent_colors_table[color] = 0"
   ]
  },
  {
   "cell_type": "markdown",
   "id": "105239c9-d7e7-42a4-a681-759a991b99cf",
   "metadata": {},
   "source": [
    "Now lets fill the color cells:"
   ]
  },
  {
   "cell_type": "code",
   "execution_count": 45,
   "id": "52ac408b-1716-4549-9030-5b4c9d402535",
   "metadata": {},
   "outputs": [],
   "source": [
    "countries_by_continent = {\"Europe\" : [],\n",
    "                          \"North America\" : [\"Guatemala\", \"United States\", \"United States(Hawaii)\", \"Costa Rica\", \"Mexico\", \"Honduras\", \"Nicaragua\", \"Panama\", \"El Salvador\", \"United States(Puerto Rico)\", \"Haiti\"],\n",
    "                          \"South America\" : [\"Brazil\", \"Peru\", \"Colombia\", \"Ecuador\"],\n",
    "                          \"Africa\" : [\"Ethiopia\", \"Tanzania, United Republic of\", \"Kenya\", \"Burundi\", \"Rwanda\", \"Malawi\", \"Zambia\", \"Myanmar\", \"Mauritius\", \"Cote d?Ivoire\"],\n",
    "                          \"Asia\" : [\"China\", \"Thailand\", \"Indonesia\", \"Japan\", \"Vietnam\", \"Philippines\", \"Laos\", \"India\"],\n",
    "                          \"Australia\" : [],\n",
    "                          \"Antarctica\" : [],\n",
    "                          \"Oceania\" : [\"Papua New Guinea\"]}\n",
    "\n",
    "for continent in continents:\n",
    "    for color in colors:\n",
    "        countries_in_continent = countries_by_continent[continent]\n",
    "        count = color_table[color_table[\"Country\"].isin(countries_in_continent)][color].sum()\n",
    "        \n",
    "        continent_colors_table.loc[continent_colors_table[\"Continent\"] == continent, color] += count"
   ]
  },
  {
   "cell_type": "markdown",
   "id": "299519d3-18a1-4ffd-b907-57975872ce16",
   "metadata": {},
   "source": [
    "Now lets see if we did it correctly:"
   ]
  },
  {
   "cell_type": "code",
   "execution_count": 46,
   "id": "0a310ffa-8e50-4623-a016-49f7e70c09f5",
   "metadata": {},
   "outputs": [
    {
     "data": {
      "text/html": [
       "<div>\n",
       "<style scoped>\n",
       "    .dataframe tbody tr th:only-of-type {\n",
       "        vertical-align: middle;\n",
       "    }\n",
       "\n",
       "    .dataframe tbody tr th {\n",
       "        vertical-align: top;\n",
       "    }\n",
       "\n",
       "    .dataframe thead th {\n",
       "        text-align: right;\n",
       "    }\n",
       "</style>\n",
       "<table border=\"1\" class=\"dataframe\">\n",
       "  <thead>\n",
       "    <tr style=\"text-align: right;\">\n",
       "      <th></th>\n",
       "      <th>Continent</th>\n",
       "      <th>Green</th>\n",
       "      <th>NaN</th>\n",
       "      <th>Bluish-Green</th>\n",
       "      <th>Blue-Green</th>\n",
       "    </tr>\n",
       "  </thead>\n",
       "  <tbody>\n",
       "    <tr>\n",
       "      <th>0</th>\n",
       "      <td>Europe</td>\n",
       "      <td>0</td>\n",
       "      <td>0</td>\n",
       "      <td>0</td>\n",
       "      <td>0</td>\n",
       "    </tr>\n",
       "    <tr>\n",
       "      <th>1</th>\n",
       "      <td>North America</td>\n",
       "      <td>423</td>\n",
       "      <td>108</td>\n",
       "      <td>31</td>\n",
       "      <td>25</td>\n",
       "    </tr>\n",
       "    <tr>\n",
       "      <th>2</th>\n",
       "      <td>South America</td>\n",
       "      <td>216</td>\n",
       "      <td>65</td>\n",
       "      <td>23</td>\n",
       "      <td>24</td>\n",
       "    </tr>\n",
       "    <tr>\n",
       "      <th>3</th>\n",
       "      <td>Africa</td>\n",
       "      <td>44</td>\n",
       "      <td>32</td>\n",
       "      <td>14</td>\n",
       "      <td>4</td>\n",
       "    </tr>\n",
       "    <tr>\n",
       "      <th>4</th>\n",
       "      <td>Asia</td>\n",
       "      <td>49</td>\n",
       "      <td>24</td>\n",
       "      <td>15</td>\n",
       "      <td>10</td>\n",
       "    </tr>\n",
       "    <tr>\n",
       "      <th>5</th>\n",
       "      <td>Australia</td>\n",
       "      <td>0</td>\n",
       "      <td>0</td>\n",
       "      <td>0</td>\n",
       "      <td>0</td>\n",
       "    </tr>\n",
       "    <tr>\n",
       "      <th>6</th>\n",
       "      <td>Antarctica</td>\n",
       "      <td>0</td>\n",
       "      <td>0</td>\n",
       "      <td>0</td>\n",
       "      <td>0</td>\n",
       "    </tr>\n",
       "    <tr>\n",
       "      <th>7</th>\n",
       "      <td>Oceania</td>\n",
       "      <td>0</td>\n",
       "      <td>0</td>\n",
       "      <td>1</td>\n",
       "      <td>0</td>\n",
       "    </tr>\n",
       "  </tbody>\n",
       "</table>\n",
       "</div>"
      ],
      "text/plain": [
       "       Continent  Green  NaN  Bluish-Green  Blue-Green\n",
       "0         Europe      0    0             0           0\n",
       "1  North America    423  108            31          25\n",
       "2  South America    216   65            23          24\n",
       "3         Africa     44   32            14           4\n",
       "4           Asia     49   24            15          10\n",
       "5      Australia      0    0             0           0\n",
       "6     Antarctica      0    0             0           0\n",
       "7        Oceania      0    0             1           0"
      ]
     },
     "execution_count": 46,
     "metadata": {},
     "output_type": "execute_result"
    }
   ],
   "source": [
    "continent_colors_table"
   ]
  },
  {
   "cell_type": "markdown",
   "id": "c62e30e9-4758-43f1-bf5f-23fd9242f8cd",
   "metadata": {},
   "source": [
    "Looks correct."
   ]
  },
  {
   "cell_type": "markdown",
   "id": "27095ced-7179-4ee4-94d3-7d94450b4120",
   "metadata": {},
   "source": [
    "### Problem 9. Ratings (1 point)\n",
    "The columns `Aroma`, `Flavor`, etc., up to `Moisture` represent subjective ratings. Explore them. Show the means and range; draw histograms and / or boxplots as needed. You can even try correlations if you want. What's up with all those ratings?"
   ]
  },
  {
   "cell_type": "markdown",
   "id": "ce4a4f59-a5f9-4833-86a6-a863926dbbe4",
   "metadata": {},
   "source": [
    "Lets look at only these three to see:"
   ]
  },
  {
   "cell_type": "code",
   "execution_count": 47,
   "id": "a80ef000-6ee1-4899-baa0-ca2ebba092b8",
   "metadata": {},
   "outputs": [
    {
     "data": {
      "text/html": [
       "<div>\n",
       "<style scoped>\n",
       "    .dataframe tbody tr th:only-of-type {\n",
       "        vertical-align: middle;\n",
       "    }\n",
       "\n",
       "    .dataframe tbody tr th {\n",
       "        vertical-align: top;\n",
       "    }\n",
       "\n",
       "    .dataframe thead th {\n",
       "        text-align: right;\n",
       "    }\n",
       "</style>\n",
       "<table border=\"1\" class=\"dataframe\">\n",
       "  <thead>\n",
       "    <tr style=\"text-align: right;\">\n",
       "      <th></th>\n",
       "      <th>aroma</th>\n",
       "      <th>flavor</th>\n",
       "      <th>moisture</th>\n",
       "    </tr>\n",
       "  </thead>\n",
       "  <tbody>\n",
       "    <tr>\n",
       "      <th>0</th>\n",
       "      <td>8.67</td>\n",
       "      <td>8.83</td>\n",
       "      <td>0.12</td>\n",
       "    </tr>\n",
       "    <tr>\n",
       "      <th>1</th>\n",
       "      <td>8.75</td>\n",
       "      <td>8.67</td>\n",
       "      <td>0.12</td>\n",
       "    </tr>\n",
       "    <tr>\n",
       "      <th>2</th>\n",
       "      <td>8.42</td>\n",
       "      <td>8.50</td>\n",
       "      <td>0.00</td>\n",
       "    </tr>\n",
       "    <tr>\n",
       "      <th>3</th>\n",
       "      <td>8.17</td>\n",
       "      <td>8.58</td>\n",
       "      <td>0.11</td>\n",
       "    </tr>\n",
       "    <tr>\n",
       "      <th>4</th>\n",
       "      <td>8.25</td>\n",
       "      <td>8.50</td>\n",
       "      <td>0.12</td>\n",
       "    </tr>\n",
       "    <tr>\n",
       "      <th>...</th>\n",
       "      <td>...</td>\n",
       "      <td>...</td>\n",
       "      <td>...</td>\n",
       "    </tr>\n",
       "    <tr>\n",
       "      <th>1334</th>\n",
       "      <td>7.75</td>\n",
       "      <td>7.58</td>\n",
       "      <td>0.00</td>\n",
       "    </tr>\n",
       "    <tr>\n",
       "      <th>1335</th>\n",
       "      <td>7.50</td>\n",
       "      <td>7.67</td>\n",
       "      <td>0.00</td>\n",
       "    </tr>\n",
       "    <tr>\n",
       "      <th>1336</th>\n",
       "      <td>7.33</td>\n",
       "      <td>7.33</td>\n",
       "      <td>0.00</td>\n",
       "    </tr>\n",
       "    <tr>\n",
       "      <th>1337</th>\n",
       "      <td>7.42</td>\n",
       "      <td>6.83</td>\n",
       "      <td>0.10</td>\n",
       "    </tr>\n",
       "    <tr>\n",
       "      <th>1338</th>\n",
       "      <td>6.75</td>\n",
       "      <td>6.67</td>\n",
       "      <td>0.12</td>\n",
       "    </tr>\n",
       "  </tbody>\n",
       "</table>\n",
       "<p>1336 rows × 3 columns</p>\n",
       "</div>"
      ],
      "text/plain": [
       "      aroma  flavor  moisture\n",
       "0      8.67    8.83      0.12\n",
       "1      8.75    8.67      0.12\n",
       "2      8.42    8.50      0.00\n",
       "3      8.17    8.58      0.11\n",
       "4      8.25    8.50      0.12\n",
       "...     ...     ...       ...\n",
       "1334   7.75    7.58      0.00\n",
       "1335   7.50    7.67      0.00\n",
       "1336   7.33    7.33      0.00\n",
       "1337   7.42    6.83      0.10\n",
       "1338   6.75    6.67      0.12\n",
       "\n",
       "[1336 rows x 3 columns]"
      ]
     },
     "execution_count": 47,
     "metadata": {},
     "output_type": "execute_result"
    }
   ],
   "source": [
    "coffee_data_tidy[[\"aroma\", \"flavor\", \"moisture\"]]"
   ]
  },
  {
   "cell_type": "markdown",
   "id": "5b90e7b7-8236-4c7f-b7c3-2c03d569236f",
   "metadata": {},
   "source": [
    "Lets see their mean values:"
   ]
  },
  {
   "cell_type": "code",
   "execution_count": 48,
   "id": "197e706f-9f06-4cb7-8b66-d0d5beee46c4",
   "metadata": {},
   "outputs": [
    {
     "name": "stdout",
     "output_type": "stream",
     "text": [
      "7.566362275449102\n",
      "7.520224550898204\n",
      "0.08847305389221556\n"
     ]
    }
   ],
   "source": [
    "print(coffee_data_tidy[\"aroma\"].mean())\n",
    "print(coffee_data_tidy[\"flavor\"].mean())\n",
    "print(coffee_data_tidy[\"moisture\"].mean())"
   ]
  },
  {
   "cell_type": "markdown",
   "id": "4bdf8428-7bd1-4ea4-b423-9b55d5df255b",
   "metadata": {},
   "source": [
    "We can see, that the means of aroma and flavour are really close to each other. Lets make histograms for them:"
   ]
  },
  {
   "cell_type": "code",
   "execution_count": 49,
   "id": "3db9e60a-c2d9-4b47-a152-a41dd0e52718",
   "metadata": {},
   "outputs": [
    {
     "data": {
      "image/png": "[encoded data removed]",
      "text/plain": [
       "<Figure size 640x480 with 1 Axes>"
      ]
     },
     "metadata": {},
     "output_type": "display_data"
    }
   ],
   "source": [
    "plt.hist(coffee_data_tidy[\"aroma\"], bins = 100, label = \"Aroma\", alpha = 0.6)\n",
    "plt.hist(coffee_data_tidy[\"flavor\"], bins = 100, label = \"Flavor\", alpha = 0.6)\n",
    "plt.show()"
   ]
  },
  {
   "cell_type": "markdown",
   "id": "0c984e5a-ba2c-465c-9492-b324b118cce1",
   "metadata": {},
   "source": [
    "As we can see, the two of them resemble a normal distribution with values, that are closely related to each other. Lets look at their correlation:"
   ]
  },
  {
   "cell_type": "code",
   "execution_count": 50,
   "id": "31f41235-9a4e-4275-a243-26d4e6c02f72",
   "metadata": {},
   "outputs": [
    {
     "data": {
      "text/plain": [
       "np.float64(0.8121345889000052)"
      ]
     },
     "execution_count": 50,
     "metadata": {},
     "output_type": "execute_result"
    }
   ],
   "source": [
    "coffee_data_tidy[\"aroma\"].corr(coffee_data_tidy[\"flavor\"])"
   ]
  },
  {
   "cell_type": "markdown",
   "id": "1a8e71a1-ace6-45a4-90f8-d3fff758b2d3",
   "metadata": {},
   "source": [
    "As we can see, the correlation is positive and very strong"
   ]
  },
  {
   "cell_type": "code",
   "execution_count": 51,
   "id": "4fd32e09-e3af-49c4-b04a-90c62e204917",
   "metadata": {},
   "outputs": [
    {
     "data": {
      "image/png": "[encoded data removed]",
      "text/plain": [
       "<Figure size 640x480 with 1 Axes>"
      ]
     },
     "metadata": {},
     "output_type": "display_data"
    }
   ],
   "source": [
    "plt.scatter(coffee_data_tidy[\"aroma\"], coffee_data_tidy[\"flavor\"], s = 5)\n",
    "plt.show()"
   ]
  },
  {
   "cell_type": "markdown",
   "id": "4db22398-68e2-47f5-a7d2-a41483a3c1fe",
   "metadata": {},
   "source": [
    "Except for a few potential outliars we can see a clear correlation between the values."
   ]
  },
  {
   "cell_type": "markdown",
   "id": "8778c912-070b-402e-b714-8ae892c07d0c",
   "metadata": {},
   "source": [
    "Now lets look for a correlation between these values and the moisture:"
   ]
  },
  {
   "cell_type": "code",
   "execution_count": 52,
   "id": "5c23ea66-fd95-4438-945a-f57467757bf3",
   "metadata": {},
   "outputs": [
    {
     "data": {
      "text/plain": [
       "np.float64(-0.13098390873601395)"
      ]
     },
     "execution_count": 52,
     "metadata": {},
     "output_type": "execute_result"
    }
   ],
   "source": [
    "coffee_data_tidy[\"aroma\"].corr(coffee_data_tidy[\"moisture\"])"
   ]
  },
  {
   "cell_type": "code",
   "execution_count": 53,
   "id": "6c715b6a-8bc5-495b-ab28-9c8273544bde",
   "metadata": {},
   "outputs": [
    {
     "data": {
      "text/plain": [
       "np.float64(-0.1428882314526904)"
      ]
     },
     "execution_count": 53,
     "metadata": {},
     "output_type": "execute_result"
    }
   ],
   "source": [
    "coffee_data_tidy[\"flavor\"].corr(coffee_data_tidy[\"moisture\"])"
   ]
  },
  {
   "cell_type": "markdown",
   "id": "3a9a8127-308c-4dd8-a41f-172fc278af0d",
   "metadata": {},
   "source": [
    "As we can see, there is no correlation between the two columns and the moisture."
   ]
  },
  {
   "cell_type": "markdown",
   "id": "92054218-978d-48c6-b7aa-36226837354c",
   "metadata": {},
   "source": [
    "### Problem 10. High-level errors (1 point)\n",
    "Check the countries against region names, altitudes, and companies. Are there any discrepancies (e.g. human errors, like a region not matching the country)? Take a look at the (cleaned) altitudes; there has been a lot of preprocessing done to them. Was it done correctly?"
   ]
  },
  {
   "cell_type": "markdown",
   "id": "b58a98e2-f01d-40bd-960a-4665c3888204",
   "metadata": {},
   "source": [
    "Lets check the altitutes:"
   ]
  },
  {
   "cell_type": "code",
   "execution_count": 54,
   "id": "4e8d72c1-7e19-47f3-9ee6-2bdd8a6c6fb4",
   "metadata": {},
   "outputs": [
    {
     "data": {
      "text/plain": [
       "array(['1950-2200', '1600 - 1800 m', '1800-2200', nan, '1570-1700',\n",
       "       '1795-1850', '1855-1955', 'meters above sea level: 1.872',\n",
       "       'meters above sea level: 1.943', '2000 ft',\n",
       "       'meters above sea level: 2.080', '1450', '1700-2000m',\n",
       "       'meters above sea level: 2.019', '1300 msnm', '1320',\n",
       "       'meters above sea level: 2.112', '1250m', '1950', '1400', '1200',\n",
       "       '1300', '1750-1800', '1800', 'meters above sea level: 1.941',\n",
       "       '1.2', '1000 m', '1754', '900-1500m', '1520m-2200m', '1400-1900m',\n",
       "       '1500-2000 m', '1400ft', '1400-1900', '1800 msnm', '1600',\n",
       "       '1800-2000', '5000', '4650', '1700 mts', '1500 meters',\n",
       "       '1300~1400 m.s.l', '1680', '1900m', '5600-5760 metros', '1700',\n",
       "       '1770', 'above 1600 m', 'above 1200 m', '1550 msnm', '1550',\n",
       "       '1250-1400 meter', '1400 msm', '2.560 msnm', '2136 msnm', '1900',\n",
       "       '-1', '1580', '1100m', '1400 masl', '3500-5200 feet',\n",
       "       'de 1600 a 1950 msnm', '800 m', '1620m', '1200m', '350',\n",
       "       '1450 msnm', '1200 mts', '800-1050m', '1350', '170', '1150',\n",
       "       '1750', '1750m', '2000', '4300', '1700-1850m', '1500', '5000 ft.',\n",
       "       '4000 psn', '1600 a 1900 msnm', '1750 msnm', '1450 ~ 1700 m',\n",
       "       '1300m', 'above 1100m', '2000 m', 'mmm', 'test', '900', '442 msnm',\n",
       "       '1200m to 1350m', '900-1200m', '3600-6200 ft', '4400-4700 ft',\n",
       "       '1000', '2560', '3607', '4000 psnm', '1170', '1700m', '3664',\n",
       "       '1565', '3280', 'de 900 a 1100 msnm', '1850', '1545-1668 masl',\n",
       "       '1530', \"approx. 1'500 metres a.s.l.\", '894m - 1183m',\n",
       "       '1500-1700m', '442', '968', '1480', '1800m', '5440 - 5760 metros',\n",
       "       '1550 m', '1260', '1700 msnm', '1650', '890', '934', '950公尺',\n",
       "       '2527', '1', '480-570m', '1650-1703', '1200-1400',\n",
       "       '800 meters above sea level', '1218', '1.250 m', '4921ft', '750',\n",
       "       '2800 ft', '1500-1600', '700', '1300 mts', '1600 m.s.n.m',\n",
       "       '1600 msnm', '1250', '800++', '1550-1700m', '4451 metros',\n",
       "       '1800 - 2000', '1100', '1200-1600masl', '3702',\n",
       "       'de 1.600 a 1.950 msnm', '1799', '4000', '1400m',\n",
       "       '1600 on average', '1850 msnm', '1400 mts', '940', '4600 ft.',\n",
       "       '439', '1330', '1813', '1500 msnm', '900-1200mtr', '1227',\n",
       "       '1650 msnm', '1100-1300', '4200 feet', '1000 msnm', '1880', '2100',\n",
       "       '1261', '800公尺', '1483', '175', '1600-1800msnm', '1880 msnm',\n",
       "       '1800 m.s.n.m', '1901', '16.8', '1500msnm', '1400-1900 psn',\n",
       "       \"approx.1'500 metres a.s.l.\", '1653', '1450 msnn', '5000 pies',\n",
       "       '532', '1089', '1380', '1000m', '950m', '900m', '1850 m', '905',\n",
       "       '700-800m', '1300 m', 'de 1.600 a 1.950 msn', '1300-1400m', '894',\n",
       "       '872', '1473', '1645', '1300 a 1800 metros sobre el nivel del mar',\n",
       "       '4500 pies', '900-1100', '1600 - 1950 msnm', '1500-1750 msnm',\n",
       "       '4500', '1050 - 1850 msnm', '775', '1200 masl',\n",
       "       '1600 + meters above sea level', '1059', '1300 meters',\n",
       "       '11000 metros', '5440-5760 metros', '1248', '1040m', '1400 m',\n",
       "       '1040', '4000psn', '1200-2000m', '1200 m', '1800 mts',\n",
       "       '1400 meter above sea level', '518', '650', '1442 m', '1.65',\n",
       "       '1400 thru 1850', '1200公尺', '1296', '1400- 1900', '1240 m', '950',\n",
       "       '1800 meters (5900', '1050', '200 m', '1200-1300m dpl',\n",
       "       '1400-1500 m', '1317', '900-1050m', '1679', '2285', 'huanuco',\n",
       "       '1560', '1750 m.s.n.m', '1396', '982', '1268', '5500 metros',\n",
       "       '1450 m', '600 m', '5500-6000 psnm', '441', '1200 a 1400', '1180m',\n",
       "       '650 m', '1338', '533', '4563', '1500-1800', '1200-1600m', '1144',\n",
       "       '1200-1400 masl', '1500 - 1700', '1.3', '944', '1300- 1400',\n",
       "       '2500m', '600m', '1400 m.s.n.m.', '600-700 m', '1050m', '1020',\n",
       "       '1300 a 1800 mtrs. a nivel del mar', '1877', '1000-1500m', '981',\n",
       "       '690', '973', '4001', '1350-1500', '1400 msnm', '700m', '1556m',\n",
       "       '1550 meters', 'de 1.600 a 1950 msnm', '900-950m',\n",
       "       '1600-1800 msnm', '774', '1200-1800m', '150 m', '750 m', '190164',\n",
       "       '800', '850 m', '4500-6000 feet', '160-200m', '4000 ft',\n",
       "       '1200 msm', '1599m', '900 m', '400-1250m', '1.25', '1050 - 1850',\n",
       "       '110公尺', '1422', '1550 mts.', '1550 meter', '763', '1130', '680',\n",
       "       '1400 msn', '5000 f', '100/2000', '1450 mals', '990-1000m', '0',\n",
       "       '695', '1100 m.o.s.l.', '5600 feet', '1456', '1500 mts', '1642',\n",
       "       '758m', '1350 snn', '1525 m', '1100 m', '200', '3500 ft', '550公尺',\n",
       "       'between 700 and 1400 meters', '688 m', '300 m', '1186', '1210',\n",
       "       '100', '3825', '1100.00 mosl', '1450 masl', '1680m',\n",
       "       '~1000 meters', '1200-1500', '1.85', '4540 metros', '50', '280',\n",
       "       '1250 m', '3800', '4000 p.s.n.m.', '6100 metros', '600公尺', '1450m',\n",
       "       '995', '3000 ft', '4287', '900 m.s.n.m.', '700 m', '808',\n",
       "       '1100 - 1275 mts', '850公尺', '250 m', '3845', '1300 to 1500 meters',\n",
       "       '1901.64', '800-1200', '500-700m', '1022', '975', '1264',\n",
       "       '3500 - 5200 feet', '700m公尺', '850', '12oo', '800m', '1600 meters',\n",
       "       '4000 p.s.n.m', '1200 meters', '750-800 m', '900-1500 masl',\n",
       "       '3500', '1000+ meters', '1280', '1140', '640m-1400m',\n",
       "       '1000 meters', '~350m', '1488', '3170', '1212', '1200-1300',\n",
       "       \"3000'\", '750m', '3140', '900-1300', '1095', '1367', '1745', '40',\n",
       "       '795 meters'], dtype=object)"
      ]
     },
     "execution_count": 54,
     "metadata": {},
     "output_type": "execute_result"
    }
   ],
   "source": [
    "coffee_data_tidy[\"altitude\"].unique()"
   ]
  },
  {
   "cell_type": "markdown",
   "id": "e92766b9-2e51-451a-9cd3-e4b1208f074f",
   "metadata": {},
   "source": [
    "Oh my God..."
   ]
  },
  {
   "cell_type": "markdown",
   "id": "3c3b5118-9f8e-45c2-a200-1be89fa4b3bf",
   "metadata": {},
   "source": [
    "### * Problem 11. Clean and explore at will\n",
    "The dataset claimed to be clean, but we were able to discover a lot of things to fix and do better.\n",
    "\n",
    "Play around with the data as much as you wish, and if you find variables to tidy up and clean - by all means, do that!"
   ]
  },
  {
   "cell_type": "markdown",
   "id": "1544eb50-48fd-40e3-9ab4-3ccc241cae51",
   "metadata": {},
   "source": []
  }
 ],
 "metadata": {
  "kernelspec": {
   "display_name": "Python 3 (ipykernel)",
   "language": "python",
   "name": "python3"
  },
  "language_info": {
   "codemirror_mode": {
    "name": "ipython",
    "version": 3
   },
   "file_extension": ".py",
   "mimetype": "text/x-python",
   "name": "python",
   "nbconvert_exporter": "python",
   "pygments_lexer": "ipython3",
   "version": "3.12.4"
  }
 },
 "nbformat": 4,
 "nbformat_minor": 5
}
